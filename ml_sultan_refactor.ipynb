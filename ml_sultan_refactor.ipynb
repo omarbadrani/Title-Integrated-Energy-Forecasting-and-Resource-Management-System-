{
 "cells": [
  {
   "cell_type": "markdown",
   "metadata": {
    "id": "ueEzoY_tFj5I",
    "pycharm": {
     "name": "#%% md\n"
    }
   },
   "source": [
    "issues to resolve\n",
    "\n",
    "1- fix the under development, there is an issue with the reserves (done)\n",
    "\n",
    "2- fix the producing, some countries go above 20 (DONE)\n",
    "\n",
    "3- fix the issue related to gap between full supply model and demand (DONE)\n",
    "\n",
    "3- incorporate cost models (DONE)\n",
    "\n",
    "4- calculate investment (DONE)\n",
    "\n",
    "5- Calculate cost curves\n",
    "\n",
    "6- create dashboard"
   ]
  },
  {
   "cell_type": "code",
   "execution_count": 1,
   "metadata": {
    "colab": {
     "base_uri": "https://localhost:8080/",
     "height": 748
    },
    "id": "eo3_zsWjgbGg",
    "outputId": "cf1c5ed8-e977-425e-c0f0-5b0e420d2d7a",
    "pycharm": {
     "name": "#%%\n"
    }
   },
   "outputs": [],
   "source": [
    "import pandas as pd\n",
    "\n",
    "\n",
    "raw_df = pd.read_excel(\"/Users/mycomputer/Desktop/supply/raw_updated_ytf.xlsx\")\n",
    "\n",
    "demand_df = pd.read_excel(\"/Users/mycomputer/Desktop/supply/demand.xlsx\")\n",
    "\n",
    "ud_df =  pd.read_excel(\"/Users/mycomputer/Desktop/supply/ud_updated.xlsx\")\n",
    "\n",
    "inflation_df =  pd.read_excel(\"/Users/mycomputer/Desktop/supply/inflation.xlsx\")\n",
    "\n",
    "final_cost_df = pd.read_excel(\"/Users/mycomputer/Desktop/supply/combined_cost.xlsx\")"
   ]
  },
  {
   "cell_type": "code",
   "execution_count": 2,
   "metadata": {
    "id": "GHpfzMLzLkdA",
    "pycharm": {
     "name": "#%%\n"
    }
   },
   "outputs": [],
   "source": [
    "TRL = 20\n",
    "CCOST = 35000\n",
    "DIST = 0.5"
   ]
  },
  {
   "cell_type": "markdown",
   "metadata": {},
   "source": [
    "TRL = TARGET RESERVES LIFE\n",
    "CCOST = CAPACITY COST\n",
    "DIST = DISTRIBUTION, USED TO DISTRIBUTE THE CAPACITY COST AND FIND COST OVER SPECIFIC NUMBER OF YEARS "
   ]
  },
  {
   "cell_type": "code",
   "execution_count": 3,
   "metadata": {
    "pycharm": {
     "name": "#%%\n"
    }
   },
   "outputs": [],
   "source": [
    "C_1_growth_rates = {\n",
    "    2024: 1.06,\n",
    "    2025: 1.06,\n",
    "    2026: 1.05,\n",
    "    2027: 1.04,\n",
    "    2028: 1.00,\n",
    "    2029: 0.96,\n",
    "    2030: 0.98,\n",
    "    2031: 1.00,\n",
    "    2032: 0.95\n",
    "}"
   ]
  },
  {
   "cell_type": "markdown",
   "metadata": {},
   "source": [
    "I put these rates because the country C_1 has clear plan of its supply in the next few years. "
   ]
  },
  {
   "cell_type": "code",
   "execution_count": 4,
   "metadata": {},
   "outputs": [],
   "source": [
    "# Use only rows with asset_type = \"producing\" for the year TRL23\n",
    "raw_df_producing = raw_df[raw_df['asset_type'] == \"producing\"]\n",
    "\n",
    "# Initialize the forecasted production dataframe with the production values of TRL23 for each country\n",
    "forecasted_production_df = raw_df_producing[['country', 'production']].copy()\n",
    "forecasted_production_df.columns = ['country', '2023']\n",
    "forecasted_production_df = forecasted_production_df.set_index('country')\n",
    "\n",
    "# Initialize the reserves dataframe to keep track of remaining reserves for each year\n",
    "forecasted_reserves_df = raw_df_producing[['country', 'reserves']].copy()\n",
    "forecasted_reserves_df.columns = ['country', '2023']\n",
    "forecasted_reserves_df = forecasted_reserves_df.set_index('country')\n",
    "\n",
    "# Dictionary to hold the last recorded reserves life for each country\n",
    "last_recorded_reserves_life = raw_df_producing.set_index('country')['reserves_life'].to_dict()\n",
    "\n"
   ]
  },
  {
   "cell_type": "code",
   "execution_count": 5,
   "metadata": {},
   "outputs": [],
   "source": [
    "for year in range(2024, 2051):\n",
    "    forecasted_production_df[str(year)] = None\n",
    "    forecasted_reserves_df[str(year)] = None\n",
    "    \n",
    "    for country in raw_df_producing['country']:\n",
    "        # Get the production and reserves for the country from the previous year.\n",
    "        production_prev_year = forecasted_production_df.at[country, str(year - 1)]\n",
    "        reserves_prev_year = forecasted_reserves_df.at[country, str(year - 1)]\n",
    "\n",
    "        # Calculate reserves life based on the previous year's data.\n",
    "        reserves_life_prev_year = reserves_prev_year / production_prev_year if production_prev_year > 0 else float('inf')  # avoid division by zero\n",
    "\n",
    "        if country == \"C_1\":\n",
    "            if year in C_1_growth_rates:\n",
    "                # Adjust the production based on the predefined growth rate.\n",
    "                forecasted_production_df.at[country, str(year)] = production_prev_year * C_1_growth_rates[year]\n",
    "            else:\n",
    "                # If no specific growth rate is defined, you might keep the production stable or apply a default rule.\n",
    "                forecasted_production_df.at[country, str(year)] = production_prev_year  # or apply a default rule\n",
    "        else:\n",
    "            # General rule for other fields.\n",
    "            if reserves_life_prev_year > TRL:\n",
    "                forecasted_production_df.at[country, str(year)] = production_prev_year * 1.2  # Increase by 10%\n",
    "            else:\n",
    "                # If the last recorded reserves life for the country was below TRL, maintain that reserves life.\n",
    "                if last_recorded_reserves_life[country] < TRL:\n",
    "                    new_production = reserves_prev_year / last_recorded_reserves_life[country]\n",
    "                    forecasted_production_df.at[country, str(year)] = min(new_production, reserves_prev_year)  # Ensure reserves don't go negative\n",
    "                else:\n",
    "                    # Gently adjust the production.\n",
    "                    target_reserves_life = min(TRL, last_recorded_reserves_life[country] + 1)  # Aim for a gradual increase.\n",
    "                    new_production = reserves_prev_year / target_reserves_life\n",
    "                    forecasted_production_df.at[country, str(year)] = min(new_production, reserves_prev_year)  # Ensure reserves don't go negative.\n",
    "\n",
    "        # Update reserves for the current year based on the new production values.\n",
    "        forecasted_reserves_df.at[country, str(year)] = reserves_prev_year - forecasted_production_df.at[country, str(year)]\n",
    "\n",
    "        # Update the last recorded reserves life for countries.\n",
    "        new_reserves_life = reserves_prev_year / forecasted_production_df.at[country, str(year)] if forecasted_production_df.at[country, str(year)] > 0 else float('inf')  # avoid division by zero\n",
    "        last_recorded_reserves_life[country] = new_reserves_life\n",
    "\n",
    "# Print or export your data after the loop, as needed.\n"
   ]
  },
  {
   "cell_type": "code",
   "execution_count": 6,
   "metadata": {
    "colab": {
     "base_uri": "https://localhost:8080/",
     "height": 607
    },
    "id": "YTpA-R9qgbGm",
    "outputId": "df73ac94-7360-4ccd-c151-02586302cca5",
    "pycharm": {
     "name": "#%%\n"
    }
   },
   "outputs": [
    {
     "data": {
      "image/png": "[encoded data removed]",
      "text/plain": [
       "<Figure size 1296x432 with 3 Axes>"
      ]
     },
     "metadata": {
      "needs_background": "light"
     },
     "output_type": "display_data"
    }
   ],
   "source": [
    "import matplotlib.pyplot as plt\n",
    "\n",
    "# Convert the dataframes to long format for easier merging\n",
    "production_long = forecasted_production_df.reset_index().melt(id_vars=['country'], var_name='year', value_name='production')\n",
    "reserves_long = forecasted_reserves_df.reset_index().melt(id_vars=['country'], var_name='year', value_name='reserves')\n",
    "\n",
    "# Merge the two DataFrames on 'year' and 'country'\n",
    "forecasted_producing_df = pd.merge(production_long, reserves_long, on=['year', 'country'])\n",
    "\n",
    "# Calculate reserves_life for each row\n",
    "forecasted_producing_df['reserves_life'] = forecasted_producing_df.apply(\n",
    "    lambda row: row['reserves'] / row['production'] if row['production'] != 0 else 0, axis=1\n",
    ")\n",
    "\n",
    "# Group data by year and sum up the production and reserves, and average the reserves life\n",
    "grouped_producing_df = forecasted_producing_df.groupby('year').agg({\n",
    "    'production': 'sum',\n",
    "    'reserves': 'sum',\n",
    "    'reserves_life': 'mean'  # taking the average of reserves life\n",
    "}).reset_index()\n",
    "\n",
    "# Plotting\n",
    "plt.figure(figsize=(18, 6))\n",
    "\n",
    "# Plot for Total Production\n",
    "plt.subplot(1, 3, 1)\n",
    "plt.plot(grouped_producing_df['year'], grouped_producing_df['production'], marker='o', linestyle='-')\n",
    "plt.title('Total Production for Producing Assets')\n",
    "plt.xlabel('Year')\n",
    "plt.ylabel('Total Production')\n",
    "\n",
    "# Plot for Total Reserves\n",
    "plt.subplot(1, 3, 2)\n",
    "plt.plot(grouped_producing_df['year'], grouped_producing_df['reserves'], marker='o', linestyle='-')\n",
    "plt.title('Total Reserves for Producing Assets')\n",
    "plt.xlabel('Year')\n",
    "plt.ylabel('Total Reserves')\n",
    "\n",
    "# Plot for Average Reserves Life\n",
    "plt.subplot(1, 3, 3)\n",
    "plt.plot(grouped_producing_df['year'], grouped_producing_df['reserves_life'], marker='o', linestyle='-')\n",
    "plt.title('Average Reserves Life for Producing Assets')\n",
    "plt.xlabel('Year')\n",
    "plt.ylabel('Average Reserves Life')\n",
    "\n",
    "plt.tight_layout()\n",
    "plt.show()\n"
   ]
  },
  {
   "cell_type": "code",
   "execution_count": 7,
   "metadata": {
    "colab": {
     "base_uri": "https://localhost:8080/"
    },
    "id": "kGBKVUomgbGr",
    "outputId": "ae0ee17a-c005-4d79-f66d-d432368a7551",
    "pycharm": {
     "name": "#%%\n"
    }
   },
   "outputs": [],
   "source": [
    "# Create a dictionary to store reserves for each country in TRL23 for 'ud' assets\n",
    "reserves_TRL23 = raw_df[(raw_df['asset_type'] == 'ud') & (raw_df['year'] == 2023)].set_index('country')['reserves'].to_dict()\n",
    "\n",
    "# Initialize an empty DataFrame to store the forecasted results for UD\n",
    "forecasted_ud_df = pd.DataFrame(columns=['year', 'country', 'production', 'reserves', 'reserves_life'])\n",
    "\n",
    "# Loop through each unique country in ud_df\n",
    "for country in ud_df['country'].unique():\n",
    "    # Filter data specific to the current country\n",
    "    country_data = ud_df[ud_df['country'] == country].sort_values(by='year')\n",
    "\n",
    "    # Initialize variables for current production\n",
    "    current_production = 0\n",
    "\n",
    "    # Get reserves for the current country from the reserves_TRL23 dictionary\n",
    "    current_reserves = reserves_TRL23.get(country, 0)\n",
    "\n",
    "    # Loop through each year from TRL24 to TRL50\n",
    "    for year in range(2024, 2051):\n",
    "        # If there's a project completing this year, add its production to the current production\n",
    "        if year in country_data['year'].values:\n",
    "            yearly_projects = country_data[country_data['year'] == year]\n",
    "            current_production += yearly_projects['production'].sum()\n",
    "\n",
    "        # Calculate reserves life for the current year\n",
    "        reserves_life = current_reserves / current_production if current_production > 0 else float('inf')\n",
    "\n",
    "        # If reserves life is less than TRL, adjust the production\n",
    "        if reserves_life < TRL:\n",
    "            current_production = current_reserves / TRL\n",
    "\n",
    "        # Update reserves based on production\n",
    "        current_reserves -= current_production\n",
    "\n",
    "        # Append the results to the forecasted_ud_df\n",
    "        forecasted_ud_df = forecasted_ud_df.append({\n",
    "            'year': year,\n",
    "            'country': country,\n",
    "            'production': current_production,\n",
    "            'reserves': current_reserves,\n",
    "            'reserves_life': reserves_life\n",
    "        }, ignore_index=True)\n",
    "\n",
    "# Calculate the difference between demand and the supply from producing assets\n",
    "\n",
    "# 1. Sum the production for each year from the producing assets\n",
    "total_supply_from_producing = forecasted_production_df.sum()\n",
    "\n",
    "# 2. Subtract the total production from the total demand d each year\n",
    "demand_supply_difference = demand_df.set_index('year')['demand'] - total_supply_from_producing\n",
    "\n",
    "# Convert the forecasted UD dataframe into a pivot table format for easier calculations\n",
    "forecasted_ud_production_df_pivot = forecasted_ud_df.pivot(index='country', columns='year', values='production')\n",
    "\n",
    "# Calculate the total supply (producing + UD) for each year\n",
    "total_supply_per_year = total_supply_from_producing + forecasted_ud_production_df_pivot.sum()\n",
    "\n",
    "# Calculate the excess supply for each year\n",
    "excess_supply_per_year = total_supply_per_year - demand_df.set_index('year')['demand']\n",
    "\n",
    "# Identify and adjust the UD production for years with excess supply\n",
    "for year, excess in excess_supply_per_year.items():\n",
    "    if excess > 0:\n",
    "        # Calculate the proportional reduction required\n",
    "        reduction_percentage = excess / forecasted_ud_production_df_pivot[year].sum()\n",
    "\n",
    "        # Apply the reduction to the UD production for that year\n",
    "        forecasted_ud_production_df_pivot[year] = forecasted_ud_production_df_pivot[year] * (1 - reduction_percentage)\n"
   ]
  },
  {
   "cell_type": "code",
   "execution_count": 8,
   "metadata": {
    "colab": {
     "base_uri": "https://localhost:8080/",
     "height": 607
    },
    "id": "_FS4w0Pl42Dg",
    "outputId": "d306274d-04bb-4b5d-c758-cc6413625c9a",
    "pycharm": {
     "name": "#%%\n"
    }
   },
   "outputs": [
    {
     "data": {
      "image/png": "[encoded data removed]",
      "text/plain": [
       "<Figure size 1296x432 with 3 Axes>"
      ]
     },
     "metadata": {
      "needs_background": "light"
     },
     "output_type": "display_data"
    }
   ],
   "source": [
    "import matplotlib.pyplot as plt\n",
    "\n",
    "# Assuming forecasted_ud_df is your DataFrame for UD assets\n",
    "# and it has columns ['year', 'country', 'production', 'reserves', 'reserves_life']\n",
    "\n",
    "# Group data by year and sum up the production and reserves, and average the reserves life\n",
    "grouped_ud_df = forecasted_ud_df.groupby('year').agg({\n",
    "    'production': 'sum',\n",
    "    'reserves': 'sum',\n",
    "    'reserves_life': 'mean'  # taking the average of reserves life\n",
    "}).reset_index()\n",
    "\n",
    "# Plotting\n",
    "plt.figure(figsize=(18, 6))\n",
    "\n",
    "# Plot for Total Production\n",
    "plt.subplot(1, 3, 1)\n",
    "plt.plot(grouped_ud_df['year'], grouped_ud_df['production'], marker='o', linestyle='-')\n",
    "plt.title('Total Production for UD Assets')\n",
    "plt.xlabel('Year')\n",
    "plt.ylabel('Total Production')\n",
    "\n",
    "# Plot for Total Reserves\n",
    "plt.subplot(1, 3, 2)\n",
    "plt.plot(grouped_ud_df['year'], grouped_ud_df['reserves'], marker='o', linestyle='-')\n",
    "plt.title('Total Reserves for UD Assets')\n",
    "plt.xlabel('Year')\n",
    "plt.ylabel('Total Reserves')\n",
    "\n",
    "# Plot for Average Reserves Life\n",
    "plt.subplot(1, 3, 3)\n",
    "plt.plot(grouped_ud_df['year'], grouped_ud_df['reserves_life'], marker='o', linestyle='-')\n",
    "plt.title('Average Reserves Life for UD Assets')\n",
    "plt.xlabel('Year')\n",
    "plt.ylabel('Average Reserves Life')\n",
    "\n",
    "plt.tight_layout()\n",
    "plt.show()\n"
   ]
  },
  {
   "cell_type": "code",
   "execution_count": 9,
   "metadata": {
    "colab": {
     "base_uri": "https://localhost:8080/",
     "height": 542
    },
    "id": "qht3kJyggbGs",
    "outputId": "04e373e2-064d-47ba-8c46-942feb436f64",
    "pycharm": {
     "name": "#%%\n"
    }
   },
   "outputs": [
    {
     "data": {
      "application/vnd.plotly.v1+json": {
       "config": {
        "plotlyServerURL": "https://plot.ly"
       },
       "data": [
        {
         "hoverinfo": "x+y",
         "mode": "lines",
         "name": "Producing",
         "stackgroup": "one",
         "type": "scatter",
         "x": [
          "2024",
          "2025",
          "2026",
          "2027",
          "2028",
          "2029",
          "2030",
          "2031",
          "2032",
          "2033",
          "2034",
          "2035",
          "2036",
          "2037",
          "2038",
          "2039",
          "2040",
          "2041",
          "2042",
          "2043",
          "2044",
          "2045",
          "2046",
          "2047",
          "2048",
          "2049",
          "2050"
         ],
         "y": [
          39110.81566231441,
          38214.727845210735,
          37728.90877727103,
          36026.28120802929,
          33787.90497499001,
          31417.171644749113,
          29334.098976023583,
          27510.8113925019,
          25598.905296823425,
          24068.49075005145,
          22664.347055638333,
          21374.828877469674,
          20189.460181368082,
          19098.80970975641,
          18094.380255267846,
          17168.51016096486,
          16314.285657825378,
          15525.462811474546,
          14796.397992391612,
          14121.98590929643,
          13497.604356126894,
          12919.064920725767,
          12382.568989612926,
          11884.668459390961,
          11422.230632617539,
          10992.406835430282,
          10592.604346756725
         ]
        },
        {
         "hoverinfo": "x+y",
         "mode": "lines",
         "name": "Under Development",
         "stackgroup": "one",
         "type": "scatter",
         "x": [
          "2024",
          "2025",
          "2026",
          "2027",
          "2028",
          "2029",
          "2030",
          "2031",
          "2032",
          "2033",
          "2034",
          "2035",
          "2036",
          "2037",
          "2038",
          "2039",
          "2040",
          "2041",
          "2042",
          "2043",
          "2044",
          "2045",
          "2046",
          "2047",
          "2048",
          "2049",
          "2050"
         ],
         "y": [
          451.19947205000005,
          561.4480255195001,
          594.2325058007751,
          574.4306745479862,
          602.236417375337,
          709.7676613893201,
          785.0129093833541,
          762.2693234331863,
          740.662916780527,
          720.1368304605008,
          700.6370484564757,
          682.112255552652,
          664.5137022940194,
          647.7950766983183,
          645.6240150874025,
          666.6754552572822,
          652.3413236371681,
          638.7238985980598,
          625.7873448109068,
          613.4976187131114,
          601.8223789202059,
          590.7309011169456,
          580.1939972038484,
          570.1839384864059,
          560.6743827048357,
          551.6403047123438,
          543.0579306194767
         ]
        }
       ],
       "layout": {
        "hovermode": "x unified",
        "template": {
         "data": {
          "bar": [
           {
            "error_x": {
             "color": "#2a3f5f"
            },
            "error_y": {
             "color": "#2a3f5f"
            },
            "marker": {
             "line": {
              "color": "#E5ECF6",
              "width": 0.5
             },
             "pattern": {
              "fillmode": "overlay",
              "size": 10,
              "solidity": 0.2
             }
            },
            "type": "bar"
           }
          ],
          "barpolar": [
           {
            "marker": {
             "line": {
              "color": "#E5ECF6",
              "width": 0.5
             },
             "pattern": {
              "fillmode": "overlay",
              "size": 10,
              "solidity": 0.2
             }
            },
            "type": "barpolar"
           }
          ],
          "carpet": [
           {
            "aaxis": {
             "endlinecolor": "#2a3f5f",
             "gridcolor": "white",
             "linecolor": "white",
             "minorgridcolor": "white",
             "startlinecolor": "#2a3f5f"
            },
            "baxis": {
             "endlinecolor": "#2a3f5f",
             "gridcolor": "white",
             "linecolor": "white",
             "minorgridcolor": "white",
             "startlinecolor": "#2a3f5f"
            },
            "type": "carpet"
           }
          ],
          "choropleth": [
           {
            "colorbar": {
             "outlinewidth": 0,
             "ticks": ""
            },
            "type": "choropleth"
           }
          ],
          "contour": [
           {
            "colorbar": {
             "outlinewidth": 0,
             "ticks": ""
            },
            "colorscale": [
             [
              0,
              "#0d0887"
             ],
             [
              0.1111111111111111,
              "#46039f"
             ],
             [
              0.2222222222222222,
              "#7201a8"
             ],
             [
              0.3333333333333333,
              "#9c179e"
             ],
             [
              0.4444444444444444,
              "#bd3786"
             ],
             [
              0.5555555555555556,
              "#d8576b"
             ],
             [
              0.6666666666666666,
              "#ed7953"
             ],
             [
              0.7777777777777778,
              "#fb9f3a"
             ],
             [
              0.8888888888888888,
              "#fdca26"
             ],
             [
              1,
              "#f0f921"
             ]
            ],
            "type": "contour"
           }
          ],
          "contourcarpet": [
           {
            "colorbar": {
             "outlinewidth": 0,
             "ticks": ""
            },
            "type": "contourcarpet"
           }
          ],
          "heatmap": [
           {
            "colorbar": {
             "outlinewidth": 0,
             "ticks": ""
            },
            "colorscale": [
             [
              0,
              "#0d0887"
             ],
             [
              0.1111111111111111,
              "#46039f"
             ],
             [
              0.2222222222222222,
              "#7201a8"
             ],
             [
              0.3333333333333333,
              "#9c179e"
             ],
             [
              0.4444444444444444,
              "#bd3786"
             ],
             [
              0.5555555555555556,
              "#d8576b"
             ],
             [
              0.6666666666666666,
              "#ed7953"
             ],
             [
              0.7777777777777778,
              "#fb9f3a"
             ],
             [
              0.8888888888888888,
              "#fdca26"
             ],
             [
              1,
              "#f0f921"
             ]
            ],
            "type": "heatmap"
           }
          ],
          "heatmapgl": [
           {
            "colorbar": {
             "outlinewidth": 0,
             "ticks": ""
            },
            "colorscale": [
             [
              0,
              "#0d0887"
             ],
             [
              0.1111111111111111,
              "#46039f"
             ],
             [
              0.2222222222222222,
              "#7201a8"
             ],
             [
              0.3333333333333333,
              "#9c179e"
             ],
             [
              0.4444444444444444,
              "#bd3786"
             ],
             [
              0.5555555555555556,
              "#d8576b"
             ],
             [
              0.6666666666666666,
              "#ed7953"
             ],
             [
              0.7777777777777778,
              "#fb9f3a"
             ],
             [
              0.8888888888888888,
              "#fdca26"
             ],
             [
              1,
              "#f0f921"
             ]
            ],
            "type": "heatmapgl"
           }
          ],
          "histogram": [
           {
            "marker": {
             "pattern": {
              "fillmode": "overlay",
              "size": 10,
              "solidity": 0.2
             }
            },
            "type": "histogram"
           }
          ],
          "histogram2d": [
           {
            "colorbar": {
             "outlinewidth": 0,
             "ticks": ""
            },
            "colorscale": [
             [
              0,
              "#0d0887"
             ],
             [
              0.1111111111111111,
              "#46039f"
             ],
             [
              0.2222222222222222,
              "#7201a8"
             ],
             [
              0.3333333333333333,
              "#9c179e"
             ],
             [
              0.4444444444444444,
              "#bd3786"
             ],
             [
              0.5555555555555556,
              "#d8576b"
             ],
             [
              0.6666666666666666,
              "#ed7953"
             ],
             [
              0.7777777777777778,
              "#fb9f3a"
             ],
             [
              0.8888888888888888,
              "#fdca26"
             ],
             [
              1,
              "#f0f921"
             ]
            ],
            "type": "histogram2d"
           }
          ],
          "histogram2dcontour": [
           {
            "colorbar": {
             "outlinewidth": 0,
             "ticks": ""
            },
            "colorscale": [
             [
              0,
              "#0d0887"
             ],
             [
              0.1111111111111111,
              "#46039f"
             ],
             [
              0.2222222222222222,
              "#7201a8"
             ],
             [
              0.3333333333333333,
              "#9c179e"
             ],
             [
              0.4444444444444444,
              "#bd3786"
             ],
             [
              0.5555555555555556,
              "#d8576b"
             ],
             [
              0.6666666666666666,
              "#ed7953"
             ],
             [
              0.7777777777777778,
              "#fb9f3a"
             ],
             [
              0.8888888888888888,
              "#fdca26"
             ],
             [
              1,
              "#f0f921"
             ]
            ],
            "type": "histogram2dcontour"
           }
          ],
          "mesh3d": [
           {
            "colorbar": {
             "outlinewidth": 0,
             "ticks": ""
            },
            "type": "mesh3d"
           }
          ],
          "parcoords": [
           {
            "line": {
             "colorbar": {
              "outlinewidth": 0,
              "ticks": ""
             }
            },
            "type": "parcoords"
           }
          ],
          "pie": [
           {
            "automargin": true,
            "type": "pie"
           }
          ],
          "scatter": [
           {
            "fillpattern": {
             "fillmode": "overlay",
             "size": 10,
             "solidity": 0.2
            },
            "type": "scatter"
           }
          ],
          "scatter3d": [
           {
            "line": {
             "colorbar": {
              "outlinewidth": 0,
              "ticks": ""
             }
            },
            "marker": {
             "colorbar": {
              "outlinewidth": 0,
              "ticks": ""
             }
            },
            "type": "scatter3d"
           }
          ],
          "scattercarpet": [
           {
            "marker": {
             "colorbar": {
              "outlinewidth": 0,
              "ticks": ""
             }
            },
            "type": "scattercarpet"
           }
          ],
          "scattergeo": [
           {
            "marker": {
             "colorbar": {
              "outlinewidth": 0,
              "ticks": ""
             }
            },
            "type": "scattergeo"
           }
          ],
          "scattergl": [
           {
            "marker": {
             "colorbar": {
              "outlinewidth": 0,
              "ticks": ""
             }
            },
            "type": "scattergl"
           }
          ],
          "scattermapbox": [
           {
            "marker": {
             "colorbar": {
              "outlinewidth": 0,
              "ticks": ""
             }
            },
            "type": "scattermapbox"
           }
          ],
          "scatterpolar": [
           {
            "marker": {
             "colorbar": {
              "outlinewidth": 0,
              "ticks": ""
             }
            },
            "type": "scatterpolar"
           }
          ],
          "scatterpolargl": [
           {
            "marker": {
             "colorbar": {
              "outlinewidth": 0,
              "ticks": ""
             }
            },
            "type": "scatterpolargl"
           }
          ],
          "scatterternary": [
           {
            "marker": {
             "colorbar": {
              "outlinewidth": 0,
              "ticks": ""
             }
            },
            "type": "scatterternary"
           }
          ],
          "surface": [
           {
            "colorbar": {
             "outlinewidth": 0,
             "ticks": ""
            },
            "colorscale": [
             [
              0,
              "#0d0887"
             ],
             [
              0.1111111111111111,
              "#46039f"
             ],
             [
              0.2222222222222222,
              "#7201a8"
             ],
             [
              0.3333333333333333,
              "#9c179e"
             ],
             [
              0.4444444444444444,
              "#bd3786"
             ],
             [
              0.5555555555555556,
              "#d8576b"
             ],
             [
              0.6666666666666666,
              "#ed7953"
             ],
             [
              0.7777777777777778,
              "#fb9f3a"
             ],
             [
              0.8888888888888888,
              "#fdca26"
             ],
             [
              1,
              "#f0f921"
             ]
            ],
            "type": "surface"
           }
          ],
          "table": [
           {
            "cells": {
             "fill": {
              "color": "#EBF0F8"
             },
             "line": {
              "color": "white"
             }
            },
            "header": {
             "fill": {
              "color": "#C8D4E3"
             },
             "line": {
              "color": "white"
             }
            },
            "type": "table"
           }
          ]
         },
         "layout": {
          "annotationdefaults": {
           "arrowcolor": "#2a3f5f",
           "arrowhead": 0,
           "arrowwidth": 1
          },
          "autotypenumbers": "strict",
          "coloraxis": {
           "colorbar": {
            "outlinewidth": 0,
            "ticks": ""
           }
          },
          "colorscale": {
           "diverging": [
            [
             0,
             "#8e0152"
            ],
            [
             0.1,
             "#c51b7d"
            ],
            [
             0.2,
             "#de77ae"
            ],
            [
             0.3,
             "#f1b6da"
            ],
            [
             0.4,
             "#fde0ef"
            ],
            [
             0.5,
             "#f7f7f7"
            ],
            [
             0.6,
             "#e6f5d0"
            ],
            [
             0.7,
             "#b8e186"
            ],
            [
             0.8,
             "#7fbc41"
            ],
            [
             0.9,
             "#4d9221"
            ],
            [
             1,
             "#276419"
            ]
           ],
           "sequential": [
            [
             0,
             "#0d0887"
            ],
            [
             0.1111111111111111,
             "#46039f"
            ],
            [
             0.2222222222222222,
             "#7201a8"
            ],
            [
             0.3333333333333333,
             "#9c179e"
            ],
            [
             0.4444444444444444,
             "#bd3786"
            ],
            [
             0.5555555555555556,
             "#d8576b"
            ],
            [
             0.6666666666666666,
             "#ed7953"
            ],
            [
             0.7777777777777778,
             "#fb9f3a"
            ],
            [
             0.8888888888888888,
             "#fdca26"
            ],
            [
             1,
             "#f0f921"
            ]
           ],
           "sequentialminus": [
            [
             0,
             "#0d0887"
            ],
            [
             0.1111111111111111,
             "#46039f"
            ],
            [
             0.2222222222222222,
             "#7201a8"
            ],
            [
             0.3333333333333333,
             "#9c179e"
            ],
            [
             0.4444444444444444,
             "#bd3786"
            ],
            [
             0.5555555555555556,
             "#d8576b"
            ],
            [
             0.6666666666666666,
             "#ed7953"
            ],
            [
             0.7777777777777778,
             "#fb9f3a"
            ],
            [
             0.8888888888888888,
             "#fdca26"
            ],
            [
             1,
             "#f0f921"
            ]
           ]
          },
          "colorway": [
           "#636efa",
           "#EF553B",
           "#00cc96",
           "#ab63fa",
           "#FFA15A",
           "#19d3f3",
           "#FF6692",
           "#B6E880",
           "#FF97FF",
           "#FECB52"
          ],
          "font": {
           "color": "#2a3f5f"
          },
          "geo": {
           "bgcolor": "white",
           "lakecolor": "white",
           "landcolor": "#E5ECF6",
           "showlakes": true,
           "showland": true,
           "subunitcolor": "white"
          },
          "hoverlabel": {
           "align": "left"
          },
          "hovermode": "closest",
          "mapbox": {
           "style": "light"
          },
          "paper_bgcolor": "white",
          "plot_bgcolor": "#E5ECF6",
          "polar": {
           "angularaxis": {
            "gridcolor": "white",
            "linecolor": "white",
            "ticks": ""
           },
           "bgcolor": "#E5ECF6",
           "radialaxis": {
            "gridcolor": "white",
            "linecolor": "white",
            "ticks": ""
           }
          },
          "scene": {
           "xaxis": {
            "backgroundcolor": "#E5ECF6",
            "gridcolor": "white",
            "gridwidth": 2,
            "linecolor": "white",
            "showbackground": true,
            "ticks": "",
            "zerolinecolor": "white"
           },
           "yaxis": {
            "backgroundcolor": "#E5ECF6",
            "gridcolor": "white",
            "gridwidth": 2,
            "linecolor": "white",
            "showbackground": true,
            "ticks": "",
            "zerolinecolor": "white"
           },
           "zaxis": {
            "backgroundcolor": "#E5ECF6",
            "gridcolor": "white",
            "gridwidth": 2,
            "linecolor": "white",
            "showbackground": true,
            "ticks": "",
            "zerolinecolor": "white"
           }
          },
          "shapedefaults": {
           "line": {
            "color": "#2a3f5f"
           }
          },
          "ternary": {
           "aaxis": {
            "gridcolor": "white",
            "linecolor": "white",
            "ticks": ""
           },
           "baxis": {
            "gridcolor": "white",
            "linecolor": "white",
            "ticks": ""
           },
           "bgcolor": "#E5ECF6",
           "caxis": {
            "gridcolor": "white",
            "linecolor": "white",
            "ticks": ""
           }
          },
          "title": {
           "x": 0.05
          },
          "xaxis": {
           "automargin": true,
           "gridcolor": "white",
           "linecolor": "white",
           "ticks": "",
           "title": {
            "standoff": 15
           },
           "zerolinecolor": "white",
           "zerolinewidth": 2
          },
          "yaxis": {
           "automargin": true,
           "gridcolor": "white",
           "linecolor": "white",
           "ticks": "",
           "title": {
            "standoff": 15
           },
           "zerolinecolor": "white",
           "zerolinewidth": 2
          }
         }
        },
        "title": {
         "text": "Total Production for All Years (Producing + Under Development)"
        },
        "xaxis": {
         "title": {
          "text": "Year"
         }
        },
        "yaxis": {
         "title": {
          "text": "Total Production"
         }
        }
       }
      }
     },
     "metadata": {},
     "output_type": "display_data"
    }
   ],
   "source": [
    "\n",
    "# PLOT\n",
    "import plotly.graph_objects as go\n",
    "\n",
    "# Convert year columns of both DataFrames to string\n",
    "forecasted_production_df.columns = forecasted_production_df.columns.astype(str)\n",
    "forecasted_ud_production_df_pivot.columns = forecasted_ud_production_df_pivot.columns.astype(str)\n",
    "\n",
    "# Proceed with the plotting code you have:\n",
    "\n",
    "common_years = list(set(forecasted_production_df.columns) & set(forecasted_ud_production_df_pivot.columns))\n",
    "common_years.sort()\n",
    "\n",
    "total_production = forecasted_production_df[common_years].sum()\n",
    "total_ud_production = forecasted_ud_production_df_pivot[common_years].sum()\n",
    "\n",
    "total_production.fillna(0, inplace=True)\n",
    "total_ud_production.fillna(0, inplace=True)\n",
    "\n",
    "total_production_array = total_production.to_numpy(dtype='float64')\n",
    "total_ud_production_array = total_ud_production.to_numpy(dtype='float64')\n",
    "\n",
    "# Create the figure\n",
    "fig = go.Figure()\n",
    "\n",
    "# Add traces for 'Producing' and 'Under Development'\n",
    "fig.add_trace(go.Scatter(x=common_years, y=total_production_array,\n",
    "                    hoverinfo='x+y',\n",
    "                    mode='lines',\n",
    "                    name='Producing',\n",
    "                    stackgroup='one'))\n",
    "fig.add_trace(go.Scatter(x=common_years, y=total_ud_production_array,\n",
    "                    hoverinfo='x+y',\n",
    "                    mode='lines',\n",
    "                    name='Under Development',\n",
    "                    stackgroup='one'))\n",
    "\n",
    "# Customize the layout\n",
    "fig.update_layout(\n",
    "    title=\"Total Production for All Years (Producing + Under Development)\",\n",
    "    xaxis_title=\"Year\",\n",
    "    yaxis_title=\"Total Production\",\n",
    "    hovermode=\"x unified\"  # Enable hover\n",
    ")\n",
    "\n",
    "# Show the figure\n",
    "fig.show()\n",
    "\n"
   ]
  },
  {
   "cell_type": "code",
   "execution_count": 10,
   "metadata": {
    "id": "EUg5zmlziD0b",
    "pycharm": {
     "name": "#%%\n"
    }
   },
   "outputs": [],
   "source": [
    "# Make sure 'year' column is of integer type\n",
    "demand_df['year'] = demand_df['year'].astype(int)\n",
    "\n",
    "# Loop through each year\n",
    "for year in range(2024, 2051):\n",
    "    # Fetch the demand for that year\n",
    "    try:\n",
    "        demand = demand_df.loc[demand_df['year'] == year, 'demand'].iloc[0]\n",
    "    except IndexError:\n",
    "        print(f\"No demand data found for year {year}\")\n",
    "        continue\n",
    "    # Your code for calculating deficit goes here\n"
   ]
  },
  {
   "cell_type": "code",
   "execution_count": 11,
   "metadata": {
    "colab": {
     "base_uri": "https://localhost:8080/"
    },
    "id": "EDRaUPPnnBfZ",
    "outputId": "3b441dd1-71fb-4cc9-bea5-bdc905a59dc4",
    "pycharm": {
     "name": "#%%\n"
    }
   },
   "outputs": [
    {
     "name": "stdout",
     "output_type": "stream",
     "text": [
      "      year       deficit\n",
      "0   2024.0  -1626.315134\n",
      "1   2025.0    -49.675871\n",
      "2   2026.0    834.058717\n",
      "3   2027.0   2987.188117\n",
      "4   2028.0   5628.458608\n",
      "5   2029.0   8322.360694\n",
      "6   2030.0  10760.888115\n",
      "7   2031.0  12782.119284\n",
      "8   2032.0  14890.831786\n",
      "9   2033.0  16616.972419\n",
      "10  2034.0  18215.815896\n",
      "11  2035.0  19699.058867\n",
      "12  2036.0  20975.026116\n",
      "13  2037.0  22155.395214\n",
      "14  2038.0  23234.995730\n",
      "15  2039.0  24212.814384\n",
      "16  2040.0  25154.373019\n",
      "17  2041.0  26000.613290\n",
      "18  2042.0  26786.414663\n",
      "19  2043.0  27516.916472\n",
      "20  2044.0  28196.773265\n",
      "21  2045.0  28830.204178\n",
      "22  2046.0  28939.237013\n",
      "23  2047.0  29009.147602\n",
      "24  2048.0  29043.094985\n",
      "25  2049.0  29043.952860\n",
      "26  2050.0  29014.337723\n"
     ]
    }
   ],
   "source": [
    "# Convert the forecasted UD dataframe into a pivot table format for easier calculations\n",
    "forecasted_ud_production_df_pivot = forecasted_ud_df.pivot(index='country', columns='year', values='production')\n",
    "\n",
    "# Initialize a DataFrame to store the deficit for each year\n",
    "deficit_df = pd.DataFrame(columns=['year', 'deficit'])\n",
    "\n",
    "# Loop through each year\n",
    "for year in range(2024, 2051):\n",
    "    year_str = str(year)\n",
    "\n",
    "    # Fetch the demand for that year\n",
    "    try:\n",
    "        demand = demand_df.loc[demand_df['year'] == year, 'demand'].iloc[0]\n",
    "    except IndexError:\n",
    "        print(f\"No demand data found for year {year}\")\n",
    "        continue\n",
    "\n",
    "    # Fetch the total production (from 'producing' assets) for that year\n",
    "    total_production = forecasted_production_df[year_str].sum()\n",
    "\n",
    "    # Fetch the total production (from 'under development' assets) for that year\n",
    "    total_ud_production = forecasted_ud_production_df_pivot[year].sum()\n",
    "\n",
    "    # Calculate the total supply\n",
    "    total_supply = total_production + total_ud_production\n",
    "\n",
    "    # Calculate the deficit\n",
    "    deficit = demand - total_supply\n",
    "\n",
    "    # Store the deficit for this year in the DataFrame\n",
    "    deficit_df = deficit_df.append({'year': year, 'deficit': deficit}, ignore_index=True)\n",
    "\n",
    "print(deficit_df)\n"
   ]
  },
  {
   "cell_type": "code",
   "execution_count": 12,
   "metadata": {},
   "outputs": [],
   "source": [
    "# Iterate through the years in your deficit dataframe.\n",
    "for index, row in deficit_df.iterrows():\n",
    "    year = int(row['year'])  # Ensure the year is an integer for indexing.\n",
    "    surplus_value = row['deficit']  # The surplus situation, indicated by a negative deficit.\n",
    "\n",
    "    # Check if there's a surplus, i.e., the deficit is negative.\n",
    "    if surplus_value < 0:\n",
    "        # The surplus is the absolute value of the negative deficit.\n",
    "        surplus_reduction = abs(surplus_value)\n",
    "\n",
    "        # Retrieve the current production level for \"C_30\".\n",
    "        current_production = forecasted_production_df.at[\"C_30\", str(year)]\n",
    "\n",
    "        # Make sure we don't reduce more than what's available. Avoid setting production to a negative value.\n",
    "        new_production = max(current_production - surplus_reduction, 0)\n",
    "\n",
    "        # Update the forecasted production dataframe with the new production level.\n",
    "        forecasted_production_df.at[\"C_30\", str(year)] = new_production\n",
    "\n",
    "        # This part is optional and depends on whether you're tracking changes in reserves.\n",
    "        current_reserves = forecasted_reserves_df.at[\"C_30\", str(year)]  # if you have such a dataframe\n",
    "        new_reserves = current_reserves + surplus_reduction  # since we're reducing production, reserves should increase\n",
    "        forecasted_reserves_df.at[\"C_30\", str(year)] = new_reserves  # if you have such a dataframe\n"
   ]
  },
  {
   "cell_type": "markdown",
   "metadata": {},
   "source": [
    "for the code above, i am trying to trim supply from producing asset, i chose one country, but can i distribute the trim on all the countries except C_1?"
   ]
  },
  {
   "cell_type": "code",
   "execution_count": 13,
   "metadata": {
    "colab": {
     "base_uri": "https://localhost:8080/"
    },
    "id": "RMaWHOxWapzO",
    "outputId": "ad0c3241-964d-4df8-e797-7844a1772e06",
    "pycharm": {
     "name": "#%%\n"
    }
   },
   "outputs": [
    {
     "name": "stderr",
     "output_type": "stream",
     "text": [
      "/Users/mycomputer/opt/anaconda3/lib/python3.9/site-packages/pandas/core/indexing.py:1817: SettingWithCopyWarning:\n",
      "\n",
      "\n",
      "A value is trying to be set on a copy of a slice from a DataFrame.\n",
      "Try using .loc[row_indexer,col_indexer] = value instead\n",
      "\n",
      "See the caveats in the documentation: https://pandas.pydata.org/pandas-docs/stable/user_guide/indexing.html#returning-a-view-versus-a-copy\n",
      "\n"
     ]
    },
    {
     "name": "stdout",
     "output_type": "stream",
     "text": [
      "      year country  production      reserves  reserves_life\n",
      "0     2024     C_1           0      0.100000            inf\n",
      "1     2024     C_2           0      0.000000            inf\n",
      "2     2024     C_3           0   8344.200000            inf\n",
      "3     2024     C_4           0  12293.200000            inf\n",
      "4     2024     C_5           0   6247.800000            inf\n",
      "...    ...     ...         ...           ...            ...\n",
      "1399  2050    C_48    5.653388    164.894950           20.0\n",
      "1400  2050    C_49   56.100135   1636.298209           20.0\n",
      "1401  2050    C_50    0.400382     11.678113           20.0\n",
      "1402  2050    C_51    4.278745    124.800097           20.0\n",
      "1403  2050    C_52  643.044877  18755.983066           20.0\n",
      "\n",
      "[1404 rows x 5 columns]\n"
     ]
    }
   ],
   "source": [
    "import pandas as pd\n",
    "\n",
    "# Initialize a DataFrame to store the forecasted production, reserves, and reserves life for 'Discovered' assets\n",
    "forecasted_discovered_df = pd.DataFrame(columns=['year', 'country', 'production', 'reserves', 'reserves_life'])\n",
    "\n",
    "# Filter raw_df to only include 'Discovered' assets for the year TRL23\n",
    "discovered_df = raw_df[(raw_df['asset_type'] == 'discovered') & (raw_df['year'] == 2023)]\n",
    "\n",
    "# This is a placeholder; replace it with the actual value.\n",
    "\n",
    "# Loop through each year from TRL24 to TRL50\n",
    "for year in range(2024, 2051):\n",
    "    # Fetch the deficit for that year from 'deficit_df'\n",
    "    try:\n",
    "        deficit = deficit_df.loc[deficit_df['year'] == year, 'deficit'].values[0]\n",
    "    except IndexError:\n",
    "        print(f\"No deficit data found for year {year}\")\n",
    "        deficit = 0  # Defaulting to zero in case of missing data\n",
    "\n",
    "    total_discovered_reserves = discovered_df['reserves'].sum()\n",
    "\n",
    "    # If there's a deficit, we proceed with calculations, otherwise, we set production and other metrics to zero.\n",
    "    if deficit > 0 and total_discovered_reserves > 0:\n",
    "        for country in discovered_df['country'].unique():\n",
    "            # Fetch the initial reserves for that country\n",
    "            initial_reserves = discovered_df.loc[discovered_df['country'] == country, 'reserves'].values[0]\n",
    "\n",
    "            # Calculate the production based on the proportion of total reserves and the deficit\n",
    "            production = (initial_reserves / total_discovered_reserves) * deficit\n",
    "\n",
    "            # Update reserves and calculate reserves life\n",
    "            reserves = initial_reserves - production\n",
    "            reserves_life = reserves / production if production > 0 else float('inf')\n",
    "\n",
    "            # If reserves life falls below TRL, adjust the production\n",
    "            if reserves_life < TRL:\n",
    "                production = reserves / TRL\n",
    "                reserves_life = TRL  # set reserves_life to TRL\n",
    "                reserves = initial_reserves - production  # update reserves after adjusting production\n",
    "\n",
    "            # Store the forecasted data for this year and country in the DataFrame\n",
    "            forecasted_discovered_df = forecasted_discovered_df.append({\n",
    "                'year': year,\n",
    "                'country': country,\n",
    "                'production': production,\n",
    "                'reserves': reserves,\n",
    "                'reserves_life': reserves_life\n",
    "            }, ignore_index=True)\n",
    "\n",
    "            # Update the reserves in 'discovered_df' for the next iteration\n",
    "            discovered_df.loc[discovered_df['country'] == country, 'reserves'] = reserves\n",
    "    else:\n",
    "        # For years with no deficit or no reserves, we set the production and related metrics to zero\n",
    "        for country in discovered_df['country'].unique():\n",
    "            forecasted_discovered_df = forecasted_discovered_df.append({\n",
    "                'year': year,\n",
    "                'country': country,\n",
    "                'production': 0,  # No production\n",
    "                'reserves': discovered_df.loc[discovered_df['country'] == country, 'reserves'].values[0],  # Unchanged reserves\n",
    "                'reserves_life': float('inf')  # Infinite reserves life as there's no production\n",
    "            }, ignore_index=True)\n",
    "\n",
    "# Display the forecasted DataFrame\n",
    "print(forecasted_discovered_df)\n"
   ]
  },
  {
   "cell_type": "code",
   "execution_count": 14,
   "metadata": {
    "colab": {
     "base_uri": "https://localhost:8080/",
     "height": 607
    },
    "id": "62DaxQ7kcIWo",
    "outputId": "1facf320-a410-4ccb-84ce-6c0c15074597",
    "pycharm": {
     "name": "#%%\n"
    }
   },
   "outputs": [
    {
     "data": {
      "image/png": "[encoded data removed]",
      "text/plain": [
       "<Figure size 1296x432 with 3 Axes>"
      ]
     },
     "metadata": {
      "needs_background": "light"
     },
     "output_type": "display_data"
    }
   ],
   "source": [
    "import matplotlib.pyplot as plt\n",
    "import numpy as np\n",
    "\n",
    "# Replace 'inf' with 'NaN'\n",
    "forecasted_discovered_df['reserves_life'].replace([np.inf, -np.inf], np.nan, inplace=True)\n",
    "\n",
    "# Group data by year and sum up the production and reserves, also mean for reserves_life\n",
    "grouped_df = forecasted_discovered_df.groupby('year').agg({\n",
    "    'production': 'sum',\n",
    "    'reserves': 'sum',\n",
    "    'reserves_life': 'mean'  # use mean or any other aggregation function that makes sense in your case\n",
    "}).reset_index()\n",
    "\n",
    "# Plotting\n",
    "plt.figure(figsize=(18, 6))\n",
    "\n",
    "# Plot Total Production\n",
    "plt.subplot(1, 3, 1)\n",
    "plt.plot(grouped_df['year'], grouped_df['production'], marker='o', linestyle='-')\n",
    "plt.title('Total Production for All Countries')\n",
    "plt.xlabel('Year')\n",
    "plt.ylabel('Total Production')\n",
    "\n",
    "# Plot Total Reserves\n",
    "plt.subplot(1, 3, 2)\n",
    "plt.plot(grouped_df['year'], grouped_df['reserves'], marker='o', linestyle='-')\n",
    "plt.title('Total Reserves for All Countries')\n",
    "plt.xlabel('Year')\n",
    "plt.ylabel('Total Reserves')\n",
    "\n",
    "# Plot Average Reserves Life\n",
    "plt.subplot(1, 3, 3)\n",
    "plt.plot(grouped_df['year'], grouped_df['reserves_life'], marker='o', linestyle='-')\n",
    "plt.title('Average Reserves Life for All Countries')\n",
    "plt.xlabel('Year')\n",
    "plt.ylabel('Average Reserves Life')\n",
    "\n",
    "plt.tight_layout()\n",
    "plt.show()\n"
   ]
  },
  {
   "cell_type": "code",
   "execution_count": 15,
   "metadata": {
    "colab": {
     "base_uri": "https://localhost:8080/",
     "height": 611
    },
    "id": "YXt51IU4cl3-",
    "outputId": "0cba6d6b-72da-4d07-a5cf-eae0605a4c4f",
    "pycharm": {
     "name": "#%%\n"
    }
   },
   "outputs": [
    {
     "data": {
      "application/vnd.plotly.v1+json": {
       "config": {
        "plotlyServerURL": "https://plot.ly"
       },
       "data": [
        {
         "hoverinfo": "x+y",
         "mode": "lines",
         "name": "Producing",
         "stackgroup": "one",
         "type": "scatter",
         "x": [
          "2024",
          "2025",
          "2026",
          "2027",
          "2028",
          "2029",
          "2030",
          "2031",
          "2032",
          "2033",
          "2034",
          "2035",
          "2036",
          "2037",
          "2038",
          "2039",
          "2040",
          "2041",
          "2042",
          "2043",
          "2044",
          "2045",
          "2046",
          "2047",
          "2048",
          "2049",
          "2050"
         ],
         "y": [
          37484.50052795,
          38165.0519744805,
          37728.90877727103,
          36026.28120802929,
          33787.90497499001,
          31417.171644749113,
          29334.098976023583,
          27510.8113925019,
          25598.905296823425,
          24068.49075005145,
          22664.347055638333,
          21374.828877469674,
          20189.460181368082,
          19098.80970975641,
          18094.380255267846,
          17168.51016096486,
          16314.285657825378,
          15525.462811474546,
          14796.397992391612,
          14121.98590929643,
          13497.604356126894,
          12919.064920725767,
          12382.568989612926,
          11884.668459390961,
          11422.230632617539,
          10992.406835430282,
          10592.604346756725
         ]
        },
        {
         "hoverinfo": "x+y",
         "mode": "lines",
         "name": "Under Development",
         "stackgroup": "one",
         "type": "scatter",
         "x": [
          "2024",
          "2025",
          "2026",
          "2027",
          "2028",
          "2029",
          "2030",
          "2031",
          "2032",
          "2033",
          "2034",
          "2035",
          "2036",
          "2037",
          "2038",
          "2039",
          "2040",
          "2041",
          "2042",
          "2043",
          "2044",
          "2045",
          "2046",
          "2047",
          "2048",
          "2049",
          "2050"
         ],
         "y": [
          451.19947205000005,
          561.4480255195001,
          594.2325058007751,
          574.4306745479862,
          602.236417375337,
          709.7676613893201,
          785.0129093833541,
          762.2693234331863,
          740.662916780527,
          720.1368304605008,
          700.6370484564757,
          682.112255552652,
          664.5137022940194,
          647.7950766983183,
          645.6240150874025,
          666.6754552572822,
          652.3413236371681,
          638.7238985980598,
          625.7873448109068,
          613.4976187131114,
          601.8223789202059,
          590.7309011169456,
          580.1939972038484,
          570.1839384864059,
          560.6743827048357,
          551.6403047123438,
          543.0579306194767
         ]
        },
        {
         "hoverinfo": "x+y",
         "mode": "lines",
         "name": "Discovered",
         "stackgroup": "one",
         "type": "scatter",
         "x": [
          "2024",
          "2025",
          "2026",
          "2027",
          "2028",
          "2029",
          "2030",
          "2031",
          "2032",
          "2033",
          "2034",
          "2035",
          "2036",
          "2037",
          "2038",
          "2039",
          "2040",
          "2041",
          "2042",
          "2043",
          "2044",
          "2045",
          "2046",
          "2047",
          "2048",
          "2049",
          "2050"
         ],
         "y": [
          0,
          0,
          834.0587169281862,
          2987.1881174227237,
          5628.458607634653,
          8322.36069386157,
          9264.332287477988,
          8700.0541146305,
          8159.6157837824185,
          7665.327962938696,
          7202.119390970904,
          6767.8512728687365,
          6365.660346757286,
          5988.358874559055,
          5634.960905026127,
          5304.321927068166,
          4992.027898976776,
          4700.114490458441,
          4425.818697292017,
          4168.002671967764,
          3925.609698721256,
          3697.6576681249726,
          3507.3231429674274,
          3328.4614563720856,
          3160.3410144257305,
          3002.2810699454567,
          2853.6477733098636
         ]
        }
       ],
       "layout": {
        "hovermode": "x unified",
        "template": {
         "data": {
          "bar": [
           {
            "error_x": {
             "color": "#2a3f5f"
            },
            "error_y": {
             "color": "#2a3f5f"
            },
            "marker": {
             "line": {
              "color": "#E5ECF6",
              "width": 0.5
             },
             "pattern": {
              "fillmode": "overlay",
              "size": 10,
              "solidity": 0.2
             }
            },
            "type": "bar"
           }
          ],
          "barpolar": [
           {
            "marker": {
             "line": {
              "color": "#E5ECF6",
              "width": 0.5
             },
             "pattern": {
              "fillmode": "overlay",
              "size": 10,
              "solidity": 0.2
             }
            },
            "type": "barpolar"
           }
          ],
          "carpet": [
           {
            "aaxis": {
             "endlinecolor": "#2a3f5f",
             "gridcolor": "white",
             "linecolor": "white",
             "minorgridcolor": "white",
             "startlinecolor": "#2a3f5f"
            },
            "baxis": {
             "endlinecolor": "#2a3f5f",
             "gridcolor": "white",
             "linecolor": "white",
             "minorgridcolor": "white",
             "startlinecolor": "#2a3f5f"
            },
            "type": "carpet"
           }
          ],
          "choropleth": [
           {
            "colorbar": {
             "outlinewidth": 0,
             "ticks": ""
            },
            "type": "choropleth"
           }
          ],
          "contour": [
           {
            "colorbar": {
             "outlinewidth": 0,
             "ticks": ""
            },
            "colorscale": [
             [
              0,
              "#0d0887"
             ],
             [
              0.1111111111111111,
              "#46039f"
             ],
             [
              0.2222222222222222,
              "#7201a8"
             ],
             [
              0.3333333333333333,
              "#9c179e"
             ],
             [
              0.4444444444444444,
              "#bd3786"
             ],
             [
              0.5555555555555556,
              "#d8576b"
             ],
             [
              0.6666666666666666,
              "#ed7953"
             ],
             [
              0.7777777777777778,
              "#fb9f3a"
             ],
             [
              0.8888888888888888,
              "#fdca26"
             ],
             [
              1,
              "#f0f921"
             ]
            ],
            "type": "contour"
           }
          ],
          "contourcarpet": [
           {
            "colorbar": {
             "outlinewidth": 0,
             "ticks": ""
            },
            "type": "contourcarpet"
           }
          ],
          "heatmap": [
           {
            "colorbar": {
             "outlinewidth": 0,
             "ticks": ""
            },
            "colorscale": [
             [
              0,
              "#0d0887"
             ],
             [
              0.1111111111111111,
              "#46039f"
             ],
             [
              0.2222222222222222,
              "#7201a8"
             ],
             [
              0.3333333333333333,
              "#9c179e"
             ],
             [
              0.4444444444444444,
              "#bd3786"
             ],
             [
              0.5555555555555556,
              "#d8576b"
             ],
             [
              0.6666666666666666,
              "#ed7953"
             ],
             [
              0.7777777777777778,
              "#fb9f3a"
             ],
             [
              0.8888888888888888,
              "#fdca26"
             ],
             [
              1,
              "#f0f921"
             ]
            ],
            "type": "heatmap"
           }
          ],
          "heatmapgl": [
           {
            "colorbar": {
             "outlinewidth": 0,
             "ticks": ""
            },
            "colorscale": [
             [
              0,
              "#0d0887"
             ],
             [
              0.1111111111111111,
              "#46039f"
             ],
             [
              0.2222222222222222,
              "#7201a8"
             ],
             [
              0.3333333333333333,
              "#9c179e"
             ],
             [
              0.4444444444444444,
              "#bd3786"
             ],
             [
              0.5555555555555556,
              "#d8576b"
             ],
             [
              0.6666666666666666,
              "#ed7953"
             ],
             [
              0.7777777777777778,
              "#fb9f3a"
             ],
             [
              0.8888888888888888,
              "#fdca26"
             ],
             [
              1,
              "#f0f921"
             ]
            ],
            "type": "heatmapgl"
           }
          ],
          "histogram": [
           {
            "marker": {
             "pattern": {
              "fillmode": "overlay",
              "size": 10,
              "solidity": 0.2
             }
            },
            "type": "histogram"
           }
          ],
          "histogram2d": [
           {
            "colorbar": {
             "outlinewidth": 0,
             "ticks": ""
            },
            "colorscale": [
             [
              0,
              "#0d0887"
             ],
             [
              0.1111111111111111,
              "#46039f"
             ],
             [
              0.2222222222222222,
              "#7201a8"
             ],
             [
              0.3333333333333333,
              "#9c179e"
             ],
             [
              0.4444444444444444,
              "#bd3786"
             ],
             [
              0.5555555555555556,
              "#d8576b"
             ],
             [
              0.6666666666666666,
              "#ed7953"
             ],
             [
              0.7777777777777778,
              "#fb9f3a"
             ],
             [
              0.8888888888888888,
              "#fdca26"
             ],
             [
              1,
              "#f0f921"
             ]
            ],
            "type": "histogram2d"
           }
          ],
          "histogram2dcontour": [
           {
            "colorbar": {
             "outlinewidth": 0,
             "ticks": ""
            },
            "colorscale": [
             [
              0,
              "#0d0887"
             ],
             [
              0.1111111111111111,
              "#46039f"
             ],
             [
              0.2222222222222222,
              "#7201a8"
             ],
             [
              0.3333333333333333,
              "#9c179e"
             ],
             [
              0.4444444444444444,
              "#bd3786"
             ],
             [
              0.5555555555555556,
              "#d8576b"
             ],
             [
              0.6666666666666666,
              "#ed7953"
             ],
             [
              0.7777777777777778,
              "#fb9f3a"
             ],
             [
              0.8888888888888888,
              "#fdca26"
             ],
             [
              1,
              "#f0f921"
             ]
            ],
            "type": "histogram2dcontour"
           }
          ],
          "mesh3d": [
           {
            "colorbar": {
             "outlinewidth": 0,
             "ticks": ""
            },
            "type": "mesh3d"
           }
          ],
          "parcoords": [
           {
            "line": {
             "colorbar": {
              "outlinewidth": 0,
              "ticks": ""
             }
            },
            "type": "parcoords"
           }
          ],
          "pie": [
           {
            "automargin": true,
            "type": "pie"
           }
          ],
          "scatter": [
           {
            "fillpattern": {
             "fillmode": "overlay",
             "size": 10,
             "solidity": 0.2
            },
            "type": "scatter"
           }
          ],
          "scatter3d": [
           {
            "line": {
             "colorbar": {
              "outlinewidth": 0,
              "ticks": ""
             }
            },
            "marker": {
             "colorbar": {
              "outlinewidth": 0,
              "ticks": ""
             }
            },
            "type": "scatter3d"
           }
          ],
          "scattercarpet": [
           {
            "marker": {
             "colorbar": {
              "outlinewidth": 0,
              "ticks": ""
             }
            },
            "type": "scattercarpet"
           }
          ],
          "scattergeo": [
           {
            "marker": {
             "colorbar": {
              "outlinewidth": 0,
              "ticks": ""
             }
            },
            "type": "scattergeo"
           }
          ],
          "scattergl": [
           {
            "marker": {
             "colorbar": {
              "outlinewidth": 0,
              "ticks": ""
             }
            },
            "type": "scattergl"
           }
          ],
          "scattermapbox": [
           {
            "marker": {
             "colorbar": {
              "outlinewidth": 0,
              "ticks": ""
             }
            },
            "type": "scattermapbox"
           }
          ],
          "scatterpolar": [
           {
            "marker": {
             "colorbar": {
              "outlinewidth": 0,
              "ticks": ""
             }
            },
            "type": "scatterpolar"
           }
          ],
          "scatterpolargl": [
           {
            "marker": {
             "colorbar": {
              "outlinewidth": 0,
              "ticks": ""
             }
            },
            "type": "scatterpolargl"
           }
          ],
          "scatterternary": [
           {
            "marker": {
             "colorbar": {
              "outlinewidth": 0,
              "ticks": ""
             }
            },
            "type": "scatterternary"
           }
          ],
          "surface": [
           {
            "colorbar": {
             "outlinewidth": 0,
             "ticks": ""
            },
            "colorscale": [
             [
              0,
              "#0d0887"
             ],
             [
              0.1111111111111111,
              "#46039f"
             ],
             [
              0.2222222222222222,
              "#7201a8"
             ],
             [
              0.3333333333333333,
              "#9c179e"
             ],
             [
              0.4444444444444444,
              "#bd3786"
             ],
             [
              0.5555555555555556,
              "#d8576b"
             ],
             [
              0.6666666666666666,
              "#ed7953"
             ],
             [
              0.7777777777777778,
              "#fb9f3a"
             ],
             [
              0.8888888888888888,
              "#fdca26"
             ],
             [
              1,
              "#f0f921"
             ]
            ],
            "type": "surface"
           }
          ],
          "table": [
           {
            "cells": {
             "fill": {
              "color": "#EBF0F8"
             },
             "line": {
              "color": "white"
             }
            },
            "header": {
             "fill": {
              "color": "#C8D4E3"
             },
             "line": {
              "color": "white"
             }
            },
            "type": "table"
           }
          ]
         },
         "layout": {
          "annotationdefaults": {
           "arrowcolor": "#2a3f5f",
           "arrowhead": 0,
           "arrowwidth": 1
          },
          "autotypenumbers": "strict",
          "coloraxis": {
           "colorbar": {
            "outlinewidth": 0,
            "ticks": ""
           }
          },
          "colorscale": {
           "diverging": [
            [
             0,
             "#8e0152"
            ],
            [
             0.1,
             "#c51b7d"
            ],
            [
             0.2,
             "#de77ae"
            ],
            [
             0.3,
             "#f1b6da"
            ],
            [
             0.4,
             "#fde0ef"
            ],
            [
             0.5,
             "#f7f7f7"
            ],
            [
             0.6,
             "#e6f5d0"
            ],
            [
             0.7,
             "#b8e186"
            ],
            [
             0.8,
             "#7fbc41"
            ],
            [
             0.9,
             "#4d9221"
            ],
            [
             1,
             "#276419"
            ]
           ],
           "sequential": [
            [
             0,
             "#0d0887"
            ],
            [
             0.1111111111111111,
             "#46039f"
            ],
            [
             0.2222222222222222,
             "#7201a8"
            ],
            [
             0.3333333333333333,
             "#9c179e"
            ],
            [
             0.4444444444444444,
             "#bd3786"
            ],
            [
             0.5555555555555556,
             "#d8576b"
            ],
            [
             0.6666666666666666,
             "#ed7953"
            ],
            [
             0.7777777777777778,
             "#fb9f3a"
            ],
            [
             0.8888888888888888,
             "#fdca26"
            ],
            [
             1,
             "#f0f921"
            ]
           ],
           "sequentialminus": [
            [
             0,
             "#0d0887"
            ],
            [
             0.1111111111111111,
             "#46039f"
            ],
            [
             0.2222222222222222,
             "#7201a8"
            ],
            [
             0.3333333333333333,
             "#9c179e"
            ],
            [
             0.4444444444444444,
             "#bd3786"
            ],
            [
             0.5555555555555556,
             "#d8576b"
            ],
            [
             0.6666666666666666,
             "#ed7953"
            ],
            [
             0.7777777777777778,
             "#fb9f3a"
            ],
            [
             0.8888888888888888,
             "#fdca26"
            ],
            [
             1,
             "#f0f921"
            ]
           ]
          },
          "colorway": [
           "#636efa",
           "#EF553B",
           "#00cc96",
           "#ab63fa",
           "#FFA15A",
           "#19d3f3",
           "#FF6692",
           "#B6E880",
           "#FF97FF",
           "#FECB52"
          ],
          "font": {
           "color": "#2a3f5f"
          },
          "geo": {
           "bgcolor": "white",
           "lakecolor": "white",
           "landcolor": "#E5ECF6",
           "showlakes": true,
           "showland": true,
           "subunitcolor": "white"
          },
          "hoverlabel": {
           "align": "left"
          },
          "hovermode": "closest",
          "mapbox": {
           "style": "light"
          },
          "paper_bgcolor": "white",
          "plot_bgcolor": "#E5ECF6",
          "polar": {
           "angularaxis": {
            "gridcolor": "white",
            "linecolor": "white",
            "ticks": ""
           },
           "bgcolor": "#E5ECF6",
           "radialaxis": {
            "gridcolor": "white",
            "linecolor": "white",
            "ticks": ""
           }
          },
          "scene": {
           "xaxis": {
            "backgroundcolor": "#E5ECF6",
            "gridcolor": "white",
            "gridwidth": 2,
            "linecolor": "white",
            "showbackground": true,
            "ticks": "",
            "zerolinecolor": "white"
           },
           "yaxis": {
            "backgroundcolor": "#E5ECF6",
            "gridcolor": "white",
            "gridwidth": 2,
            "linecolor": "white",
            "showbackground": true,
            "ticks": "",
            "zerolinecolor": "white"
           },
           "zaxis": {
            "backgroundcolor": "#E5ECF6",
            "gridcolor": "white",
            "gridwidth": 2,
            "linecolor": "white",
            "showbackground": true,
            "ticks": "",
            "zerolinecolor": "white"
           }
          },
          "shapedefaults": {
           "line": {
            "color": "#2a3f5f"
           }
          },
          "ternary": {
           "aaxis": {
            "gridcolor": "white",
            "linecolor": "white",
            "ticks": ""
           },
           "baxis": {
            "gridcolor": "white",
            "linecolor": "white",
            "ticks": ""
           },
           "bgcolor": "#E5ECF6",
           "caxis": {
            "gridcolor": "white",
            "linecolor": "white",
            "ticks": ""
           }
          },
          "title": {
           "x": 0.05
          },
          "xaxis": {
           "automargin": true,
           "gridcolor": "white",
           "linecolor": "white",
           "ticks": "",
           "title": {
            "standoff": 15
           },
           "zerolinecolor": "white",
           "zerolinewidth": 2
          },
          "yaxis": {
           "automargin": true,
           "gridcolor": "white",
           "linecolor": "white",
           "ticks": "",
           "title": {
            "standoff": 15
           },
           "zerolinecolor": "white",
           "zerolinewidth": 2
          }
         }
        },
        "title": {
         "text": "Total Production for All Years (Producing + Under Development + Discovered)"
        },
        "xaxis": {
         "title": {
          "text": "Year"
         }
        },
        "yaxis": {
         "title": {
          "text": "Total Production"
         }
        }
       }
      }
     },
     "metadata": {},
     "output_type": "display_data"
    }
   ],
   "source": [
    "import plotly.graph_objects as go\n",
    "\n",
    "# Pivot the forecasted_ud_df DataFrame for easier calculations\n",
    "forecasted_ud_production_df = forecasted_ud_df.pivot(index='country', columns='year', values='production')\n",
    "\n",
    "# Determine the common years across the dataframes\n",
    "common_years = list(set(forecasted_production_df.columns) & set(forecasted_ud_production_df.columns) & set(forecasted_discovered_df['year'].astype(str).unique()))\n",
    "\n",
    "# Ensure all years from TRL24 to TRL50 are in common_years\n",
    "all_years = [str(year) for year in range(2024, 2051)]\n",
    "for year in all_years:\n",
    "    if year not in common_years:\n",
    "        common_years.append(year)\n",
    "\n",
    "common_years.sort()\n",
    "\n",
    "# Standardize year columns to string type\n",
    "forecasted_production_df.columns = forecasted_production_df.columns.astype(str)\n",
    "forecasted_ud_production_df.columns = forecasted_ud_production_df.columns.astype(str)\n",
    "\n",
    "# Ensure all countries in forecasted_production_df are in forecasted_ud_production_df\n",
    "for country in forecasted_production_df.index:\n",
    "    if country not in forecasted_ud_production_df.index:\n",
    "        forecasted_ud_production_df.loc[country] = [0] * len(common_years)\n",
    "\n",
    "# Ensure all countries in forecasted_ud_production_df are in forecasted_production_df\n",
    "for country in forecasted_ud_production_df.index:\n",
    "    if country not in forecasted_production_df.index:\n",
    "        forecasted_production_df.loc[country] = [0] * len(common_years)\n",
    "\n",
    "# Ensure forecasted_discovered_df has all years\n",
    "for year in common_years:\n",
    "    if int(year) not in forecasted_discovered_df['year'].values:\n",
    "        new_data = {'year': int(year), 'country': 'Unknown', 'production': 0, 'reserves': 0, 'reserves_life': 0}\n",
    "        forecasted_discovered_df = forecasted_discovered_df.append(new_data, ignore_index=True)\n",
    "\n",
    "# Calculate the total production for each asset type and year\n",
    "total_production = forecasted_production_df[common_years].sum()\n",
    "total_ud_production = forecasted_ud_production_df[common_years].sum()\n",
    "total_discovered_production = forecasted_discovered_df.groupby('year')['production'].sum()\n",
    "\n",
    "# Handle NaNs\n",
    "total_production.fillna(0, inplace=True)\n",
    "total_ud_production.fillna(0, inplace=True)\n",
    "total_discovered_production.fillna(0, inplace=True)\n",
    "\n",
    "# Convert to NumPy arrays of type float64\n",
    "total_production_array = total_production.to_numpy(dtype='float64')\n",
    "total_ud_production_array = total_ud_production.to_numpy(dtype='float64')\n",
    "total_discovered_production_array = total_discovered_production.to_numpy(dtype='float64')\n",
    "\n",
    "# Create the figure\n",
    "fig = go.Figure()\n",
    "\n",
    "# Add traces for 'Producing', 'Under Development', and 'Discovered'\n",
    "fig.add_trace(go.Scatter(x=common_years, y=total_production_array, hoverinfo='x+y', mode='lines', name='Producing', stackgroup='one'))\n",
    "fig.add_trace(go.Scatter(x=common_years, y=total_ud_production_array, hoverinfo='x+y', mode='lines', name='Under Development', stackgroup='one'))\n",
    "fig.add_trace(go.Scatter(x=common_years, y=total_discovered_production_array, hoverinfo='x+y', mode='lines', name='Discovered', stackgroup='one'))\n",
    "\n",
    "# Customize the layout\n",
    "fig.update_layout(\n",
    "    title=\"Total Production for All Years (Producing + Under Development + Discovered)\",\n",
    "    xaxis_title=\"Year\",\n",
    "    yaxis_title=\"Total Production\",\n",
    "    hovermode=\"x unified\"\n",
    ")\n",
    "\n",
    "# Show the figure\n",
    "fig.show()\n"
   ]
  },
  {
   "cell_type": "code",
   "execution_count": 16,
   "metadata": {
    "colab": {
     "base_uri": "https://localhost:8080/"
    },
    "id": "ZjzgAIw40H7c",
    "outputId": "829c568f-5803-49d0-c3d5-869b928a13d3",
    "pycharm": {
     "name": "#%%\n"
    }
   },
   "outputs": [
    {
     "name": "stderr",
     "output_type": "stream",
     "text": [
      "/Users/mycomputer/opt/anaconda3/lib/python3.9/site-packages/pandas/core/indexing.py:1817: SettingWithCopyWarning:\n",
      "\n",
      "\n",
      "A value is trying to be set on a copy of a slice from a DataFrame.\n",
      "Try using .loc[row_indexer,col_indexer] = value instead\n",
      "\n",
      "See the caveats in the documentation: https://pandas.pydata.org/pandas-docs/stable/user_guide/indexing.html#returning-a-view-versus-a-copy\n",
      "\n"
     ]
    },
    {
     "name": "stdout",
     "output_type": "stream",
     "text": [
      "      year country   production       reserves  reserves_life\n",
      "0     2024     C_1            0       0.100000            inf\n",
      "1     2024     C_2            0   24218.850000            inf\n",
      "2     2024     C_3            0   60917.330000            inf\n",
      "3     2024     C_4            0   20461.130000            inf\n",
      "4     2024     C_5            0   24908.070000            inf\n",
      "...    ...     ...          ...            ...            ...\n",
      "1399  2050    C_48    82.129758    2220.901728      27.041377\n",
      "1400  2050    C_49  1178.728911   31874.452699      27.041377\n",
      "1401  2050    C_50    14.609884     395.071392      27.041377\n",
      "1402  2050    C_51   136.631769    3694.711151      27.041377\n",
      "1403  2050    C_52  6016.768593  162701.706931      27.041377\n",
      "\n",
      "[1404 rows x 5 columns]\n"
     ]
    }
   ],
   "source": [
    "import pandas as pd\n",
    "\n",
    "# Initialize a DataFrame to store the forecasted production, reserves, and reserves life for 'YTF' assets\n",
    "forecasted_ytf_df = pd.DataFrame(columns=['year', 'country', 'production', 'reserves', 'reserves_life'])\n",
    "\n",
    "# Filter raw_df to only include 'YTF' assets for the year TRL23\n",
    "ytf_df = raw_df[(raw_df['asset_type'] == 'ytf') & (raw_df['year'] == 2023)]\n",
    "\n",
    "# Loop through each year from TRL24 to TRL50\n",
    "for year in range(2024, 2051):\n",
    "    # Fetch the initial deficit for that year from 'deficit_df'\n",
    "    try:\n",
    "        initial_deficit = deficit_df.loc[deficit_df['year'] == year, 'deficit'].values[0]\n",
    "    except IndexError:\n",
    "        print(f\"No initial deficit data found for year {year}\")\n",
    "        continue\n",
    "\n",
    "    # Adjust the deficit to account for the production from discovered assets in forecasted_discovered_df\n",
    "    discovered_production_for_year = forecasted_discovered_df.loc[forecasted_discovered_df['year'] == year, 'production'].sum()\n",
    "    deficit = initial_deficit - discovered_production_for_year\n",
    "\n",
    "    if deficit > 0:\n",
    "        total_ytf_reserves = ytf_df['reserves'].sum()  # Calculate the total YTF reserves for that year\n",
    "    else:\n",
    "        deficit = 0  # No deficit means no need for additional production\n",
    "        total_ytf_reserves = 0  # Set the reserves to zero, as they won't be needed\n",
    "\n",
    "    # Loop through each country\n",
    "    for country in ytf_df['country'].unique():\n",
    "        # Fetch the initial reserves for that country\n",
    "        initial_reserves = ytf_df.loc[ytf_df['country'] == country, 'reserves'].values[0]\n",
    "\n",
    "        if deficit > 0:\n",
    "            # Calculate the production for that country based on its proportion of total reserves and the deficit\n",
    "            production = (initial_reserves / total_ytf_reserves) * deficit\n",
    "\n",
    "            # Update reserves and calculate reserves life\n",
    "            reserves = initial_reserves - production\n",
    "            reserves_life = reserves / production if production > 0 else float('inf')\n",
    "\n",
    "            # If reserves life falls below TRL, adjust the production\n",
    "            if reserves_life < TRL:\n",
    "                production = reserves / TRL\n",
    "                reserves_life = TRL  # set reserves_life to TRL\n",
    "                reserves = initial_reserves - production  # update reserves after adjusting production\n",
    "        else:\n",
    "            production = 0\n",
    "            reserves = initial_reserves  # Reserves remain unchanged\n",
    "            reserves_life = float('inf')  # Infinite reserves life as no production\n",
    "\n",
    "        # Store the forecasted data for this year and country in the DataFrame\n",
    "        forecasted_ytf_df = forecasted_ytf_df.append({\n",
    "            'year': year,\n",
    "            'country': country,\n",
    "            'production': production,\n",
    "            'reserves': reserves,\n",
    "            'reserves_life': reserves_life\n",
    "        }, ignore_index=True)\n",
    "\n",
    "        # Update the reserves in 'ytf_df' for the next iteration\n",
    "        ytf_df.loc[ytf_df['country'] == country, 'reserves'] = reserves\n",
    "\n",
    "# Display the forecasted DataFrame\n",
    "print(forecasted_ytf_df)\n"
   ]
  },
  {
   "cell_type": "code",
   "execution_count": 17,
   "metadata": {
    "colab": {
     "base_uri": "https://localhost:8080/",
     "height": 607
    },
    "id": "nx63m3n4mixb",
    "outputId": "95b7c9c7-f77f-424e-c6d2-7cfe2c862deb",
    "pycharm": {
     "name": "#%%\n"
    }
   },
   "outputs": [
    {
     "data": {
      "image/png": "[encoded data removed]",
      "text/plain": [
       "<Figure size 1296x432 with 3 Axes>"
      ]
     },
     "metadata": {
      "needs_background": "light"
     },
     "output_type": "display_data"
    }
   ],
   "source": [
    "import matplotlib.pyplot as plt\n",
    "\n",
    "# Assuming forecasted_ytf_df is your DataFrame\n",
    "# and it has columns ['year', 'country', 'production', 'reserves', 'reserves_life']\n",
    "\n",
    "# Group data by year and sum up the production, reserves, and average the reserves life\n",
    "grouped_ytf_df = forecasted_ytf_df.groupby('year').agg({\n",
    "    'production': 'sum',\n",
    "    'reserves': 'sum',\n",
    "    'reserves_life': 'mean'  # taking the average of reserves life\n",
    "}).reset_index()\n",
    "\n",
    "# Plotting\n",
    "plt.figure(figsize=(18, 6))\n",
    "\n",
    "# Plot for Total Production\n",
    "plt.subplot(1, 3, 1)\n",
    "plt.plot(grouped_ytf_df['year'], grouped_ytf_df['production'], marker='o', linestyle='-')\n",
    "plt.title('Total Production for YTF Assets')\n",
    "plt.xlabel('Year')\n",
    "plt.ylabel('Total Production')\n",
    "\n",
    "# Plot for Total Reserves\n",
    "plt.subplot(1, 3, 2)\n",
    "plt.plot(grouped_ytf_df['year'], grouped_ytf_df['reserves'], marker='o', linestyle='-')\n",
    "plt.title('Total Reserves for YTF Assets')\n",
    "plt.xlabel('Year')\n",
    "plt.ylabel('Total Reserves')\n",
    "\n",
    "# Plot for Average Reserves Life\n",
    "plt.subplot(1, 3, 3)\n",
    "plt.plot(grouped_ytf_df['year'], grouped_ytf_df['reserves_life'], marker='o', linestyle='-')\n",
    "plt.title('Average Reserves Life for YTF Assets')\n",
    "plt.xlabel('Year')\n",
    "plt.ylabel('Average Reserves Life')\n",
    "\n",
    "plt.tight_layout()\n",
    "plt.show()\n"
   ]
  },
  {
   "cell_type": "code",
   "execution_count": 18,
   "metadata": {
    "colab": {
     "base_uri": "https://localhost:8080/",
     "height": 542
    },
    "id": "7His2U28nGSr",
    "outputId": "6b992b7c-531b-4556-f69a-0caafe4dc98e",
    "pycharm": {
     "name": "#%%\n"
    }
   },
   "outputs": [
    {
     "data": {
      "application/vnd.plotly.v1+json": {
       "config": {
        "plotlyServerURL": "https://plot.ly"
       },
       "data": [
        {
         "hoverinfo": "x+y",
         "mode": "lines",
         "name": "Producing",
         "stackgroup": "one",
         "type": "scatter",
         "x": [
          "2024",
          "2025",
          "2026",
          "2027",
          "2028",
          "2029",
          "2030",
          "2031",
          "2032",
          "2033",
          "2034",
          "2035",
          "2036",
          "2037",
          "2038",
          "2039",
          "2040",
          "2041",
          "2042",
          "2043",
          "2044",
          "2045",
          "2046",
          "2047",
          "2048",
          "2049",
          "2050"
         ],
         "y": [
          37484.50052795,
          38165.0519744805,
          37728.90877727103,
          36026.28120802929,
          33787.90497499001,
          31417.171644749113,
          29334.098976023583,
          27510.8113925019,
          25598.905296823425,
          24068.49075005145,
          22664.347055638333,
          21374.828877469674,
          20189.460181368082,
          19098.80970975641,
          18094.380255267846,
          17168.51016096486,
          16314.285657825378,
          15525.462811474546,
          14796.397992391612,
          14121.98590929643,
          13497.604356126894,
          12919.064920725767,
          12382.568989612926,
          11884.668459390961,
          11422.230632617539,
          10992.406835430282,
          10592.604346756725
         ]
        },
        {
         "hoverinfo": "x+y",
         "mode": "lines",
         "name": "Under Development",
         "stackgroup": "one",
         "type": "scatter",
         "x": [
          "2024",
          "2025",
          "2026",
          "2027",
          "2028",
          "2029",
          "2030",
          "2031",
          "2032",
          "2033",
          "2034",
          "2035",
          "2036",
          "2037",
          "2038",
          "2039",
          "2040",
          "2041",
          "2042",
          "2043",
          "2044",
          "2045",
          "2046",
          "2047",
          "2048",
          "2049",
          "2050"
         ],
         "y": [
          451.19947205000005,
          561.4480255195001,
          594.2325058007751,
          574.4306745479862,
          602.236417375337,
          709.7676613893201,
          785.0129093833541,
          762.2693234331863,
          740.662916780527,
          720.1368304605008,
          700.6370484564757,
          682.112255552652,
          664.5137022940194,
          647.7950766983183,
          645.6240150874025,
          666.6754552572822,
          652.3413236371681,
          638.7238985980598,
          625.7873448109068,
          613.4976187131114,
          601.8223789202059,
          590.7309011169456,
          580.1939972038484,
          570.1839384864059,
          560.6743827048357,
          551.6403047123438,
          543.0579306194767
         ]
        },
        {
         "hoverinfo": "x+y",
         "mode": "lines",
         "name": "Discovered",
         "stackgroup": "one",
         "type": "scatter",
         "x": [
          "2024",
          "2025",
          "2026",
          "2027",
          "2028",
          "2029",
          "2030",
          "2031",
          "2032",
          "2033",
          "2034",
          "2035",
          "2036",
          "2037",
          "2038",
          "2039",
          "2040",
          "2041",
          "2042",
          "2043",
          "2044",
          "2045",
          "2046",
          "2047",
          "2048",
          "2049",
          "2050"
         ],
         "y": [
          0,
          0,
          834.0587169281862,
          2987.1881174227237,
          5628.458607634653,
          8322.36069386157,
          9264.332287477988,
          8700.0541146305,
          8159.6157837824185,
          7665.327962938696,
          7202.119390970904,
          6767.8512728687365,
          6365.660346757286,
          5988.358874559055,
          5634.960905026127,
          5304.321927068166,
          4992.027898976776,
          4700.114490458441,
          4425.818697292017,
          4168.002671967764,
          3925.609698721256,
          3697.6576681249726,
          3507.3231429674274,
          3328.4614563720856,
          3160.3410144257305,
          3002.2810699454567,
          2853.6477733098636
         ]
        },
        {
         "hoverinfo": "x+y",
         "mode": "lines",
         "name": "YTF",
         "stackgroup": "one",
         "type": "scatter",
         "x": [
          "2024",
          "2025",
          "2026",
          "2027",
          "2028",
          "2029",
          "2030",
          "2031",
          "2032",
          "2033",
          "2034",
          "2035",
          "2036",
          "2037",
          "2038",
          "2039",
          "2040",
          "2041",
          "2042",
          "2043",
          "2044",
          "2045",
          "2046",
          "2047",
          "2048",
          "2049",
          "2050"
         ],
         "y": [
          0,
          0,
          0,
          0,
          0,
          0,
          1496.5558271150762,
          4082.0651694344124,
          6731.216002613634,
          8951.64445654935,
          11013.69650493429,
          12931.20759410894,
          14609.365769580612,
          16167.036338986218,
          17600.034824618622,
          18908.492456709697,
          20162.345119560687,
          21300.498799468955,
          22360.595965505458,
          23348.913800022703,
          24271.16356623165,
          25132.546510032313,
          25431.913870215798,
          25680.686145750544,
          25882.753970251895,
          26041.67178991193,
          26160.689949313935
         ]
        },
        {
         "hoverinfo": "x+y",
         "line": {
          "dash": "dash",
          "width": 3
         },
         "mode": "lines",
         "name": "Demand",
         "type": "scatter",
         "x": [
          "2024",
          "2025",
          "2026",
          "2027",
          "2028",
          "2029",
          "2030",
          "2031",
          "2032",
          "2033",
          "2034",
          "2035",
          "2036",
          "2037",
          "2038",
          "2039",
          "2040",
          "2041",
          "2042",
          "2043",
          "2044",
          "2045",
          "2046",
          "2047",
          "2048",
          "2049",
          "2050"
         ],
         "y": [
          37935.7,
          38726.5,
          39157.2,
          39587.9,
          40018.6,
          40449.3,
          40880,
          41055.2,
          41230.4,
          41405.6,
          41580.8,
          41756,
          41829,
          41902,
          41975,
          42048,
          42121,
          42164.8,
          42208.6,
          42252.4,
          42296.2,
          42340,
          41902,
          41464,
          41026,
          40588,
          40150
         ]
        }
       ],
       "layout": {
        "hovermode": "x unified",
        "template": {
         "data": {
          "bar": [
           {
            "error_x": {
             "color": "#2a3f5f"
            },
            "error_y": {
             "color": "#2a3f5f"
            },
            "marker": {
             "line": {
              "color": "#E5ECF6",
              "width": 0.5
             },
             "pattern": {
              "fillmode": "overlay",
              "size": 10,
              "solidity": 0.2
             }
            },
            "type": "bar"
           }
          ],
          "barpolar": [
           {
            "marker": {
             "line": {
              "color": "#E5ECF6",
              "width": 0.5
             },
             "pattern": {
              "fillmode": "overlay",
              "size": 10,
              "solidity": 0.2
             }
            },
            "type": "barpolar"
           }
          ],
          "carpet": [
           {
            "aaxis": {
             "endlinecolor": "#2a3f5f",
             "gridcolor": "white",
             "linecolor": "white",
             "minorgridcolor": "white",
             "startlinecolor": "#2a3f5f"
            },
            "baxis": {
             "endlinecolor": "#2a3f5f",
             "gridcolor": "white",
             "linecolor": "white",
             "minorgridcolor": "white",
             "startlinecolor": "#2a3f5f"
            },
            "type": "carpet"
           }
          ],
          "choropleth": [
           {
            "colorbar": {
             "outlinewidth": 0,
             "ticks": ""
            },
            "type": "choropleth"
           }
          ],
          "contour": [
           {
            "colorbar": {
             "outlinewidth": 0,
             "ticks": ""
            },
            "colorscale": [
             [
              0,
              "#0d0887"
             ],
             [
              0.1111111111111111,
              "#46039f"
             ],
             [
              0.2222222222222222,
              "#7201a8"
             ],
             [
              0.3333333333333333,
              "#9c179e"
             ],
             [
              0.4444444444444444,
              "#bd3786"
             ],
             [
              0.5555555555555556,
              "#d8576b"
             ],
             [
              0.6666666666666666,
              "#ed7953"
             ],
             [
              0.7777777777777778,
              "#fb9f3a"
             ],
             [
              0.8888888888888888,
              "#fdca26"
             ],
             [
              1,
              "#f0f921"
             ]
            ],
            "type": "contour"
           }
          ],
          "contourcarpet": [
           {
            "colorbar": {
             "outlinewidth": 0,
             "ticks": ""
            },
            "type": "contourcarpet"
           }
          ],
          "heatmap": [
           {
            "colorbar": {
             "outlinewidth": 0,
             "ticks": ""
            },
            "colorscale": [
             [
              0,
              "#0d0887"
             ],
             [
              0.1111111111111111,
              "#46039f"
             ],
             [
              0.2222222222222222,
              "#7201a8"
             ],
             [
              0.3333333333333333,
              "#9c179e"
             ],
             [
              0.4444444444444444,
              "#bd3786"
             ],
             [
              0.5555555555555556,
              "#d8576b"
             ],
             [
              0.6666666666666666,
              "#ed7953"
             ],
             [
              0.7777777777777778,
              "#fb9f3a"
             ],
             [
              0.8888888888888888,
              "#fdca26"
             ],
             [
              1,
              "#f0f921"
             ]
            ],
            "type": "heatmap"
           }
          ],
          "heatmapgl": [
           {
            "colorbar": {
             "outlinewidth": 0,
             "ticks": ""
            },
            "colorscale": [
             [
              0,
              "#0d0887"
             ],
             [
              0.1111111111111111,
              "#46039f"
             ],
             [
              0.2222222222222222,
              "#7201a8"
             ],
             [
              0.3333333333333333,
              "#9c179e"
             ],
             [
              0.4444444444444444,
              "#bd3786"
             ],
             [
              0.5555555555555556,
              "#d8576b"
             ],
             [
              0.6666666666666666,
              "#ed7953"
             ],
             [
              0.7777777777777778,
              "#fb9f3a"
             ],
             [
              0.8888888888888888,
              "#fdca26"
             ],
             [
              1,
              "#f0f921"
             ]
            ],
            "type": "heatmapgl"
           }
          ],
          "histogram": [
           {
            "marker": {
             "pattern": {
              "fillmode": "overlay",
              "size": 10,
              "solidity": 0.2
             }
            },
            "type": "histogram"
           }
          ],
          "histogram2d": [
           {
            "colorbar": {
             "outlinewidth": 0,
             "ticks": ""
            },
            "colorscale": [
             [
              0,
              "#0d0887"
             ],
             [
              0.1111111111111111,
              "#46039f"
             ],
             [
              0.2222222222222222,
              "#7201a8"
             ],
             [
              0.3333333333333333,
              "#9c179e"
             ],
             [
              0.4444444444444444,
              "#bd3786"
             ],
             [
              0.5555555555555556,
              "#d8576b"
             ],
             [
              0.6666666666666666,
              "#ed7953"
             ],
             [
              0.7777777777777778,
              "#fb9f3a"
             ],
             [
              0.8888888888888888,
              "#fdca26"
             ],
             [
              1,
              "#f0f921"
             ]
            ],
            "type": "histogram2d"
           }
          ],
          "histogram2dcontour": [
           {
            "colorbar": {
             "outlinewidth": 0,
             "ticks": ""
            },
            "colorscale": [
             [
              0,
              "#0d0887"
             ],
             [
              0.1111111111111111,
              "#46039f"
             ],
             [
              0.2222222222222222,
              "#7201a8"
             ],
             [
              0.3333333333333333,
              "#9c179e"
             ],
             [
              0.4444444444444444,
              "#bd3786"
             ],
             [
              0.5555555555555556,
              "#d8576b"
             ],
             [
              0.6666666666666666,
              "#ed7953"
             ],
             [
              0.7777777777777778,
              "#fb9f3a"
             ],
             [
              0.8888888888888888,
              "#fdca26"
             ],
             [
              1,
              "#f0f921"
             ]
            ],
            "type": "histogram2dcontour"
           }
          ],
          "mesh3d": [
           {
            "colorbar": {
             "outlinewidth": 0,
             "ticks": ""
            },
            "type": "mesh3d"
           }
          ],
          "parcoords": [
           {
            "line": {
             "colorbar": {
              "outlinewidth": 0,
              "ticks": ""
             }
            },
            "type": "parcoords"
           }
          ],
          "pie": [
           {
            "automargin": true,
            "type": "pie"
           }
          ],
          "scatter": [
           {
            "fillpattern": {
             "fillmode": "overlay",
             "size": 10,
             "solidity": 0.2
            },
            "type": "scatter"
           }
          ],
          "scatter3d": [
           {
            "line": {
             "colorbar": {
              "outlinewidth": 0,
              "ticks": ""
             }
            },
            "marker": {
             "colorbar": {
              "outlinewidth": 0,
              "ticks": ""
             }
            },
            "type": "scatter3d"
           }
          ],
          "scattercarpet": [
           {
            "marker": {
             "colorbar": {
              "outlinewidth": 0,
              "ticks": ""
             }
            },
            "type": "scattercarpet"
           }
          ],
          "scattergeo": [
           {
            "marker": {
             "colorbar": {
              "outlinewidth": 0,
              "ticks": ""
             }
            },
            "type": "scattergeo"
           }
          ],
          "scattergl": [
           {
            "marker": {
             "colorbar": {
              "outlinewidth": 0,
              "ticks": ""
             }
            },
            "type": "scattergl"
           }
          ],
          "scattermapbox": [
           {
            "marker": {
             "colorbar": {
              "outlinewidth": 0,
              "ticks": ""
             }
            },
            "type": "scattermapbox"
           }
          ],
          "scatterpolar": [
           {
            "marker": {
             "colorbar": {
              "outlinewidth": 0,
              "ticks": ""
             }
            },
            "type": "scatterpolar"
           }
          ],
          "scatterpolargl": [
           {
            "marker": {
             "colorbar": {
              "outlinewidth": 0,
              "ticks": ""
             }
            },
            "type": "scatterpolargl"
           }
          ],
          "scatterternary": [
           {
            "marker": {
             "colorbar": {
              "outlinewidth": 0,
              "ticks": ""
             }
            },
            "type": "scatterternary"
           }
          ],
          "surface": [
           {
            "colorbar": {
             "outlinewidth": 0,
             "ticks": ""
            },
            "colorscale": [
             [
              0,
              "#0d0887"
             ],
             [
              0.1111111111111111,
              "#46039f"
             ],
             [
              0.2222222222222222,
              "#7201a8"
             ],
             [
              0.3333333333333333,
              "#9c179e"
             ],
             [
              0.4444444444444444,
              "#bd3786"
             ],
             [
              0.5555555555555556,
              "#d8576b"
             ],
             [
              0.6666666666666666,
              "#ed7953"
             ],
             [
              0.7777777777777778,
              "#fb9f3a"
             ],
             [
              0.8888888888888888,
              "#fdca26"
             ],
             [
              1,
              "#f0f921"
             ]
            ],
            "type": "surface"
           }
          ],
          "table": [
           {
            "cells": {
             "fill": {
              "color": "#EBF0F8"
             },
             "line": {
              "color": "white"
             }
            },
            "header": {
             "fill": {
              "color": "#C8D4E3"
             },
             "line": {
              "color": "white"
             }
            },
            "type": "table"
           }
          ]
         },
         "layout": {
          "annotationdefaults": {
           "arrowcolor": "#2a3f5f",
           "arrowhead": 0,
           "arrowwidth": 1
          },
          "autotypenumbers": "strict",
          "coloraxis": {
           "colorbar": {
            "outlinewidth": 0,
            "ticks": ""
           }
          },
          "colorscale": {
           "diverging": [
            [
             0,
             "#8e0152"
            ],
            [
             0.1,
             "#c51b7d"
            ],
            [
             0.2,
             "#de77ae"
            ],
            [
             0.3,
             "#f1b6da"
            ],
            [
             0.4,
             "#fde0ef"
            ],
            [
             0.5,
             "#f7f7f7"
            ],
            [
             0.6,
             "#e6f5d0"
            ],
            [
             0.7,
             "#b8e186"
            ],
            [
             0.8,
             "#7fbc41"
            ],
            [
             0.9,
             "#4d9221"
            ],
            [
             1,
             "#276419"
            ]
           ],
           "sequential": [
            [
             0,
             "#0d0887"
            ],
            [
             0.1111111111111111,
             "#46039f"
            ],
            [
             0.2222222222222222,
             "#7201a8"
            ],
            [
             0.3333333333333333,
             "#9c179e"
            ],
            [
             0.4444444444444444,
             "#bd3786"
            ],
            [
             0.5555555555555556,
             "#d8576b"
            ],
            [
             0.6666666666666666,
             "#ed7953"
            ],
            [
             0.7777777777777778,
             "#fb9f3a"
            ],
            [
             0.8888888888888888,
             "#fdca26"
            ],
            [
             1,
             "#f0f921"
            ]
           ],
           "sequentialminus": [
            [
             0,
             "#0d0887"
            ],
            [
             0.1111111111111111,
             "#46039f"
            ],
            [
             0.2222222222222222,
             "#7201a8"
            ],
            [
             0.3333333333333333,
             "#9c179e"
            ],
            [
             0.4444444444444444,
             "#bd3786"
            ],
            [
             0.5555555555555556,
             "#d8576b"
            ],
            [
             0.6666666666666666,
             "#ed7953"
            ],
            [
             0.7777777777777778,
             "#fb9f3a"
            ],
            [
             0.8888888888888888,
             "#fdca26"
            ],
            [
             1,
             "#f0f921"
            ]
           ]
          },
          "colorway": [
           "#636efa",
           "#EF553B",
           "#00cc96",
           "#ab63fa",
           "#FFA15A",
           "#19d3f3",
           "#FF6692",
           "#B6E880",
           "#FF97FF",
           "#FECB52"
          ],
          "font": {
           "color": "#2a3f5f"
          },
          "geo": {
           "bgcolor": "white",
           "lakecolor": "white",
           "landcolor": "#E5ECF6",
           "showlakes": true,
           "showland": true,
           "subunitcolor": "white"
          },
          "hoverlabel": {
           "align": "left"
          },
          "hovermode": "closest",
          "mapbox": {
           "style": "light"
          },
          "paper_bgcolor": "white",
          "plot_bgcolor": "#E5ECF6",
          "polar": {
           "angularaxis": {
            "gridcolor": "white",
            "linecolor": "white",
            "ticks": ""
           },
           "bgcolor": "#E5ECF6",
           "radialaxis": {
            "gridcolor": "white",
            "linecolor": "white",
            "ticks": ""
           }
          },
          "scene": {
           "xaxis": {
            "backgroundcolor": "#E5ECF6",
            "gridcolor": "white",
            "gridwidth": 2,
            "linecolor": "white",
            "showbackground": true,
            "ticks": "",
            "zerolinecolor": "white"
           },
           "yaxis": {
            "backgroundcolor": "#E5ECF6",
            "gridcolor": "white",
            "gridwidth": 2,
            "linecolor": "white",
            "showbackground": true,
            "ticks": "",
            "zerolinecolor": "white"
           },
           "zaxis": {
            "backgroundcolor": "#E5ECF6",
            "gridcolor": "white",
            "gridwidth": 2,
            "linecolor": "white",
            "showbackground": true,
            "ticks": "",
            "zerolinecolor": "white"
           }
          },
          "shapedefaults": {
           "line": {
            "color": "#2a3f5f"
           }
          },
          "ternary": {
           "aaxis": {
            "gridcolor": "white",
            "linecolor": "white",
            "ticks": ""
           },
           "baxis": {
            "gridcolor": "white",
            "linecolor": "white",
            "ticks": ""
           },
           "bgcolor": "#E5ECF6",
           "caxis": {
            "gridcolor": "white",
            "linecolor": "white",
            "ticks": ""
           }
          },
          "title": {
           "x": 0.05
          },
          "xaxis": {
           "automargin": true,
           "gridcolor": "white",
           "linecolor": "white",
           "ticks": "",
           "title": {
            "standoff": 15
           },
           "zerolinecolor": "white",
           "zerolinewidth": 2
          },
          "yaxis": {
           "automargin": true,
           "gridcolor": "white",
           "linecolor": "white",
           "ticks": "",
           "title": {
            "standoff": 15
           },
           "zerolinecolor": "white",
           "zerolinewidth": 2
          }
         }
        },
        "title": {
         "text": "Total Production for All Years (Producing + Under Development + Discovered + YTF)"
        },
        "xaxis": {
         "title": {
          "text": "Year"
         }
        },
        "yaxis": {
         "title": {
          "text": "Total Production"
         }
        }
       }
      }
     },
     "metadata": {},
     "output_type": "display_data"
    }
   ],
   "source": [
    "import plotly.graph_objects as go\n",
    "\n",
    "# Assuming forecasted_production_df, forecasted_ud_production_df, forecasted_discovered_df, and forecasted_ytf_df are your dataframes\n",
    "\n",
    "# Step 1: Ensure all DataFrames have the same columns (years)\n",
    "common_years = list(set(forecasted_production_df.columns) & set(forecasted_ud_production_df.columns) & set(forecasted_discovered_df['year'].astype(str).unique()) & set(forecasted_ytf_df['year'].astype(str).unique()))\n",
    "common_years.sort()\n",
    "\n",
    "# Step 2: Sum up the production for each year across all countries for all types of assets\n",
    "total_production = forecasted_production_df[common_years].sum()\n",
    "total_ud_production = forecasted_ud_production_df[common_years].sum()\n",
    "total_discovered_production = forecasted_discovered_df.groupby('year')['production'].sum()\n",
    "total_ytf_production = forecasted_ytf_df.groupby('year')['production'].sum()\n",
    "\n",
    "# Step 3: Handle NaNs if any\n",
    "total_production.fillna(0, inplace=True)\n",
    "total_ud_production.fillna(0, inplace=True)\n",
    "total_discovered_production.fillna(0, inplace=True)\n",
    "total_ytf_production.fillna(0, inplace=True)\n",
    "\n",
    "# Step 4: Convert demand 'year' column to string and filter to common_years\n",
    "demand_df['year'] = demand_df['year'].astype(str)\n",
    "demand_data = demand_df.loc[demand_df['year'].isin(common_years), 'demand']\n",
    "\n",
    "# Step 5: Convert to NumPy arrays of type float64\n",
    "total_production_array = total_production.to_numpy(dtype='float64')\n",
    "total_ud_production_array = total_ud_production.to_numpy(dtype='float64')\n",
    "total_discovered_production_array = total_discovered_production.to_numpy(dtype='float64')\n",
    "total_ytf_production_array = total_ytf_production.to_numpy(dtype='float64')\n",
    "\n",
    "# Create the figure\n",
    "fig = go.Figure()\n",
    "\n",
    "# Add traces for 'Producing', 'Under Development', 'Discovered', 'YTF', and 'Demand'\n",
    "fig.add_trace(go.Scatter(x=common_years, y=total_production_array,\n",
    "                    hoverinfo='x+y',\n",
    "                    mode='lines',\n",
    "                    name='Producing',\n",
    "                    stackgroup='one'))\n",
    "fig.add_trace(go.Scatter(x=common_years, y=total_ud_production_array,\n",
    "                    hoverinfo='x+y',\n",
    "                    mode='lines',\n",
    "                    name='Under Development',\n",
    "                    stackgroup='one'))\n",
    "fig.add_trace(go.Scatter(x=common_years, y=total_discovered_production_array,\n",
    "                    hoverinfo='x+y',\n",
    "                    mode='lines',\n",
    "                    name='Discovered',\n",
    "                    stackgroup='one'))\n",
    "fig.add_trace(go.Scatter(x=common_years, y=total_ytf_production_array,\n",
    "                    hoverinfo='x+y',\n",
    "                    mode='lines',\n",
    "                    name='YTF',\n",
    "                    stackgroup='one'))\n",
    "fig.add_trace(go.Scatter(x=common_years, y=demand_data,\n",
    "                    hoverinfo='x+y',\n",
    "                    mode='lines',\n",
    "                    name='Demand',\n",
    "                    line=dict(width=3, dash='dash')))\n",
    "\n",
    "# Customize the layout\n",
    "fig.update_layout(\n",
    "    title=\"Total Production for All Years (Producing + Under Development + Discovered + YTF)\",\n",
    "    xaxis_title=\"Year\",\n",
    "    yaxis_title=\"Total Production\",\n",
    "    hovermode=\"x unified\"  # Enable hover\n",
    ")\n",
    "\n",
    "# Show the figure\n",
    "fig.show()\n"
   ]
  },
  {
   "cell_type": "code",
   "execution_count": 19,
   "metadata": {
    "pycharm": {
     "name": "#%%\n"
    }
   },
   "outputs": [],
   "source": [
    "import pandas as pd\n",
    "\n",
    "# Create DataFrame with data\n",
    "export_data = pd.DataFrame({\n",
    "    'Year': common_years,\n",
    "    'Producing': total_production_array,\n",
    "    'Under Development': total_ud_production_array,\n",
    "    'Discovered': total_discovered_production_array,\n",
    "    'YTF': total_ytf_production_array,\n",
    "    'Demand': demand_data.to_numpy(dtype='float64')  # assuming demand_data is a Series\n",
    "})\n",
    "\n",
    "# Export DataFrame to CSV\n",
    "export_data.to_csv('stacked_data_export.csv', index=False)\n"
   ]
  },
  {
   "cell_type": "code",
   "execution_count": 20,
   "metadata": {
    "colab": {
     "base_uri": "https://localhost:8080/"
    },
    "id": "fyXEWbJNo-fO",
    "outputId": "32d99084-e33f-4356-ef00-13cb8cbe2989",
    "pycharm": {
     "name": "#%%\n"
    }
   },
   "outputs": [
    {
     "name": "stdout",
     "output_type": "stream",
     "text": [
      "     country  year    producing under_development  discovered          ytf\n",
      "0        C_1  2024  4449.350000                 0           0            0\n",
      "1        C_1  2025  4716.311000                 0           0            0\n",
      "2        C_1  2026  4952.126550                 0     0.00039            0\n",
      "3        C_1  2027  5150.211612                 0    0.001397            0\n",
      "4        C_1  2028  5150.211612                 0    0.002632            0\n",
      "...      ...   ...          ...               ...         ...          ...\n",
      "1399    C_52  2046   980.953729                 0  790.344976   5849.15539\n",
      "1400    C_52  2047   892.697520                 0   750.04004  5906.371206\n",
      "1401    C_52  2048   812.381704                 0   712.15555  5952.845337\n",
      "1402    C_52  2049   739.291886                 0  676.538107  5989.395281\n",
      "1403    C_52  2050   672.777944                 0  643.044877  6016.768593\n",
      "\n",
      "[1404 rows x 6 columns]\n"
     ]
    }
   ],
   "source": [
    "# Ensure all DataFrames have the same columns (years)\n",
    "common_years = list(set(forecasted_production_df.columns) & set(forecasted_ud_production_df.columns) & set(forecasted_discovered_df['year'].astype(str).unique()) & set(forecasted_ytf_df['year'].astype(str).unique()))\n",
    "common_years.sort()\n",
    "\n",
    "# Create an empty dataframe to store combined production data\n",
    "combined_production_df = pd.DataFrame(columns=['country', 'year', 'producing', 'under_development', 'discovered', 'ytf'])\n",
    "\n",
    "# Iterate through each country and year to populate the dataframe\n",
    "countries = forecasted_production_df.index\n",
    "for country in countries:\n",
    "    for year in common_years:\n",
    "        producing_value = forecasted_production_df.loc[country, str(year)]\n",
    "        ud_value = forecasted_ud_production_df.loc[country, str(year)]\n",
    "        discovered_value = forecasted_discovered_df.loc[forecasted_discovered_df['country'] == country].set_index('year').loc[int(year), 'production']\n",
    "        ytf_value = forecasted_ytf_df.loc[forecasted_ytf_df['country'] == country].set_index('year').loc[int(year), 'production']\n",
    "\n",
    "        combined_production_df = combined_production_df.append({\n",
    "            'country': country,\n",
    "            'year': year,\n",
    "            'producing': producing_value,\n",
    "            'under_development': ud_value,\n",
    "            'discovered': discovered_value,\n",
    "            'ytf': ytf_value\n",
    "        }, ignore_index=True)\n",
    "\n",
    "# Display the dataframe for examination\n",
    "print(combined_production_df)\n"
   ]
  },
  {
   "cell_type": "code",
   "execution_count": 21,
   "metadata": {
    "pycharm": {
     "name": "#%%\n"
    }
   },
   "outputs": [
    {
     "name": "stdout",
     "output_type": "stream",
     "text": [
      "             2023      2024       2025        2026         2027         2028  \\\n",
      "country                                                                        \n",
      "C_1      4197.500   4449.35   4716.311  4952.12655  5150.211612  5150.211612   \n",
      "C_2       955.935  1147.122  1376.5464  1651.85568  1559.924616  1473.109811   \n",
      "C_3      1625.345  1950.414  2340.4968  2808.59616   2659.35137  2518.037234   \n",
      "C_4       311.710   374.052   448.8624   538.63488   646.361856   612.478763   \n",
      "C_5       609.550    731.46    877.752   1053.3024   995.246584   940.390683   \n",
      "\n",
      "                2029         2030         2031         2032  ...         2041  \\\n",
      "country                                                      ...                \n",
      "C_1      4944.203148  4845.319085  4845.319085   4603.05313  ...   4603.05313   \n",
      "C_2      1391.126528  1313.705878  1240.593935  1171.550906  ...   699.752983   \n",
      "C_3       2384.23233  2257.537628  2137.575301  2023.987601  ...  1238.185383   \n",
      "C_4       580.371863   549.948047   521.119086   493.801374  ...   304.151617   \n",
      "C_5       888.558324   839.582855   793.306812   749.581406  ...   450.005065   \n",
      "\n",
      "                2042        2043         2044        2045        2046  \\\n",
      "country                                                                 \n",
      "C_1       4603.05313  4603.05313   4603.05313  4603.05313  4603.05313   \n",
      "C_2       660.809487  624.033321   589.303866  556.507217  525.535806   \n",
      "C_3      1172.389979  1110.09085  1051.102207  995.248136  942.362071   \n",
      "C_4        288.20761  273.099408   258.783197   245.21746  232.362855   \n",
      "C_5       425.201731  401.765505   379.621034   358.69712  338.926488   \n",
      "\n",
      "               2047        2048        2049        2050  \n",
      "country                                                  \n",
      "C_1      4603.05313  4603.05313  4603.05313  4603.05313  \n",
      "C_2      496.288054  468.668033  442.585155  417.953872  \n",
      "C_3      892.286296  844.871476  799.976212  757.466618  \n",
      "C_4      220.182105  208.639885  197.702722  187.338899  \n",
      "C_5      320.245572  302.594309  285.915946   270.15686  \n",
      "\n",
      "[5 rows x 28 columns]\n",
      "year      2024     2025      2026      2027      2028      2029      2030  \\\n",
      "country                                                                     \n",
      "C_1          0        0         0         0         0         0         0   \n",
      "C_11         0        0     8.025   7.62375  7.242563  6.880434  6.536413   \n",
      "C_14     2.245  2.13275  2.026112  1.924807  1.828567  1.737138  1.650281   \n",
      "C_19         0     2.77    2.6315  2.499925  2.374929  2.256182  2.143373   \n",
      "C_2          0        0         0         0         0         0         0   \n",
      "\n",
      "year         2031      2032      2033  ...      2041      2042      2043  \\\n",
      "country                                ...                                 \n",
      "C_1             0         0         0  ...       0.0       0.0       0.0   \n",
      "C_11     6.209592  5.899112  5.604157  ...  3.717912  3.532017  3.355416   \n",
      "C_14     1.567767  1.489379   1.41491  ...   0.93868  0.891746  0.847159   \n",
      "C_19     2.036205  1.934394  1.837675  ...  1.219151  1.158193  1.100284   \n",
      "C_2             0         0         0  ...     36.14     36.14     36.14   \n",
      "\n",
      "year         2044      2045      2046      2047      2048      2049      2050  \n",
      "country                                                                        \n",
      "C_1           0.0       0.0       0.0       0.0       0.0       0.0       0.0  \n",
      "C_11     3.187645  3.028263   2.87685  2.733007  2.596357  2.466539  2.343212  \n",
      "C_14     0.804801  0.764561  0.726333  0.690016  0.655515   0.62274  0.591603  \n",
      "C_19     1.045269  0.993006  0.943356  0.896188  0.851379   0.80881  0.768369  \n",
      "C_2         36.14     36.14     36.14     36.14     36.14     36.14     36.14  \n",
      "\n",
      "[5 rows x 27 columns]\n",
      "   year country production  reserves  reserves_life\n",
      "0  2024     C_1          0       0.1            NaN\n",
      "1  2024     C_2          0       0.0            NaN\n",
      "2  2024     C_3          0    8344.2            NaN\n",
      "3  2024     C_4          0   12293.2            NaN\n",
      "4  2024     C_5          0    6247.8            NaN\n",
      "   year country production  reserves  reserves_life\n",
      "0  2024     C_1          0      0.10            inf\n",
      "1  2024     C_2          0  24218.85            inf\n",
      "2  2024     C_3          0  60917.33            inf\n",
      "3  2024     C_4          0  20461.13            inf\n",
      "4  2024     C_5          0  24908.07            inf\n"
     ]
    }
   ],
   "source": [
    "print(forecasted_production_df.head())\n",
    "print(forecasted_ud_production_df.head())\n",
    "print(forecasted_discovered_df.head())\n",
    "print(forecasted_ytf_df.head())\n"
   ]
  },
  {
   "cell_type": "code",
   "execution_count": 22,
   "metadata": {
    "id": "HrUVfY3gAMBv",
    "pycharm": {
     "name": "#%%\n"
    }
   },
   "outputs": [],
   "source": [
    "combined_production_long = combined_production_df.melt(id_vars=['country', 'year'],\n",
    "                                                      value_vars=['producing', 'under_development', 'discovered', 'ytf'],\n",
    "                                                      var_name='asset_type',\n",
    "                                                      value_name='production_value')\n"
   ]
  },
  {
   "cell_type": "code",
   "execution_count": 23,
   "metadata": {
    "colab": {
     "base_uri": "https://localhost:8080/"
    },
    "id": "-0K4UH-7KMt2",
    "outputId": "3fc3568b-bf5b-445c-836b-98498c25e291",
    "pycharm": {
     "name": "#%%\n"
    }
   },
   "outputs": [
    {
     "name": "stdout",
     "output_type": "stream",
     "text": [
      "Updated data types in combined_production_long:\n",
      "country              object\n",
      "year                  int64\n",
      "asset_type           object\n",
      "production_value    float64\n",
      "dtype: object\n"
     ]
    }
   ],
   "source": [
    "# Convert columns to appropriate data types\n",
    "combined_production_long['year'] = combined_production_long['year'].astype(int)\n",
    "combined_production_long['production_value'] = combined_production_long['production_value'].astype(float)\n",
    "\n",
    "# Re-check the data types to confirm changes\n",
    "print(\"Updated data types in combined_production_long:\")\n",
    "print(combined_production_long.dtypes)\n"
   ]
  },
  {
   "cell_type": "code",
   "execution_count": 24,
   "metadata": {
    "pycharm": {
     "name": "#%%\n"
    }
   },
   "outputs": [
    {
     "data": {
      "text/html": [
       "<div>\n",
       "<style scoped>\n",
       "    .dataframe tbody tr th:only-of-type {\n",
       "        vertical-align: middle;\n",
       "    }\n",
       "\n",
       "    .dataframe tbody tr th {\n",
       "        vertical-align: top;\n",
       "    }\n",
       "\n",
       "    .dataframe thead th {\n",
       "        text-align: right;\n",
       "    }\n",
       "</style>\n",
       "<table border=\"1\" class=\"dataframe\">\n",
       "  <thead>\n",
       "    <tr style=\"text-align: right;\">\n",
       "      <th></th>\n",
       "      <th>country</th>\n",
       "      <th>year</th>\n",
       "      <th>asset_type</th>\n",
       "      <th>production</th>\n",
       "      <th>capex</th>\n",
       "    </tr>\n",
       "  </thead>\n",
       "  <tbody>\n",
       "    <tr>\n",
       "      <th>0</th>\n",
       "      <td>C_1</td>\n",
       "      <td>2024</td>\n",
       "      <td>discovered</td>\n",
       "      <td>0.000000</td>\n",
       "      <td>0.000000</td>\n",
       "    </tr>\n",
       "    <tr>\n",
       "      <th>1</th>\n",
       "      <td>C_1</td>\n",
       "      <td>2025</td>\n",
       "      <td>discovered</td>\n",
       "      <td>0.000000</td>\n",
       "      <td>0.000000</td>\n",
       "    </tr>\n",
       "    <tr>\n",
       "      <th>2</th>\n",
       "      <td>C_1</td>\n",
       "      <td>2026</td>\n",
       "      <td>discovered</td>\n",
       "      <td>0.000001</td>\n",
       "      <td>0.000000</td>\n",
       "    </tr>\n",
       "    <tr>\n",
       "      <th>3</th>\n",
       "      <td>C_1</td>\n",
       "      <td>2027</td>\n",
       "      <td>discovered</td>\n",
       "      <td>0.000004</td>\n",
       "      <td>0.000000</td>\n",
       "    </tr>\n",
       "    <tr>\n",
       "      <th>4</th>\n",
       "      <td>C_1</td>\n",
       "      <td>2028</td>\n",
       "      <td>discovered</td>\n",
       "      <td>0.000007</td>\n",
       "      <td>0.000000</td>\n",
       "    </tr>\n",
       "    <tr>\n",
       "      <th>...</th>\n",
       "      <td>...</td>\n",
       "      <td>...</td>\n",
       "      <td>...</td>\n",
       "      <td>...</td>\n",
       "      <td>...</td>\n",
       "    </tr>\n",
       "    <tr>\n",
       "      <th>2803</th>\n",
       "      <td>C_52</td>\n",
       "      <td>2046</td>\n",
       "      <td>ytf</td>\n",
       "      <td>16.025083</td>\n",
       "      <td>0.000000</td>\n",
       "    </tr>\n",
       "    <tr>\n",
       "      <th>2804</th>\n",
       "      <td>C_52</td>\n",
       "      <td>2047</td>\n",
       "      <td>ytf</td>\n",
       "      <td>16.181839</td>\n",
       "      <td>0.000000</td>\n",
       "    </tr>\n",
       "    <tr>\n",
       "      <th>2805</th>\n",
       "      <td>C_52</td>\n",
       "      <td>2048</td>\n",
       "      <td>ytf</td>\n",
       "      <td>16.309165</td>\n",
       "      <td>0.000000</td>\n",
       "    </tr>\n",
       "    <tr>\n",
       "      <th>2806</th>\n",
       "      <td>C_52</td>\n",
       "      <td>2049</td>\n",
       "      <td>ytf</td>\n",
       "      <td>16.409302</td>\n",
       "      <td>0.000000</td>\n",
       "    </tr>\n",
       "    <tr>\n",
       "      <th>2807</th>\n",
       "      <td>C_52</td>\n",
       "      <td>2050</td>\n",
       "      <td>ytf</td>\n",
       "      <td>16.484298</td>\n",
       "      <td>576.950413</td>\n",
       "    </tr>\n",
       "  </tbody>\n",
       "</table>\n",
       "<p>2808 rows × 5 columns</p>\n",
       "</div>"
      ],
      "text/plain": [
       "     country  year  asset_type  production       capex\n",
       "0        C_1  2024  discovered    0.000000    0.000000\n",
       "1        C_1  2025  discovered    0.000000    0.000000\n",
       "2        C_1  2026  discovered    0.000001    0.000000\n",
       "3        C_1  2027  discovered    0.000004    0.000000\n",
       "4        C_1  2028  discovered    0.000007    0.000000\n",
       "...      ...   ...         ...         ...         ...\n",
       "2803    C_52  2046         ytf   16.025083    0.000000\n",
       "2804    C_52  2047         ytf   16.181839    0.000000\n",
       "2805    C_52  2048         ytf   16.309165    0.000000\n",
       "2806    C_52  2049         ytf   16.409302    0.000000\n",
       "2807    C_52  2050         ytf   16.484298  576.950413\n",
       "\n",
       "[2808 rows x 5 columns]"
      ]
     },
     "execution_count": 24,
     "metadata": {},
     "output_type": "execute_result"
    }
   ],
   "source": [
    "# Extract unique countries\n",
    "countries = combined_production_long['country'].unique()\n",
    "\n",
    "# Desired asset types\n",
    "asset_types = ['discovered', 'ytf']\n",
    "\n",
    "# Create the base DataFrame structure\n",
    "df_list = []\n",
    "\n",
    "# Iterate through each country and asset type\n",
    "for country in countries:\n",
    "    for asset in asset_types:\n",
    "        subset = combined_production_long[(combined_production_long['country'] == country) & \n",
    "                                          (combined_production_long['asset_type'] == asset) & \n",
    "                                          (combined_production_long['year'].between(2024, 2050))]\n",
    "\n",
    "        # Check if subset is not empty\n",
    "        if not subset.empty:\n",
    "            for year in range(2024, 2051):\n",
    "                prod_value = subset[subset['year'] == year]['production_value'].values[0] if year in subset['year'].values else None\n",
    "                df_list.append({\n",
    "                    'country': country,\n",
    "                    'year': year,\n",
    "                    'asset_type': asset,\n",
    "                    'production': prod_value,\n",
    "                    'capex': None  # Placeholder for CapEx, will fill later\n",
    "                })\n",
    "\n",
    "capex_df = pd.DataFrame(df_list)\n",
    "\n",
    "\n",
    "# Convert production values to daily rate\n",
    "capex_df['production'] = capex_df['production'] / 365\n",
    "\n",
    "# Display the updated DataFrame\n",
    "capex_df\n",
    "\n",
    "# Initialize the 'capex' column to 0\n",
    "capex_df['capex'] = 0.0\n",
    "\n",
    "for country in capex_df['country'].unique():\n",
    "    for asset in capex_df['asset_type'].unique():\n",
    "        # Filter for the specific country and asset type\n",
    "        country_asset_df = capex_df[(capex_df['country'] == country) & (capex_df['asset_type'] == asset)]\n",
    "        \n",
    "        # Find the index of the row with the maximum production for this country and asset\n",
    "        max_prod_idx = country_asset_df['production'].idxmax()\n",
    "        \n",
    "        # Fill the 'capex' column for this row with the computed value\n",
    "        capex_df.at[max_prod_idx, 'capex'] = country_asset_df.at[max_prod_idx, 'production'] * CCOST\n",
    "\n",
    "\n",
    "# Divide the 'capex' column by 1000\n",
    "capex_df['capex'] = capex_df['capex'] / 1000\n",
    "\n",
    "# Display the updated DataFrame\n",
    "capex_df"
   ]
  },
  {
   "cell_type": "code",
   "execution_count": 25,
   "metadata": {
    "pycharm": {
     "name": "#%%\n"
    }
   },
   "outputs": [
    {
     "data": {
      "text/html": [
       "<div>\n",
       "<style scoped>\n",
       "    .dataframe tbody tr th:only-of-type {\n",
       "        vertical-align: middle;\n",
       "    }\n",
       "\n",
       "    .dataframe tbody tr th {\n",
       "        vertical-align: top;\n",
       "    }\n",
       "\n",
       "    .dataframe thead th {\n",
       "        text-align: right;\n",
       "    }\n",
       "</style>\n",
       "<table border=\"1\" class=\"dataframe\">\n",
       "  <thead>\n",
       "    <tr style=\"text-align: right;\">\n",
       "      <th></th>\n",
       "      <th>year</th>\n",
       "      <th>capex</th>\n",
       "    </tr>\n",
       "  </thead>\n",
       "  <tbody>\n",
       "    <tr>\n",
       "      <th>0</th>\n",
       "      <td>2024</td>\n",
       "      <td>0.00000</td>\n",
       "    </tr>\n",
       "    <tr>\n",
       "      <th>1</th>\n",
       "      <td>2025</td>\n",
       "      <td>0.00000</td>\n",
       "    </tr>\n",
       "    <tr>\n",
       "      <th>2</th>\n",
       "      <td>2026</td>\n",
       "      <td>0.00000</td>\n",
       "    </tr>\n",
       "    <tr>\n",
       "      <th>3</th>\n",
       "      <td>2027</td>\n",
       "      <td>0.00000</td>\n",
       "    </tr>\n",
       "    <tr>\n",
       "      <th>4</th>\n",
       "      <td>2028</td>\n",
       "      <td>0.00000</td>\n",
       "    </tr>\n",
       "    <tr>\n",
       "      <th>5</th>\n",
       "      <td>2029</td>\n",
       "      <td>0.00000</td>\n",
       "    </tr>\n",
       "    <tr>\n",
       "      <th>6</th>\n",
       "      <td>2030</td>\n",
       "      <td>888.36063</td>\n",
       "    </tr>\n",
       "    <tr>\n",
       "      <th>7</th>\n",
       "      <td>2031</td>\n",
       "      <td>0.00000</td>\n",
       "    </tr>\n",
       "    <tr>\n",
       "      <th>8</th>\n",
       "      <td>2032</td>\n",
       "      <td>0.00000</td>\n",
       "    </tr>\n",
       "    <tr>\n",
       "      <th>9</th>\n",
       "      <td>2033</td>\n",
       "      <td>0.00000</td>\n",
       "    </tr>\n",
       "    <tr>\n",
       "      <th>10</th>\n",
       "      <td>2034</td>\n",
       "      <td>0.00000</td>\n",
       "    </tr>\n",
       "    <tr>\n",
       "      <th>11</th>\n",
       "      <td>2035</td>\n",
       "      <td>0.00000</td>\n",
       "    </tr>\n",
       "    <tr>\n",
       "      <th>12</th>\n",
       "      <td>2036</td>\n",
       "      <td>0.00000</td>\n",
       "    </tr>\n",
       "    <tr>\n",
       "      <th>13</th>\n",
       "      <td>2037</td>\n",
       "      <td>0.00000</td>\n",
       "    </tr>\n",
       "    <tr>\n",
       "      <th>14</th>\n",
       "      <td>2038</td>\n",
       "      <td>0.00000</td>\n",
       "    </tr>\n",
       "    <tr>\n",
       "      <th>15</th>\n",
       "      <td>2039</td>\n",
       "      <td>0.00000</td>\n",
       "    </tr>\n",
       "    <tr>\n",
       "      <th>16</th>\n",
       "      <td>2040</td>\n",
       "      <td>0.00000</td>\n",
       "    </tr>\n",
       "    <tr>\n",
       "      <th>17</th>\n",
       "      <td>2041</td>\n",
       "      <td>0.00000</td>\n",
       "    </tr>\n",
       "    <tr>\n",
       "      <th>18</th>\n",
       "      <td>2042</td>\n",
       "      <td>0.00000</td>\n",
       "    </tr>\n",
       "    <tr>\n",
       "      <th>19</th>\n",
       "      <td>2043</td>\n",
       "      <td>0.00000</td>\n",
       "    </tr>\n",
       "    <tr>\n",
       "      <th>20</th>\n",
       "      <td>2044</td>\n",
       "      <td>0.00000</td>\n",
       "    </tr>\n",
       "    <tr>\n",
       "      <th>21</th>\n",
       "      <td>2045</td>\n",
       "      <td>0.00000</td>\n",
       "    </tr>\n",
       "    <tr>\n",
       "      <th>22</th>\n",
       "      <td>2046</td>\n",
       "      <td>0.00000</td>\n",
       "    </tr>\n",
       "    <tr>\n",
       "      <th>23</th>\n",
       "      <td>2047</td>\n",
       "      <td>0.00000</td>\n",
       "    </tr>\n",
       "    <tr>\n",
       "      <th>24</th>\n",
       "      <td>2048</td>\n",
       "      <td>0.00000</td>\n",
       "    </tr>\n",
       "    <tr>\n",
       "      <th>25</th>\n",
       "      <td>2049</td>\n",
       "      <td>0.00000</td>\n",
       "    </tr>\n",
       "    <tr>\n",
       "      <th>26</th>\n",
       "      <td>2050</td>\n",
       "      <td>2508.55931</td>\n",
       "    </tr>\n",
       "  </tbody>\n",
       "</table>\n",
       "</div>"
      ],
      "text/plain": [
       "    year       capex\n",
       "0   2024     0.00000\n",
       "1   2025     0.00000\n",
       "2   2026     0.00000\n",
       "3   2027     0.00000\n",
       "4   2028     0.00000\n",
       "5   2029     0.00000\n",
       "6   2030   888.36063\n",
       "7   2031     0.00000\n",
       "8   2032     0.00000\n",
       "9   2033     0.00000\n",
       "10  2034     0.00000\n",
       "11  2035     0.00000\n",
       "12  2036     0.00000\n",
       "13  2037     0.00000\n",
       "14  2038     0.00000\n",
       "15  2039     0.00000\n",
       "16  2040     0.00000\n",
       "17  2041     0.00000\n",
       "18  2042     0.00000\n",
       "19  2043     0.00000\n",
       "20  2044     0.00000\n",
       "21  2045     0.00000\n",
       "22  2046     0.00000\n",
       "23  2047     0.00000\n",
       "24  2048     0.00000\n",
       "25  2049     0.00000\n",
       "26  2050  2508.55931"
      ]
     },
     "execution_count": 25,
     "metadata": {},
     "output_type": "execute_result"
    }
   ],
   "source": [
    "aggregated_capex_by_year = capex_df.groupby('year')['capex'].sum().reset_index()\n",
    "aggregated_capex_by_year\n"
   ]
  },
  {
   "cell_type": "code",
   "execution_count": 26,
   "metadata": {
    "pycharm": {
     "name": "#%%\n"
    }
   },
   "outputs": [
    {
     "name": "stdout",
     "output_type": "stream",
     "text": [
      "    year       capex\n",
      "0   2024   35.410790\n",
      "1   2025   50.078419\n",
      "2   2026   61.333287\n",
      "3   2027   70.821579\n",
      "4   2028   79.180933\n",
      "5   2029   86.738366\n",
      "6   2030   93.688143\n",
      "7   2031  100.156838\n",
      "8   2032  106.232369\n",
      "9   2033  111.978749\n",
      "10  2034  117.444303\n",
      "11  2035  122.666573\n",
      "12  2036  127.675418\n",
      "13  2037  132.495042\n",
      "14  2038  137.145398\n",
      "15  2039  141.643158\n",
      "16  2040  146.002426\n",
      "17  2041  150.235257\n",
      "18  2042  154.352053\n",
      "19  2043  158.361865\n",
      "20  2044  162.272624\n",
      "21  2045  166.091325\n",
      "22  2046  169.824181\n",
      "23  2047  173.476732\n",
      "24  2048  177.053948\n",
      "25  2049  180.560307\n",
      "26  2050  183.999860\n"
     ]
    }
   ],
   "source": [
    "import numpy as np\n",
    "\n",
    "# 1. For each country and asset type, get the sum of capex.\n",
    "country_asset_capex = capex_df.groupby(['country', 'asset_type'])['capex'].sum().reset_index()\n",
    "\n",
    "# 2. & 3. Distribute this capex over the years 2024 to 2050 using a curve that gives a gradual increase at the beginning and smoothens out at the end. \n",
    "years = np.arange(2023, 2051)\n",
    "power_curve = np.power(years - years.min(), DIST)  # Adjusting the power to 1.5 for a smoother tail-off\n",
    "power_curve_normalized = power_curve / power_curve.sum()\n",
    "\n",
    "for idx, row in country_asset_capex.iterrows():\n",
    "    country, asset, capex_total = row['country'], row['asset_type'], row['capex']\n",
    "    \n",
    "    for year, weight in zip(years, power_curve_normalized):\n",
    "        capex_df.loc[(capex_df['country'] == country) & (capex_df['asset_type'] == asset) & (capex_df['year'] == year), 'capex'] = weight * capex_total\n",
    "\n",
    "# Display the updated DataFrame\n",
    "capex_df.head(30)\n",
    "\n",
    "# Summing up the capex for each year for each country\n",
    "yearly_country_capex_df = capex_df.groupby(['country', 'year'])['capex'].sum().reset_index()\n",
    "\n",
    "yearly_country_capex_df.head()\n",
    "\n",
    "AAA = yearly_country_capex_df.groupby('year').sum().reset_index()\n",
    "print(AAA)"
   ]
  },
  {
   "cell_type": "code",
   "execution_count": 27,
   "metadata": {
    "pycharm": {
     "name": "#%%\n"
    }
   },
   "outputs": [],
   "source": [
    "# Convert final_cost to a long format\n",
    "final_cost_long = pd.melt(final_cost_df, id_vars=['country', 'category'], var_name='year', value_name='cost')\n",
    "final_cost_long['year'] = final_cost_long['year'].astype(int)  # Convert year to integer type\n",
    "\n",
    "# Separate out dev_cost and find_cost\n",
    "dev_cost_df = final_cost_long[final_cost_long['category'] == 'dev_cost'].drop(columns=['category'])\n",
    "find_cost_df = final_cost_long[final_cost_long['category'] == 'find_cost'].drop(columns=['category'])"
   ]
  },
  {
   "cell_type": "code",
   "execution_count": 28,
   "metadata": {
    "pycharm": {
     "name": "#%%\n"
    }
   },
   "outputs": [],
   "source": [
    "# Calculate dev_investment\n",
    "dev_investment = combined_production_long.groupby(['country', 'year']).agg({'production_value': 'sum'}).reset_index()\n",
    "dev_investment = pd.merge(dev_investment, dev_cost_df, on=['country', 'year'], how='left')\n",
    "dev_investment['dev_cost'] = dev_investment['production_value'] * dev_investment['cost']\n",
    "dev_investment = dev_investment[['country', 'year', 'dev_cost']]\n",
    "\n",
    "# Calculate find_investment for ytf asset type only\n",
    "ytf_production = combined_production_long[combined_production_long['asset_type'] == 'ytf']\n",
    "ytf_production = ytf_production.groupby(['country', 'year']).agg({'production_value': 'sum'}).reset_index()\n",
    "ytf_production = pd.merge(ytf_production, find_cost_df, on=['country', 'year'], how='left')\n",
    "ytf_production['find_cost'] = ytf_production['production_value'] * ytf_production['cost']\n",
    "ytf_production = ytf_production[['country', 'year', 'find_cost']]\n"
   ]
  },
  {
   "cell_type": "code",
   "execution_count": 29,
   "metadata": {
    "pycharm": {
     "name": "#%%\n"
    }
   },
   "outputs": [],
   "source": [
    "# Calculate dev_investment\n",
    "dev_investment = combined_production_long.groupby(['country', 'year']).agg({'production_value': 'sum'}).reset_index()\n",
    "dev_investment = pd.merge(dev_investment, dev_cost_df, on=['country', 'year'], how='left')\n",
    "dev_investment['dev_cost'] = (dev_investment['production_value'] * dev_investment['cost']) / 1000\n",
    "dev_investment = dev_investment[['country', 'year', 'dev_cost']]\n",
    "\n",
    "# Calculate find_investment for ytf asset type only\n",
    "find_investment = combined_production_long[combined_production_long['asset_type'] == 'ytf']\n",
    "find_investment = find_investment.groupby(['country', 'year']).agg({'production_value': 'sum'}).reset_index()\n",
    "find_investment = pd.merge(find_investment, find_cost_df, on=['country', 'year'], how='left')\n",
    "find_investment['find_cost'] = (find_investment['production_value'] * find_investment['cost']) / 1000\n",
    "find_investment = find_investment[['country', 'year', 'find_cost']]\n"
   ]
  },
  {
   "cell_type": "code",
   "execution_count": 30,
   "metadata": {
    "pycharm": {
     "name": "#%%\n"
    }
   },
   "outputs": [],
   "source": [
    "# Merging dev_investment, find_investment, and yearly_country_capex_df\n",
    "country_final_investment_df = pd.merge(dev_investment, find_investment, on=['country', 'year'], how='outer')\n",
    "country_final_investment_df = pd.merge(country_final_investment_df, yearly_country_capex_df[['country', 'year', 'capex']], on=['country', 'year'], how='outer')\n",
    "\n",
    "# Fill NaN values with 0\n",
    "country_final_investment_df = country_final_investment_df.fillna(0)\n",
    "\n",
    "# Calculate the total column\n",
    "country_final_investment_df['total'] = country_final_investment_df['capex'] + country_final_investment_df['dev_cost'] + country_final_investment_df['find_cost']\n",
    "\n",
    "# Reorder columns\n",
    "country_final_investment_df = country_final_investment_df[['country', 'year', 'capex', 'dev_cost', 'find_cost', 'total']]\n"
   ]
  },
  {
   "cell_type": "code",
   "execution_count": 31,
   "metadata": {
    "pycharm": {
     "name": "#%%\n"
    }
   },
   "outputs": [
    {
     "data": {
      "text/html": [
       "<div>\n",
       "<style scoped>\n",
       "    .dataframe tbody tr th:only-of-type {\n",
       "        vertical-align: middle;\n",
       "    }\n",
       "\n",
       "    .dataframe tbody tr th {\n",
       "        vertical-align: top;\n",
       "    }\n",
       "\n",
       "    .dataframe thead th {\n",
       "        text-align: right;\n",
       "    }\n",
       "</style>\n",
       "<table border=\"1\" class=\"dataframe\">\n",
       "  <thead>\n",
       "    <tr style=\"text-align: right;\">\n",
       "      <th></th>\n",
       "      <th>country</th>\n",
       "      <th>year</th>\n",
       "      <th>capex</th>\n",
       "      <th>dev_cost</th>\n",
       "      <th>find_cost</th>\n",
       "      <th>nominal_investment</th>\n",
       "    </tr>\n",
       "  </thead>\n",
       "  <tbody>\n",
       "    <tr>\n",
       "      <th>0</th>\n",
       "      <td>C_1</td>\n",
       "      <td>2024</td>\n",
       "      <td>0.000007</td>\n",
       "      <td>21.303488</td>\n",
       "      <td>0.0</td>\n",
       "      <td>21.303495</td>\n",
       "    </tr>\n",
       "    <tr>\n",
       "      <th>1</th>\n",
       "      <td>C_1</td>\n",
       "      <td>2025</td>\n",
       "      <td>0.000010</td>\n",
       "      <td>22.388328</td>\n",
       "      <td>0.0</td>\n",
       "      <td>22.388338</td>\n",
       "    </tr>\n",
       "    <tr>\n",
       "      <th>2</th>\n",
       "      <td>C_1</td>\n",
       "      <td>2026</td>\n",
       "      <td>0.000012</td>\n",
       "      <td>23.304709</td>\n",
       "      <td>0.0</td>\n",
       "      <td>23.304721</td>\n",
       "    </tr>\n",
       "    <tr>\n",
       "      <th>3</th>\n",
       "      <td>C_1</td>\n",
       "      <td>2027</td>\n",
       "      <td>0.000013</td>\n",
       "      <td>24.025744</td>\n",
       "      <td>0.0</td>\n",
       "      <td>24.025757</td>\n",
       "    </tr>\n",
       "    <tr>\n",
       "      <th>4</th>\n",
       "      <td>C_1</td>\n",
       "      <td>2028</td>\n",
       "      <td>0.000015</td>\n",
       "      <td>23.814591</td>\n",
       "      <td>0.0</td>\n",
       "      <td>23.814606</td>\n",
       "    </tr>\n",
       "  </tbody>\n",
       "</table>\n",
       "</div>"
      ],
      "text/plain": [
       "  country  year     capex   dev_cost  find_cost  nominal_investment\n",
       "0     C_1  2024  0.000007  21.303488        0.0           21.303495\n",
       "1     C_1  2025  0.000010  22.388328        0.0           22.388338\n",
       "2     C_1  2026  0.000012  23.304709        0.0           23.304721\n",
       "3     C_1  2027  0.000013  24.025744        0.0           24.025757\n",
       "4     C_1  2028  0.000015  23.814591        0.0           23.814606"
      ]
     },
     "execution_count": 31,
     "metadata": {},
     "output_type": "execute_result"
    }
   ],
   "source": [
    "# Calculate the cumulative inflation\n",
    "inflation_df['cumulative_inflation'] = (1 + inflation_df['inflation']).cumprod()\n",
    "\n",
    "# Rename 'total' column to 'nominal_investment' in country_final_investment_df\n",
    "country_final_investment_df.rename(columns={'total': 'nominal_investment'}, inplace=True)\n",
    "\n",
    "# Merge with inflation_df to get the 'cumulative_inflation' column\n",
    "\n",
    "country_final_investment_df.head()"
   ]
  },
  {
   "cell_type": "code",
   "execution_count": 32,
   "metadata": {},
   "outputs": [
    {
     "name": "stdout",
     "output_type": "stream",
     "text": [
      "  country  year     capex   dev_cost  find_cost  nominal_investment  \\\n",
      "0     C_1  2024  0.000007  21.303488        0.0           21.303495   \n",
      "1     C_1  2025  0.000010  22.388328        0.0           22.388338   \n",
      "2     C_1  2026  0.000012  23.304709        0.0           23.304721   \n",
      "3     C_1  2027  0.000013  24.025744        0.0           24.025757   \n",
      "4     C_1  2028  0.000015  23.814591        0.0           23.814606   \n",
      "\n",
      "   distributed_find_cost  \n",
      "0                      0  \n",
      "1                      0  \n",
      "2                      0  \n",
      "3                      0  \n",
      "4                      0  \n"
     ]
    }
   ],
   "source": [
    "import numpy as np\n",
    "import pandas as pd\n",
    "\n",
    "# I'm assuming you've already read your data into country_final_investment_df\n",
    "# country_final_investment_df = pd.read_csv('your_data.csv')\n",
    "\n",
    "# Parameters for the distribution curve\n",
    "# Creating the distribution curve for the years\n",
    "years = np.arange(2023, 2051)\n",
    "power_curve = np.power(years - years.min(), DIST)  # Creating a power curve\n",
    "power_curve_normalized = power_curve / power_curve.sum()  # Normalizing the curve\n",
    "\n",
    "# Collecting unique countries from the DataFrame\n",
    "unique_countries = country_final_investment_df['country'].unique()\n",
    "\n",
    "# Initialize the DataFrame column if not existing\n",
    "if 'distributed_find_cost' not in country_final_investment_df:\n",
    "    country_final_investment_df['distributed_find_cost'] = 0\n",
    "\n",
    "# Iterating through each unique country\n",
    "for country in unique_countries:\n",
    "    # Extract total find_cost for each country over all the years\n",
    "    total_find_cost = country_final_investment_df[country_final_investment_df['country'] == country]['find_cost'].sum()\n",
    "\n",
    "    # We distribute the 'find_cost' for each country across the specified years\n",
    "    for year, weight in zip(years, power_curve_normalized):\n",
    "        distributed_cost = weight * total_find_cost\n",
    "\n",
    "        # Update the 'find_cost' directly in the DataFrame\n",
    "        country_final_investment_df.loc[\n",
    "            (country_final_investment_df['country'] == country) & (country_final_investment_df['year'] == year), \n",
    "            'find_cost'\n",
    "        ] = distributed_cost\n",
    "\n",
    "# Now, the 'find_cost' within each entry has been updated to reflect the distributed values across the years.\n",
    "\n",
    "# Display the head of the DataFrame to verify the operation\n",
    "print(country_final_investment_df.head())\n"
   ]
  },
  {
   "cell_type": "code",
   "execution_count": 33,
   "metadata": {},
   "outputs": [
    {
     "data": {
      "text/html": [
       "<div>\n",
       "<style scoped>\n",
       "    .dataframe tbody tr th:only-of-type {\n",
       "        vertical-align: middle;\n",
       "    }\n",
       "\n",
       "    .dataframe tbody tr th {\n",
       "        vertical-align: top;\n",
       "    }\n",
       "\n",
       "    .dataframe thead th {\n",
       "        text-align: right;\n",
       "    }\n",
       "</style>\n",
       "<table border=\"1\" class=\"dataframe\">\n",
       "  <thead>\n",
       "    <tr style=\"text-align: right;\">\n",
       "      <th></th>\n",
       "      <th>country</th>\n",
       "      <th>year</th>\n",
       "      <th>capex</th>\n",
       "      <th>dev_cost</th>\n",
       "      <th>find_cost</th>\n",
       "      <th>nominal_investment</th>\n",
       "      <th>distributed_find_cost</th>\n",
       "      <th>real_investment</th>\n",
       "    </tr>\n",
       "  </thead>\n",
       "  <tbody>\n",
       "    <tr>\n",
       "      <th>0</th>\n",
       "      <td>C_1</td>\n",
       "      <td>2024</td>\n",
       "      <td>0.000007</td>\n",
       "      <td>21.303488</td>\n",
       "      <td>0.0</td>\n",
       "      <td>21.303495</td>\n",
       "      <td>0</td>\n",
       "      <td>21.303495</td>\n",
       "    </tr>\n",
       "    <tr>\n",
       "      <th>1</th>\n",
       "      <td>C_1</td>\n",
       "      <td>2025</td>\n",
       "      <td>0.000010</td>\n",
       "      <td>22.388328</td>\n",
       "      <td>0.0</td>\n",
       "      <td>22.388338</td>\n",
       "      <td>0</td>\n",
       "      <td>21.949351</td>\n",
       "    </tr>\n",
       "    <tr>\n",
       "      <th>2</th>\n",
       "      <td>C_1</td>\n",
       "      <td>2026</td>\n",
       "      <td>0.000012</td>\n",
       "      <td>23.304709</td>\n",
       "      <td>0.0</td>\n",
       "      <td>23.304721</td>\n",
       "      <td>0</td>\n",
       "      <td>22.399770</td>\n",
       "    </tr>\n",
       "    <tr>\n",
       "      <th>3</th>\n",
       "      <td>C_1</td>\n",
       "      <td>2027</td>\n",
       "      <td>0.000013</td>\n",
       "      <td>24.025744</td>\n",
       "      <td>0.0</td>\n",
       "      <td>24.025757</td>\n",
       "      <td>0</td>\n",
       "      <td>22.640008</td>\n",
       "    </tr>\n",
       "    <tr>\n",
       "      <th>4</th>\n",
       "      <td>C_1</td>\n",
       "      <td>2028</td>\n",
       "      <td>0.000015</td>\n",
       "      <td>23.814591</td>\n",
       "      <td>0.0</td>\n",
       "      <td>23.814606</td>\n",
       "      <td>0</td>\n",
       "      <td>22.001015</td>\n",
       "    </tr>\n",
       "  </tbody>\n",
       "</table>\n",
       "</div>"
      ],
      "text/plain": [
       "  country  year     capex   dev_cost  find_cost  nominal_investment  \\\n",
       "0     C_1  2024  0.000007  21.303488        0.0           21.303495   \n",
       "1     C_1  2025  0.000010  22.388328        0.0           22.388338   \n",
       "2     C_1  2026  0.000012  23.304709        0.0           23.304721   \n",
       "3     C_1  2027  0.000013  24.025744        0.0           24.025757   \n",
       "4     C_1  2028  0.000015  23.814591        0.0           23.814606   \n",
       "\n",
       "   distributed_find_cost  real_investment  \n",
       "0                      0        21.303495  \n",
       "1                      0        21.949351  \n",
       "2                      0        22.399770  \n",
       "3                      0        22.640008  \n",
       "4                      0        22.001015  "
      ]
     },
     "execution_count": 33,
     "metadata": {},
     "output_type": "execute_result"
    }
   ],
   "source": [
    "country_final_investment_df = pd.merge(country_final_investment_df, inflation_df[['year', 'cumulative_inflation']], on='year', how='left')\n",
    "\n",
    "# Calculate the 'real_investment' column\n",
    "country_final_investment_df['real_investment'] = country_final_investment_df['nominal_investment'] / country_final_investment_df['cumulative_inflation']\n",
    "\n",
    "# Drop the 'cumulative_inflation' column as it's no longer needed\n",
    "country_final_investment_df.drop(columns=['cumulative_inflation'], inplace=True)\n",
    "\n",
    "# Display the updated DataFrame\n",
    "country_final_investment_df.head()"
   ]
  },
  {
   "cell_type": "code",
   "execution_count": 34,
   "metadata": {
    "pycharm": {
     "name": "#%%\n"
    }
   },
   "outputs": [
    {
     "data": {
      "application/vnd.plotly.v1+json": {
       "config": {
        "plotlyServerURL": "https://plot.ly"
       },
       "data": [
        {
         "name": "Yearly Nominal Investment",
         "type": "bar",
         "x": [
          2024,
          2025,
          2026,
          2027,
          2028,
          2029,
          2030,
          2031,
          2032,
          2033,
          2034,
          2035,
          2036,
          2037,
          2038,
          2039,
          2040,
          2041,
          2042,
          2043,
          2044,
          2045,
          2046,
          2047,
          2048,
          2049,
          2050
         ],
         "y": [
          535.1111285290511,
          539.5651085570574,
          535.9526376206453,
          543.4211486082844,
          555.7432126420072,
          570.1853933280869,
          582.7010965831068,
          590.3646078393493,
          600.0072062343478,
          607.1340607807023,
          614.0439228369111,
          620.7583599218881,
          625.8971745598116,
          630.8771149645562,
          635.5914936339021,
          639.9528467749024,
          644.5069770588962,
          648.5387014712317,
          652.4481974408027,
          656.2398408369575,
          659.9176415075947,
          663.4853335571622,
          660.5619062590091,
          657.574539568915,
          654.5264647701551,
          651.4207996409168,
          648.2605637015881
         ]
        }
       ],
       "layout": {
        "annotations": [
         {
          "showarrow": false,
          "text": "Cumulative until 2045: 13352.44",
          "x": 2045,
          "y": 331.7426667785811
         }
        ],
        "template": {
         "data": {
          "bar": [
           {
            "error_x": {
             "color": "#2a3f5f"
            },
            "error_y": {
             "color": "#2a3f5f"
            },
            "marker": {
             "line": {
              "color": "#E5ECF6",
              "width": 0.5
             },
             "pattern": {
              "fillmode": "overlay",
              "size": 10,
              "solidity": 0.2
             }
            },
            "type": "bar"
           }
          ],
          "barpolar": [
           {
            "marker": {
             "line": {
              "color": "#E5ECF6",
              "width": 0.5
             },
             "pattern": {
              "fillmode": "overlay",
              "size": 10,
              "solidity": 0.2
             }
            },
            "type": "barpolar"
           }
          ],
          "carpet": [
           {
            "aaxis": {
             "endlinecolor": "#2a3f5f",
             "gridcolor": "white",
             "linecolor": "white",
             "minorgridcolor": "white",
             "startlinecolor": "#2a3f5f"
            },
            "baxis": {
             "endlinecolor": "#2a3f5f",
             "gridcolor": "white",
             "linecolor": "white",
             "minorgridcolor": "white",
             "startlinecolor": "#2a3f5f"
            },
            "type": "carpet"
           }
          ],
          "choropleth": [
           {
            "colorbar": {
             "outlinewidth": 0,
             "ticks": ""
            },
            "type": "choropleth"
           }
          ],
          "contour": [
           {
            "colorbar": {
             "outlinewidth": 0,
             "ticks": ""
            },
            "colorscale": [
             [
              0,
              "#0d0887"
             ],
             [
              0.1111111111111111,
              "#46039f"
             ],
             [
              0.2222222222222222,
              "#7201a8"
             ],
             [
              0.3333333333333333,
              "#9c179e"
             ],
             [
              0.4444444444444444,
              "#bd3786"
             ],
             [
              0.5555555555555556,
              "#d8576b"
             ],
             [
              0.6666666666666666,
              "#ed7953"
             ],
             [
              0.7777777777777778,
              "#fb9f3a"
             ],
             [
              0.8888888888888888,
              "#fdca26"
             ],
             [
              1,
              "#f0f921"
             ]
            ],
            "type": "contour"
           }
          ],
          "contourcarpet": [
           {
            "colorbar": {
             "outlinewidth": 0,
             "ticks": ""
            },
            "type": "contourcarpet"
           }
          ],
          "heatmap": [
           {
            "colorbar": {
             "outlinewidth": 0,
             "ticks": ""
            },
            "colorscale": [
             [
              0,
              "#0d0887"
             ],
             [
              0.1111111111111111,
              "#46039f"
             ],
             [
              0.2222222222222222,
              "#7201a8"
             ],
             [
              0.3333333333333333,
              "#9c179e"
             ],
             [
              0.4444444444444444,
              "#bd3786"
             ],
             [
              0.5555555555555556,
              "#d8576b"
             ],
             [
              0.6666666666666666,
              "#ed7953"
             ],
             [
              0.7777777777777778,
              "#fb9f3a"
             ],
             [
              0.8888888888888888,
              "#fdca26"
             ],
             [
              1,
              "#f0f921"
             ]
            ],
            "type": "heatmap"
           }
          ],
          "heatmapgl": [
           {
            "colorbar": {
             "outlinewidth": 0,
             "ticks": ""
            },
            "colorscale": [
             [
              0,
              "#0d0887"
             ],
             [
              0.1111111111111111,
              "#46039f"
             ],
             [
              0.2222222222222222,
              "#7201a8"
             ],
             [
              0.3333333333333333,
              "#9c179e"
             ],
             [
              0.4444444444444444,
              "#bd3786"
             ],
             [
              0.5555555555555556,
              "#d8576b"
             ],
             [
              0.6666666666666666,
              "#ed7953"
             ],
             [
              0.7777777777777778,
              "#fb9f3a"
             ],
             [
              0.8888888888888888,
              "#fdca26"
             ],
             [
              1,
              "#f0f921"
             ]
            ],
            "type": "heatmapgl"
           }
          ],
          "histogram": [
           {
            "marker": {
             "pattern": {
              "fillmode": "overlay",
              "size": 10,
              "solidity": 0.2
             }
            },
            "type": "histogram"
           }
          ],
          "histogram2d": [
           {
            "colorbar": {
             "outlinewidth": 0,
             "ticks": ""
            },
            "colorscale": [
             [
              0,
              "#0d0887"
             ],
             [
              0.1111111111111111,
              "#46039f"
             ],
             [
              0.2222222222222222,
              "#7201a8"
             ],
             [
              0.3333333333333333,
              "#9c179e"
             ],
             [
              0.4444444444444444,
              "#bd3786"
             ],
             [
              0.5555555555555556,
              "#d8576b"
             ],
             [
              0.6666666666666666,
              "#ed7953"
             ],
             [
              0.7777777777777778,
              "#fb9f3a"
             ],
             [
              0.8888888888888888,
              "#fdca26"
             ],
             [
              1,
              "#f0f921"
             ]
            ],
            "type": "histogram2d"
           }
          ],
          "histogram2dcontour": [
           {
            "colorbar": {
             "outlinewidth": 0,
             "ticks": ""
            },
            "colorscale": [
             [
              0,
              "#0d0887"
             ],
             [
              0.1111111111111111,
              "#46039f"
             ],
             [
              0.2222222222222222,
              "#7201a8"
             ],
             [
              0.3333333333333333,
              "#9c179e"
             ],
             [
              0.4444444444444444,
              "#bd3786"
             ],
             [
              0.5555555555555556,
              "#d8576b"
             ],
             [
              0.6666666666666666,
              "#ed7953"
             ],
             [
              0.7777777777777778,
              "#fb9f3a"
             ],
             [
              0.8888888888888888,
              "#fdca26"
             ],
             [
              1,
              "#f0f921"
             ]
            ],
            "type": "histogram2dcontour"
           }
          ],
          "mesh3d": [
           {
            "colorbar": {
             "outlinewidth": 0,
             "ticks": ""
            },
            "type": "mesh3d"
           }
          ],
          "parcoords": [
           {
            "line": {
             "colorbar": {
              "outlinewidth": 0,
              "ticks": ""
             }
            },
            "type": "parcoords"
           }
          ],
          "pie": [
           {
            "automargin": true,
            "type": "pie"
           }
          ],
          "scatter": [
           {
            "fillpattern": {
             "fillmode": "overlay",
             "size": 10,
             "solidity": 0.2
            },
            "type": "scatter"
           }
          ],
          "scatter3d": [
           {
            "line": {
             "colorbar": {
              "outlinewidth": 0,
              "ticks": ""
             }
            },
            "marker": {
             "colorbar": {
              "outlinewidth": 0,
              "ticks": ""
             }
            },
            "type": "scatter3d"
           }
          ],
          "scattercarpet": [
           {
            "marker": {
             "colorbar": {
              "outlinewidth": 0,
              "ticks": ""
             }
            },
            "type": "scattercarpet"
           }
          ],
          "scattergeo": [
           {
            "marker": {
             "colorbar": {
              "outlinewidth": 0,
              "ticks": ""
             }
            },
            "type": "scattergeo"
           }
          ],
          "scattergl": [
           {
            "marker": {
             "colorbar": {
              "outlinewidth": 0,
              "ticks": ""
             }
            },
            "type": "scattergl"
           }
          ],
          "scattermapbox": [
           {
            "marker": {
             "colorbar": {
              "outlinewidth": 0,
              "ticks": ""
             }
            },
            "type": "scattermapbox"
           }
          ],
          "scatterpolar": [
           {
            "marker": {
             "colorbar": {
              "outlinewidth": 0,
              "ticks": ""
             }
            },
            "type": "scatterpolar"
           }
          ],
          "scatterpolargl": [
           {
            "marker": {
             "colorbar": {
              "outlinewidth": 0,
              "ticks": ""
             }
            },
            "type": "scatterpolargl"
           }
          ],
          "scatterternary": [
           {
            "marker": {
             "colorbar": {
              "outlinewidth": 0,
              "ticks": ""
             }
            },
            "type": "scatterternary"
           }
          ],
          "surface": [
           {
            "colorbar": {
             "outlinewidth": 0,
             "ticks": ""
            },
            "colorscale": [
             [
              0,
              "#0d0887"
             ],
             [
              0.1111111111111111,
              "#46039f"
             ],
             [
              0.2222222222222222,
              "#7201a8"
             ],
             [
              0.3333333333333333,
              "#9c179e"
             ],
             [
              0.4444444444444444,
              "#bd3786"
             ],
             [
              0.5555555555555556,
              "#d8576b"
             ],
             [
              0.6666666666666666,
              "#ed7953"
             ],
             [
              0.7777777777777778,
              "#fb9f3a"
             ],
             [
              0.8888888888888888,
              "#fdca26"
             ],
             [
              1,
              "#f0f921"
             ]
            ],
            "type": "surface"
           }
          ],
          "table": [
           {
            "cells": {
             "fill": {
              "color": "#EBF0F8"
             },
             "line": {
              "color": "white"
             }
            },
            "header": {
             "fill": {
              "color": "#C8D4E3"
             },
             "line": {
              "color": "white"
             }
            },
            "type": "table"
           }
          ]
         },
         "layout": {
          "annotationdefaults": {
           "arrowcolor": "#2a3f5f",
           "arrowhead": 0,
           "arrowwidth": 1
          },
          "autotypenumbers": "strict",
          "coloraxis": {
           "colorbar": {
            "outlinewidth": 0,
            "ticks": ""
           }
          },
          "colorscale": {
           "diverging": [
            [
             0,
             "#8e0152"
            ],
            [
             0.1,
             "#c51b7d"
            ],
            [
             0.2,
             "#de77ae"
            ],
            [
             0.3,
             "#f1b6da"
            ],
            [
             0.4,
             "#fde0ef"
            ],
            [
             0.5,
             "#f7f7f7"
            ],
            [
             0.6,
             "#e6f5d0"
            ],
            [
             0.7,
             "#b8e186"
            ],
            [
             0.8,
             "#7fbc41"
            ],
            [
             0.9,
             "#4d9221"
            ],
            [
             1,
             "#276419"
            ]
           ],
           "sequential": [
            [
             0,
             "#0d0887"
            ],
            [
             0.1111111111111111,
             "#46039f"
            ],
            [
             0.2222222222222222,
             "#7201a8"
            ],
            [
             0.3333333333333333,
             "#9c179e"
            ],
            [
             0.4444444444444444,
             "#bd3786"
            ],
            [
             0.5555555555555556,
             "#d8576b"
            ],
            [
             0.6666666666666666,
             "#ed7953"
            ],
            [
             0.7777777777777778,
             "#fb9f3a"
            ],
            [
             0.8888888888888888,
             "#fdca26"
            ],
            [
             1,
             "#f0f921"
            ]
           ],
           "sequentialminus": [
            [
             0,
             "#0d0887"
            ],
            [
             0.1111111111111111,
             "#46039f"
            ],
            [
             0.2222222222222222,
             "#7201a8"
            ],
            [
             0.3333333333333333,
             "#9c179e"
            ],
            [
             0.4444444444444444,
             "#bd3786"
            ],
            [
             0.5555555555555556,
             "#d8576b"
            ],
            [
             0.6666666666666666,
             "#ed7953"
            ],
            [
             0.7777777777777778,
             "#fb9f3a"
            ],
            [
             0.8888888888888888,
             "#fdca26"
            ],
            [
             1,
             "#f0f921"
            ]
           ]
          },
          "colorway": [
           "#636efa",
           "#EF553B",
           "#00cc96",
           "#ab63fa",
           "#FFA15A",
           "#19d3f3",
           "#FF6692",
           "#B6E880",
           "#FF97FF",
           "#FECB52"
          ],
          "font": {
           "color": "#2a3f5f"
          },
          "geo": {
           "bgcolor": "white",
           "lakecolor": "white",
           "landcolor": "#E5ECF6",
           "showlakes": true,
           "showland": true,
           "subunitcolor": "white"
          },
          "hoverlabel": {
           "align": "left"
          },
          "hovermode": "closest",
          "mapbox": {
           "style": "light"
          },
          "paper_bgcolor": "white",
          "plot_bgcolor": "#E5ECF6",
          "polar": {
           "angularaxis": {
            "gridcolor": "white",
            "linecolor": "white",
            "ticks": ""
           },
           "bgcolor": "#E5ECF6",
           "radialaxis": {
            "gridcolor": "white",
            "linecolor": "white",
            "ticks": ""
           }
          },
          "scene": {
           "xaxis": {
            "backgroundcolor": "#E5ECF6",
            "gridcolor": "white",
            "gridwidth": 2,
            "linecolor": "white",
            "showbackground": true,
            "ticks": "",
            "zerolinecolor": "white"
           },
           "yaxis": {
            "backgroundcolor": "#E5ECF6",
            "gridcolor": "white",
            "gridwidth": 2,
            "linecolor": "white",
            "showbackground": true,
            "ticks": "",
            "zerolinecolor": "white"
           },
           "zaxis": {
            "backgroundcolor": "#E5ECF6",
            "gridcolor": "white",
            "gridwidth": 2,
            "linecolor": "white",
            "showbackground": true,
            "ticks": "",
            "zerolinecolor": "white"
           }
          },
          "shapedefaults": {
           "line": {
            "color": "#2a3f5f"
           }
          },
          "ternary": {
           "aaxis": {
            "gridcolor": "white",
            "linecolor": "white",
            "ticks": ""
           },
           "baxis": {
            "gridcolor": "white",
            "linecolor": "white",
            "ticks": ""
           },
           "bgcolor": "#E5ECF6",
           "caxis": {
            "gridcolor": "white",
            "linecolor": "white",
            "ticks": ""
           }
          },
          "title": {
           "x": 0.05
          },
          "xaxis": {
           "automargin": true,
           "gridcolor": "white",
           "linecolor": "white",
           "ticks": "",
           "title": {
            "standoff": 15
           },
           "zerolinecolor": "white",
           "zerolinewidth": 2
          },
          "yaxis": {
           "automargin": true,
           "gridcolor": "white",
           "linecolor": "white",
           "ticks": "",
           "title": {
            "standoff": 15
           },
           "zerolinecolor": "white",
           "zerolinewidth": 2
          }
         }
        },
        "title": {
         "text": "Nominal Investment (2024-2050)"
        },
        "xaxis": {
         "tickvals": [
          2024,
          2025,
          2026,
          2027,
          2028,
          2029,
          2030,
          2031,
          2032,
          2033,
          2034,
          2035,
          2036,
          2037,
          2038,
          2039,
          2040,
          2041,
          2042,
          2043,
          2044,
          2045,
          2046,
          2047,
          2048,
          2049,
          2050
         ],
         "title": {
          "text": "Year"
         }
        },
        "yaxis": {
         "title": {
          "text": "Investment"
         }
        }
       }
      }
     },
     "metadata": {},
     "output_type": "display_data"
    },
    {
     "data": {
      "application/vnd.plotly.v1+json": {
       "config": {
        "plotlyServerURL": "https://plot.ly"
       },
       "data": [
        {
         "name": "Yearly Real Investment",
         "type": "bar",
         "x": [
          2024,
          2025,
          2026,
          2027,
          2028,
          2029,
          2030,
          2031,
          2032,
          2033,
          2034,
          2035,
          2036,
          2037,
          2038,
          2039,
          2040,
          2041,
          2042,
          2043,
          2044,
          2045,
          2046,
          2047,
          2048,
          2049,
          2050
         ],
         "y": [
          535.1111285290511,
          528.9854005461348,
          515.1409435031193,
          512.077885398795,
          513.4208250445988,
          516.4344780522373,
          517.4218981343112,
          513.9479184479571,
          512.1003731656953,
          508.02262244890323,
          503.729888147931,
          499.25300509334363,
          493.51565075625206,
          487.68852919627113,
          481.69891886590113,
          475.4943916518381,
          469.48840934816894,
          463.1620609003766,
          456.81772211759977,
          450.46321253720004,
          444.10565494689115,
          437.7515778643211,
          427.2772266969675,
          417.0047855949162,
          406.9331675722525,
          397.06108708535555,
          387.38708404135474
         ]
        }
       ],
       "layout": {
        "annotations": [
         {
          "showarrow": false,
          "text": "Cumulative until 2045: 10835.83",
          "x": 2045,
          "y": 267.5555642645256
         }
        ],
        "template": {
         "data": {
          "bar": [
           {
            "error_x": {
             "color": "#2a3f5f"
            },
            "error_y": {
             "color": "#2a3f5f"
            },
            "marker": {
             "line": {
              "color": "#E5ECF6",
              "width": 0.5
             },
             "pattern": {
              "fillmode": "overlay",
              "size": 10,
              "solidity": 0.2
             }
            },
            "type": "bar"
           }
          ],
          "barpolar": [
           {
            "marker": {
             "line": {
              "color": "#E5ECF6",
              "width": 0.5
             },
             "pattern": {
              "fillmode": "overlay",
              "size": 10,
              "solidity": 0.2
             }
            },
            "type": "barpolar"
           }
          ],
          "carpet": [
           {
            "aaxis": {
             "endlinecolor": "#2a3f5f",
             "gridcolor": "white",
             "linecolor": "white",
             "minorgridcolor": "white",
             "startlinecolor": "#2a3f5f"
            },
            "baxis": {
             "endlinecolor": "#2a3f5f",
             "gridcolor": "white",
             "linecolor": "white",
             "minorgridcolor": "white",
             "startlinecolor": "#2a3f5f"
            },
            "type": "carpet"
           }
          ],
          "choropleth": [
           {
            "colorbar": {
             "outlinewidth": 0,
             "ticks": ""
            },
            "type": "choropleth"
           }
          ],
          "contour": [
           {
            "colorbar": {
             "outlinewidth": 0,
             "ticks": ""
            },
            "colorscale": [
             [
              0,
              "#0d0887"
             ],
             [
              0.1111111111111111,
              "#46039f"
             ],
             [
              0.2222222222222222,
              "#7201a8"
             ],
             [
              0.3333333333333333,
              "#9c179e"
             ],
             [
              0.4444444444444444,
              "#bd3786"
             ],
             [
              0.5555555555555556,
              "#d8576b"
             ],
             [
              0.6666666666666666,
              "#ed7953"
             ],
             [
              0.7777777777777778,
              "#fb9f3a"
             ],
             [
              0.8888888888888888,
              "#fdca26"
             ],
             [
              1,
              "#f0f921"
             ]
            ],
            "type": "contour"
           }
          ],
          "contourcarpet": [
           {
            "colorbar": {
             "outlinewidth": 0,
             "ticks": ""
            },
            "type": "contourcarpet"
           }
          ],
          "heatmap": [
           {
            "colorbar": {
             "outlinewidth": 0,
             "ticks": ""
            },
            "colorscale": [
             [
              0,
              "#0d0887"
             ],
             [
              0.1111111111111111,
              "#46039f"
             ],
             [
              0.2222222222222222,
              "#7201a8"
             ],
             [
              0.3333333333333333,
              "#9c179e"
             ],
             [
              0.4444444444444444,
              "#bd3786"
             ],
             [
              0.5555555555555556,
              "#d8576b"
             ],
             [
              0.6666666666666666,
              "#ed7953"
             ],
             [
              0.7777777777777778,
              "#fb9f3a"
             ],
             [
              0.8888888888888888,
              "#fdca26"
             ],
             [
              1,
              "#f0f921"
             ]
            ],
            "type": "heatmap"
           }
          ],
          "heatmapgl": [
           {
            "colorbar": {
             "outlinewidth": 0,
             "ticks": ""
            },
            "colorscale": [
             [
              0,
              "#0d0887"
             ],
             [
              0.1111111111111111,
              "#46039f"
             ],
             [
              0.2222222222222222,
              "#7201a8"
             ],
             [
              0.3333333333333333,
              "#9c179e"
             ],
             [
              0.4444444444444444,
              "#bd3786"
             ],
             [
              0.5555555555555556,
              "#d8576b"
             ],
             [
              0.6666666666666666,
              "#ed7953"
             ],
             [
              0.7777777777777778,
              "#fb9f3a"
             ],
             [
              0.8888888888888888,
              "#fdca26"
             ],
             [
              1,
              "#f0f921"
             ]
            ],
            "type": "heatmapgl"
           }
          ],
          "histogram": [
           {
            "marker": {
             "pattern": {
              "fillmode": "overlay",
              "size": 10,
              "solidity": 0.2
             }
            },
            "type": "histogram"
           }
          ],
          "histogram2d": [
           {
            "colorbar": {
             "outlinewidth": 0,
             "ticks": ""
            },
            "colorscale": [
             [
              0,
              "#0d0887"
             ],
             [
              0.1111111111111111,
              "#46039f"
             ],
             [
              0.2222222222222222,
              "#7201a8"
             ],
             [
              0.3333333333333333,
              "#9c179e"
             ],
             [
              0.4444444444444444,
              "#bd3786"
             ],
             [
              0.5555555555555556,
              "#d8576b"
             ],
             [
              0.6666666666666666,
              "#ed7953"
             ],
             [
              0.7777777777777778,
              "#fb9f3a"
             ],
             [
              0.8888888888888888,
              "#fdca26"
             ],
             [
              1,
              "#f0f921"
             ]
            ],
            "type": "histogram2d"
           }
          ],
          "histogram2dcontour": [
           {
            "colorbar": {
             "outlinewidth": 0,
             "ticks": ""
            },
            "colorscale": [
             [
              0,
              "#0d0887"
             ],
             [
              0.1111111111111111,
              "#46039f"
             ],
             [
              0.2222222222222222,
              "#7201a8"
             ],
             [
              0.3333333333333333,
              "#9c179e"
             ],
             [
              0.4444444444444444,
              "#bd3786"
             ],
             [
              0.5555555555555556,
              "#d8576b"
             ],
             [
              0.6666666666666666,
              "#ed7953"
             ],
             [
              0.7777777777777778,
              "#fb9f3a"
             ],
             [
              0.8888888888888888,
              "#fdca26"
             ],
             [
              1,
              "#f0f921"
             ]
            ],
            "type": "histogram2dcontour"
           }
          ],
          "mesh3d": [
           {
            "colorbar": {
             "outlinewidth": 0,
             "ticks": ""
            },
            "type": "mesh3d"
           }
          ],
          "parcoords": [
           {
            "line": {
             "colorbar": {
              "outlinewidth": 0,
              "ticks": ""
             }
            },
            "type": "parcoords"
           }
          ],
          "pie": [
           {
            "automargin": true,
            "type": "pie"
           }
          ],
          "scatter": [
           {
            "fillpattern": {
             "fillmode": "overlay",
             "size": 10,
             "solidity": 0.2
            },
            "type": "scatter"
           }
          ],
          "scatter3d": [
           {
            "line": {
             "colorbar": {
              "outlinewidth": 0,
              "ticks": ""
             }
            },
            "marker": {
             "colorbar": {
              "outlinewidth": 0,
              "ticks": ""
             }
            },
            "type": "scatter3d"
           }
          ],
          "scattercarpet": [
           {
            "marker": {
             "colorbar": {
              "outlinewidth": 0,
              "ticks": ""
             }
            },
            "type": "scattercarpet"
           }
          ],
          "scattergeo": [
           {
            "marker": {
             "colorbar": {
              "outlinewidth": 0,
              "ticks": ""
             }
            },
            "type": "scattergeo"
           }
          ],
          "scattergl": [
           {
            "marker": {
             "colorbar": {
              "outlinewidth": 0,
              "ticks": ""
             }
            },
            "type": "scattergl"
           }
          ],
          "scattermapbox": [
           {
            "marker": {
             "colorbar": {
              "outlinewidth": 0,
              "ticks": ""
             }
            },
            "type": "scattermapbox"
           }
          ],
          "scatterpolar": [
           {
            "marker": {
             "colorbar": {
              "outlinewidth": 0,
              "ticks": ""
             }
            },
            "type": "scatterpolar"
           }
          ],
          "scatterpolargl": [
           {
            "marker": {
             "colorbar": {
              "outlinewidth": 0,
              "ticks": ""
             }
            },
            "type": "scatterpolargl"
           }
          ],
          "scatterternary": [
           {
            "marker": {
             "colorbar": {
              "outlinewidth": 0,
              "ticks": ""
             }
            },
            "type": "scatterternary"
           }
          ],
          "surface": [
           {
            "colorbar": {
             "outlinewidth": 0,
             "ticks": ""
            },
            "colorscale": [
             [
              0,
              "#0d0887"
             ],
             [
              0.1111111111111111,
              "#46039f"
             ],
             [
              0.2222222222222222,
              "#7201a8"
             ],
             [
              0.3333333333333333,
              "#9c179e"
             ],
             [
              0.4444444444444444,
              "#bd3786"
             ],
             [
              0.5555555555555556,
              "#d8576b"
             ],
             [
              0.6666666666666666,
              "#ed7953"
             ],
             [
              0.7777777777777778,
              "#fb9f3a"
             ],
             [
              0.8888888888888888,
              "#fdca26"
             ],
             [
              1,
              "#f0f921"
             ]
            ],
            "type": "surface"
           }
          ],
          "table": [
           {
            "cells": {
             "fill": {
              "color": "#EBF0F8"
             },
             "line": {
              "color": "white"
             }
            },
            "header": {
             "fill": {
              "color": "#C8D4E3"
             },
             "line": {
              "color": "white"
             }
            },
            "type": "table"
           }
          ]
         },
         "layout": {
          "annotationdefaults": {
           "arrowcolor": "#2a3f5f",
           "arrowhead": 0,
           "arrowwidth": 1
          },
          "autotypenumbers": "strict",
          "coloraxis": {
           "colorbar": {
            "outlinewidth": 0,
            "ticks": ""
           }
          },
          "colorscale": {
           "diverging": [
            [
             0,
             "#8e0152"
            ],
            [
             0.1,
             "#c51b7d"
            ],
            [
             0.2,
             "#de77ae"
            ],
            [
             0.3,
             "#f1b6da"
            ],
            [
             0.4,
             "#fde0ef"
            ],
            [
             0.5,
             "#f7f7f7"
            ],
            [
             0.6,
             "#e6f5d0"
            ],
            [
             0.7,
             "#b8e186"
            ],
            [
             0.8,
             "#7fbc41"
            ],
            [
             0.9,
             "#4d9221"
            ],
            [
             1,
             "#276419"
            ]
           ],
           "sequential": [
            [
             0,
             "#0d0887"
            ],
            [
             0.1111111111111111,
             "#46039f"
            ],
            [
             0.2222222222222222,
             "#7201a8"
            ],
            [
             0.3333333333333333,
             "#9c179e"
            ],
            [
             0.4444444444444444,
             "#bd3786"
            ],
            [
             0.5555555555555556,
             "#d8576b"
            ],
            [
             0.6666666666666666,
             "#ed7953"
            ],
            [
             0.7777777777777778,
             "#fb9f3a"
            ],
            [
             0.8888888888888888,
             "#fdca26"
            ],
            [
             1,
             "#f0f921"
            ]
           ],
           "sequentialminus": [
            [
             0,
             "#0d0887"
            ],
            [
             0.1111111111111111,
             "#46039f"
            ],
            [
             0.2222222222222222,
             "#7201a8"
            ],
            [
             0.3333333333333333,
             "#9c179e"
            ],
            [
             0.4444444444444444,
             "#bd3786"
            ],
            [
             0.5555555555555556,
             "#d8576b"
            ],
            [
             0.6666666666666666,
             "#ed7953"
            ],
            [
             0.7777777777777778,
             "#fb9f3a"
            ],
            [
             0.8888888888888888,
             "#fdca26"
            ],
            [
             1,
             "#f0f921"
            ]
           ]
          },
          "colorway": [
           "#636efa",
           "#EF553B",
           "#00cc96",
           "#ab63fa",
           "#FFA15A",
           "#19d3f3",
           "#FF6692",
           "#B6E880",
           "#FF97FF",
           "#FECB52"
          ],
          "font": {
           "color": "#2a3f5f"
          },
          "geo": {
           "bgcolor": "white",
           "lakecolor": "white",
           "landcolor": "#E5ECF6",
           "showlakes": true,
           "showland": true,
           "subunitcolor": "white"
          },
          "hoverlabel": {
           "align": "left"
          },
          "hovermode": "closest",
          "mapbox": {
           "style": "light"
          },
          "paper_bgcolor": "white",
          "plot_bgcolor": "#E5ECF6",
          "polar": {
           "angularaxis": {
            "gridcolor": "white",
            "linecolor": "white",
            "ticks": ""
           },
           "bgcolor": "#E5ECF6",
           "radialaxis": {
            "gridcolor": "white",
            "linecolor": "white",
            "ticks": ""
           }
          },
          "scene": {
           "xaxis": {
            "backgroundcolor": "#E5ECF6",
            "gridcolor": "white",
            "gridwidth": 2,
            "linecolor": "white",
            "showbackground": true,
            "ticks": "",
            "zerolinecolor": "white"
           },
           "yaxis": {
            "backgroundcolor": "#E5ECF6",
            "gridcolor": "white",
            "gridwidth": 2,
            "linecolor": "white",
            "showbackground": true,
            "ticks": "",
            "zerolinecolor": "white"
           },
           "zaxis": {
            "backgroundcolor": "#E5ECF6",
            "gridcolor": "white",
            "gridwidth": 2,
            "linecolor": "white",
            "showbackground": true,
            "ticks": "",
            "zerolinecolor": "white"
           }
          },
          "shapedefaults": {
           "line": {
            "color": "#2a3f5f"
           }
          },
          "ternary": {
           "aaxis": {
            "gridcolor": "white",
            "linecolor": "white",
            "ticks": ""
           },
           "baxis": {
            "gridcolor": "white",
            "linecolor": "white",
            "ticks": ""
           },
           "bgcolor": "#E5ECF6",
           "caxis": {
            "gridcolor": "white",
            "linecolor": "white",
            "ticks": ""
           }
          },
          "title": {
           "x": 0.05
          },
          "xaxis": {
           "automargin": true,
           "gridcolor": "white",
           "linecolor": "white",
           "ticks": "",
           "title": {
            "standoff": 15
           },
           "zerolinecolor": "white",
           "zerolinewidth": 2
          },
          "yaxis": {
           "automargin": true,
           "gridcolor": "white",
           "linecolor": "white",
           "ticks": "",
           "title": {
            "standoff": 15
           },
           "zerolinecolor": "white",
           "zerolinewidth": 2
          }
         }
        },
        "title": {
         "text": "Real Investment (2024-2050)"
        },
        "xaxis": {
         "tickvals": [
          2024,
          2025,
          2026,
          2027,
          2028,
          2029,
          2030,
          2031,
          2032,
          2033,
          2034,
          2035,
          2036,
          2037,
          2038,
          2039,
          2040,
          2041,
          2042,
          2043,
          2044,
          2045,
          2046,
          2047,
          2048,
          2049,
          2050
         ],
         "title": {
          "text": "Year"
         }
        },
        "yaxis": {
         "title": {
          "text": "Investment (Adjusted for Inflation)"
         }
        }
       }
      }
     },
     "metadata": {},
     "output_type": "display_data"
    }
   ],
   "source": [
    "import plotly.graph_objects as go\n",
    "\n",
    "# Group by year and summing up the investments for all countries\n",
    "grouped_df = country_final_investment_df.groupby('year').sum().reset_index()\n",
    "\n",
    "# Calculate the cumulative investment until 2045 for both nominal and real investments\n",
    "cumulative_nominal_2045 = grouped_df['nominal_investment'][grouped_df['year'] <= 2045].sum()\n",
    "cumulative_real_2045 = grouped_df['real_investment'][grouped_df['year'] <= 2045].sum()\n",
    "\n",
    "# Plot Nominal Investment\n",
    "fig1 = go.Figure()\n",
    "fig1.add_trace(go.Bar(x=grouped_df['year'],\n",
    "                      y=grouped_df['nominal_investment'],\n",
    "                      name='Yearly Nominal Investment'))\n",
    "fig1.add_annotation(text=f\"Cumulative until 2045: {cumulative_nominal_2045:.2f}\",\n",
    "                    x=2045,\n",
    "                    y=grouped_df['nominal_investment'].max() / 2,\n",
    "                    showarrow=False)\n",
    "fig1.update_layout(title='Nominal Investment (2024-2050)',\n",
    "                   xaxis_title='Year',\n",
    "                   yaxis_title='Investment',\n",
    "                   xaxis=dict(tickvals=list(range(2024, 2051))))\n",
    "fig1.show()\n",
    "\n",
    "# Plot Real Investment\n",
    "fig2 = go.Figure()\n",
    "fig2.add_trace(go.Bar(x=grouped_df['year'],\n",
    "                      y=grouped_df['real_investment'],\n",
    "                      name='Yearly Real Investment'))\n",
    "fig2.add_annotation(text=f\"Cumulative until 2045: {cumulative_real_2045:.2f}\",\n",
    "                    x=2045,\n",
    "                    y=grouped_df['real_investment'].max() / 2,\n",
    "                    showarrow=False)\n",
    "fig2.update_layout(title='Real Investment (2024-2050)',\n",
    "                   xaxis_title='Year',\n",
    "                   yaxis_title='Investment (Adjusted for Inflation)',\n",
    "                   xaxis=dict(tickvals=list(range(2024, 2051))))\n",
    "fig2.show()\n"
   ]
  },
  {
   "cell_type": "code",
   "execution_count": 35,
   "metadata": {
    "pycharm": {
     "name": "#%%\n"
    }
   },
   "outputs": [
    {
     "name": "stdout",
     "output_type": "stream",
     "text": [
      "  country  year asset_type  production  reserves  reserves_life\n",
      "0     C_1  2023  producing    4197.500  221254.1      52.710923\n",
      "1     C_2  2023  producing     955.935   32204.9      33.689424\n",
      "2     C_3  2023  producing    1625.345   57145.1      35.158751\n",
      "3     C_4  2023  producing     311.710   13691.7      43.924481\n",
      "4     C_5  2023  producing     609.550   20719.2      33.990977\n"
     ]
    }
   ],
   "source": [
    "# 1. Add asset column\n",
    "forecasted_producing_df['asset_type'] = 'producing'\n",
    "forecasted_ud_df['asset_type'] = 'under_development'\n",
    "forecasted_discovered_df['asset_type'] = 'discovered'\n",
    "forecasted_ytf_df['asset_type'] = 'ytf'\n",
    "\n",
    "# 2. Concatenate dataframes\n",
    "combined_df = pd.concat([forecasted_producing_df, forecasted_ud_df, forecasted_discovered_df, forecasted_ytf_df])\n",
    "\n",
    "# 3. Reshape the dataframe\n",
    "# Keep only the necessary columns\n",
    "combined_df = combined_df[['country', 'year', 'asset_type', 'production', 'reserves']]\n",
    "\n",
    "# Convert production and reserves to float, in case they aren't already\n",
    "combined_df['production'] = combined_df['production'].astype(float)\n",
    "combined_df['reserves'] = combined_df['reserves'].astype(float)\n",
    "\n",
    "# Calculate Reserves Life (RL) and handle potential division by zero (will result in inf values)\n",
    "combined_df['reserves_life'] = combined_df['reserves'] / combined_df['production']\n",
    "combined_df['reserves_life'].replace([np.inf, -np.inf], 0, inplace=True)\n",
    "\n",
    "print(combined_df.head())\n"
   ]
  },
  {
   "cell_type": "code",
   "execution_count": 36,
   "metadata": {
    "pycharm": {
     "name": "#%%\n"
    }
   },
   "outputs": [
    {
     "name": "stdout",
     "output_type": "stream",
     "text": [
      "     country  year         asset_type    production      reserves  \\\n",
      "4777   Total  2024         discovered      0.000000  2.138196e+05   \n",
      "4778   Total  2024  under_development    451.199472  1.281506e+05   \n",
      "4779   Total  2024                ytf      0.000000  1.085686e+06   \n",
      "4780   Total  2025         discovered      0.000000  2.138196e+05   \n",
      "4781   Total  2025  under_development    561.448026  1.275892e+05   \n",
      "...      ...   ...                ...           ...           ...   \n",
      "4881   Total  2046          producing  12382.568990  2.376151e+05   \n",
      "4882   Total  2047          producing  11884.668459  2.257304e+05   \n",
      "4883   Total  2048          producing  11422.230633  2.143082e+05   \n",
      "4884   Total  2049          producing  10992.406835  2.033158e+05   \n",
      "4885   Total  2050          producing  10592.604347  1.927232e+05   \n",
      "\n",
      "      reserves_life  \n",
      "4777       0.000000  \n",
      "4778     284.022053  \n",
      "4779       0.000000  \n",
      "4780       0.000000  \n",
      "4781     227.250158  \n",
      "...             ...  \n",
      "4881      19.189481  \n",
      "4882      18.993412  \n",
      "4883      18.762375  \n",
      "4884      18.496019  \n",
      "4885      18.194125  \n",
      "\n",
      "[109 rows x 6 columns]\n"
     ]
    }
   ],
   "source": [
    "# Group by year and asset_type\n",
    "grouped_totals = combined_df.groupby(['year', 'asset_type']).agg({\n",
    "    'production': 'sum',\n",
    "    'reserves': 'sum'\n",
    "}).reset_index()\n",
    "\n",
    "# Calculate reserves life for the aggregated values\n",
    "grouped_totals['reserves_life'] = grouped_totals['reserves'] / grouped_totals['production']\n",
    "grouped_totals['reserves_life'].replace([np.inf, -np.inf], 0, inplace=True)\n",
    "\n",
    "# Add a 'country' column with value 'Total'\n",
    "grouped_totals['country'] = 'Total'\n",
    "\n",
    "# Append the grouped totals to the original dataframe\n",
    "combined_df = pd.concat([combined_df, grouped_totals], ignore_index=True)\n",
    "\n",
    "print(combined_df.tail(len(grouped_totals)))\n"
   ]
  },
  {
   "cell_type": "code",
   "execution_count": 37,
   "metadata": {
    "pycharm": {
     "name": "#%%\n"
    }
   },
   "outputs": [
    {
     "name": "stdout",
     "output_type": "stream",
     "text": [
      "  country  year  capacity cost_real  development cost_real  exploration_real  \\\n",
      "0     C_1  2024            0.000007              21.303488               0.0   \n",
      "1     C_1  2025            0.000009              21.949341               0.0   \n",
      "2     C_1  2026            0.000011              22.399759               0.0   \n",
      "3     C_1  2027            0.000013              22.639995               0.0   \n",
      "4     C_1  2028            0.000014              22.001001               0.0   \n",
      "\n",
      "       total  \n",
      "0  21.303495  \n",
      "1  21.949351  \n",
      "2  22.399770  \n",
      "3  22.640008  \n",
      "4  22.001015  \n"
     ]
    }
   ],
   "source": [
    "# 1. Rename columns\n",
    "rename_dict = {\n",
    "    'capex': 'capacity cost',\n",
    "    'dev_cost': 'development cost',\n",
    "    'find_cost': 'exploration'\n",
    "}\n",
    "country_final_investment_df = country_final_investment_df.rename(columns=rename_dict)\n",
    "\n",
    "# 2. Calculate real values with cumulative inflation\n",
    "# First, calculate cumulative inflation\n",
    "inflation_df['cumulative_inflation'] = (1 + inflation_df['inflation']).cumprod()\n",
    "\n",
    "# Merge the cumulative inflation to the main dataframe\n",
    "country_final_investment_df = country_final_investment_df.merge(inflation_df[['year', 'cumulative_inflation']], on='year', how='left')\n",
    "\n",
    "# Calculate the real values\n",
    "for col in ['capacity cost', 'development cost', 'exploration']:\n",
    "    country_final_investment_df[col + '_real'] = country_final_investment_df[col] / country_final_investment_df['cumulative_inflation']\n",
    "\n",
    "# 3. Create the 'total' column\n",
    "columns_to_sum = ['capacity cost_real', 'development cost_real', 'exploration_real']\n",
    "country_final_investment_df['total'] = country_final_investment_df[columns_to_sum].sum(axis=1)\n",
    "\n",
    "# Keep only the desired columns\n",
    "final_columns = ['country', 'year', 'capacity cost_real', 'development cost_real', 'exploration_real', 'total']\n",
    "country_final_investment_df = country_final_investment_df[final_columns]\n",
    "\n",
    "print(country_final_investment_df.head())\n"
   ]
  },
  {
   "cell_type": "code",
   "execution_count": 38,
   "metadata": {
    "pycharm": {
     "name": "#%%\n"
    }
   },
   "outputs": [
    {
     "name": "stdout",
     "output_type": "stream",
     "text": [
      "     country  year  capacity cost_real  development cost_real  \\\n",
      "1426     C_6  2050            3.769438               4.612486   \n",
      "1427     C_7  2050            0.043714               0.051845   \n",
      "1428     C_8  2050            0.265200               0.400809   \n",
      "1429     C_9  2050            0.541040               0.595878   \n",
      "1430   Total  2050          109.954505             276.944233   \n",
      "\n",
      "      exploration_real       total  \n",
      "1426          0.000000    8.381925  \n",
      "1427          0.000000    0.095558  \n",
      "1428          0.000000    0.666008  \n",
      "1429          0.000000    1.136918  \n",
      "1430          0.382479  387.281216  \n"
     ]
    }
   ],
   "source": [
    "# 1. Group by year and compute the sum\n",
    "yearly_totals = country_final_investment_df.groupby('year').sum().reset_index()\n",
    "\n",
    "# 2. Set country to 'Total' for these rows\n",
    "yearly_totals['country'] = 'Total'\n",
    "\n",
    "# 3. Append the yearly totals to the original dataframe\n",
    "country_final_investment_df = pd.concat([country_final_investment_df, yearly_totals], sort=False).sort_values(by=['year', 'country']).reset_index(drop=True)\n",
    "\n",
    "print(country_final_investment_df.tail())\n"
   ]
  },
  {
   "cell_type": "code",
   "execution_count": 39,
   "metadata": {
    "pycharm": {
     "name": "#%%\n"
    }
   },
   "outputs": [],
   "source": [
    "combined_df['year'] = combined_df['year'].astype(int)\n",
    "demand_df['year'] = demand_df['year'].astype(int)\n",
    "country_final_investment_df['year'] = country_final_investment_df['year'].astype(int)"
   ]
  },
  {
   "cell_type": "code",
   "execution_count": 40,
   "metadata": {
    "pycharm": {
     "name": "#%%\n"
    }
   },
   "outputs": [],
   "source": [
    "# --- Start of Data Preparation ---\n",
    "# Assuming you've loaded your data into respective DataFrames\n",
    "# combined_df, demand_df, country_final_investment_df\n",
    "\n",
    "# Divide the production by 365\n",
    "combined_df['production'] /= 365\n",
    "\n",
    "# Divide the demand by 365\n",
    "demand_df['demand'] /= 365\n",
    "\n",
    "# Rename the columns as needed\n",
    "country_final_investment_df.rename(columns={'capex': 'capacity cost', \n",
    "                                            'dev_cost': 'development cost', \n",
    "                                            'find_cost': 'exploration'}, inplace=True)\n",
    "\n",
    "# Sorting years for the cumulative calculation\n",
    "country_final_investment_df.sort_values(by='year', inplace=True)"
   ]
  },
  {
   "cell_type": "code",
   "execution_count": 41,
   "metadata": {
    "pycharm": {
     "name": "#%%\n"
    }
   },
   "outputs": [
    {
     "data": {
      "text/html": [
       "\n",
       "        <iframe\n",
       "            width=\"100%\"\n",
       "            height=\"650\"\n",
       "            src=\"http://127.0.0.1:8050/\"\n",
       "            frameborder=\"0\"\n",
       "            allowfullscreen\n",
       "            \n",
       "        ></iframe>\n",
       "        "
      ],
      "text/plain": [
       "<IPython.lib.display.IFrame at 0x7fab99743cd0>"
      ]
     },
     "metadata": {},
     "output_type": "display_data"
    }
   ],
   "source": [
    "import pandas as pd\n",
    "import dash\n",
    "from dash import dcc, html, dash_table\n",
    "from dash.dependencies import Input, Output\n",
    "import plotly.express as px\n",
    "import plotly.graph_objects as go\n",
    "\n",
    "\n",
    "# --- End of Data Preparation ---\n",
    "\n",
    "app = dash.Dash(__name__)\n",
    "\n",
    "app.layout = html.Div([\n",
    "    html.H1(\"Dashboard for Supply and Required Upstream Investment\", style={'textAlign': 'center', 'color': 'white'}),\n",
    "\n",
    "    dcc.Dropdown(\n",
    "        id='country-selector',\n",
    "        options=[{'label': country, 'value': country} for country in combined_df['country'].unique()],\n",
    "        value='Total',\n",
    "        clearable=False\n",
    "    ),\n",
    "\n",
    "    dcc.Graph(id='supply-graph'),\n",
    "    dcc.Graph(id='costs-graph'),\n",
    "    \n",
    "    html.H3(\"Cumulative Investments\", style={'textAlign': 'center', 'color': 'white'}),\n",
    "    dash_table.DataTable(\n",
    "        id='cumulative-investments-table',\n",
    "        columns=[{\"name\": i, \"id\": i} for i in ['year', 'cumulative_investment']],\n",
    "        style_header={'backgroundColor': 'rgb(30, 30, 30)'},\n",
    "        style_cell={'backgroundColor': 'rgb(50, 50, 50)', 'color': 'white'}\n",
    "    )\n",
    "])\n",
    "\n",
    "@app.callback(\n",
    "    [Output('supply-graph', 'figure'),\n",
    "     Output('costs-graph', 'figure'),\n",
    "     Output('cumulative-investments-table', 'data')],\n",
    "    [Input('country-selector', 'value')]\n",
    ")\n",
    "def update_graphs(selected_country):\n",
    "    filtered_df = combined_df[combined_df['country'] == selected_country]\n",
    "    \n",
    "    # Supply graph...\n",
    "    supply_fig = px.area(filtered_df, x='year', y='production', color='asset_type',\n",
    "                         title='Liquid Hydrocarbon Supply by Asset Type', labels={'production': 'Supply'},\n",
    "                         category_orders={\"asset_type\": [\"producing\", \"under_development\", \"discovered\", \"ytf\"]})\n",
    "    supply_fig.update_layout(yaxis_title=\"Million Barrel per Day\")\n",
    "    supply_fig.update_xaxes(range=[2024, filtered_df['year'].max()])  # Setting the initial date to 2024\n",
    "    if selected_country == \"Total\":\n",
    "        supply_fig.add_traces(go.Scatter(x=demand_df['year'], y=demand_df['demand'], \n",
    "                                         mode='lines+markers', name='Demand', line=dict(dash='dash')))\n",
    "    \n",
    "    # Costs graph...\n",
    "    costs_df = country_final_investment_df[country_final_investment_df['country'] == selected_country]\n",
    "    costs_fig = px.bar(costs_df, x='year', y=['development cost_real', 'capacity cost_real', 'exploration_real'],\n",
    "                       title='Required Upstream Investment')\n",
    "    costs_fig.update_layout(yaxis_title=\"Real 2023 Billion USD\")\n",
    "    costs_fig.update_xaxes(range=[2024, costs_df['year'].max()])  # Setting the initial date to 2024\n",
    "\n",
    "    # Getting cumulative investments for the selected country\n",
    "    costs_df['total_cost'] = costs_df[['development cost_real', 'capacity cost_real', 'exploration_real']].sum(axis=1)\n",
    "    costs_df['cumulative_investment'] = costs_df['total_cost'].cumsum()\n",
    "    cumulative_investments = costs_df[costs_df['year'].isin([2030, 2035, 2040, 2045, 2050])]\n",
    "    data = cumulative_investments[['year', 'cumulative_investment']].to_dict('records')\n",
    "\n",
    "    return supply_fig, costs_fig, data\n",
    "\n",
    "if __name__ == '__main__':\n",
    "    app.run_server(debug=True, port=8050)  # change to an open port\n",
    "\n"
   ]
  },
  {
   "cell_type": "markdown",
   "metadata": {},
   "source": [
    "The supply curve in the dashboard is different form the one in code [18], why is this? "
   ]
  },
  {
   "cell_type": "code",
   "execution_count": 42,
   "metadata": {
    "pycharm": {
     "name": "#%%\n"
    }
   },
   "outputs": [],
   "source": [
    "output_directory = \"/Users/mycomputer/Desktop/supply/03- Output/\"\n",
    "\n",
    "combined_df.to_csv(output_directory + \"combined_data.csv\", index=False)\n",
    "demand_df.to_csv(output_directory + \"demand_data.csv\", index=False)\n",
    "country_final_investment_df.to_csv(output_directory + \"investment_data.csv\", index=False)\n"
   ]
  },
  {
   "cell_type": "code",
   "execution_count": 43,
   "metadata": {
    "pycharm": {
     "name": "#%%\n"
    }
   },
   "outputs": [
    {
     "data": {
      "image/png": "[encoded data removed]",
      "text/plain": [
       "<Figure size 864x432 with 1 Axes>"
      ]
     },
     "metadata": {
      "needs_background": "light"
     },
     "output_type": "display_data"
    }
   ],
   "source": [
    "# Filter the combined_df for the year 2040\n",
    "df_2040_production = combined_df[(combined_df['year'] == 2040) & (combined_df['country'] != 'Total')]\n",
    "\n",
    "# Select columns 'country' and 'production'\n",
    "df_2040_production = df_2040_production[['country', 'production']]\n",
    "\n",
    "# Multiply the production by 0.365\n",
    "df_2040_production['production'] *= 0.365\n",
    "\n",
    "# Group the data by 'country' and calculate the total production in 2040\n",
    "total_production_2040 = df_2040_production.groupby('country')['production'].sum().reset_index()\n",
    "\n",
    "# Filter the country_final_investment_df for the year 2040\n",
    "df_2040_investment = country_final_investment_df[country_final_investment_df['year'] == 2040]\n",
    "\n",
    "# Select columns 'country' and 'total'\n",
    "df_2040_investment = df_2040_investment[['country', 'total']]\n",
    "\n",
    "# Merge the total production and total investment DataFrames on 'country'\n",
    "merged_df = pd.merge(total_production_2040, df_2040_investment, on='country')\n",
    "\n",
    "# Calculate the cost per barrel by dividing total investment by total production\n",
    "merged_df['cost_per_barrel'] = merged_df['total'] / merged_df['production']\n",
    "\n",
    "# Sort the DataFrame by 'cost_per_barrel' in ascending order\n",
    "sorted_df = merged_df.sort_values(by='cost_per_barrel')\n",
    "\n",
    "# Plot the cost curve\n",
    "import matplotlib.pyplot as plt\n",
    "\n",
    "plt.figure(figsize=(12, 6))\n",
    "plt.plot(sorted_df['production'].cumsum(), sorted_df['cost_per_barrel'])\n",
    "plt.xlabel('Cumulative Production (barrels)')\n",
    "plt.ylabel('Cost per Barrel (USD)')\n",
    "plt.title('Cost Curve for Upstream Investments in 2040')\n",
    "plt.grid(True)\n",
    "plt.show()\n"
   ]
  },
  {
   "cell_type": "code",
   "execution_count": 44,
   "metadata": {},
   "outputs": [
    {
     "data": {
      "text/html": [
       "<div>\n",
       "<style scoped>\n",
       "    .dataframe tbody tr th:only-of-type {\n",
       "        vertical-align: middle;\n",
       "    }\n",
       "\n",
       "    .dataframe tbody tr th {\n",
       "        vertical-align: top;\n",
       "    }\n",
       "\n",
       "    .dataframe thead th {\n",
       "        text-align: right;\n",
       "    }\n",
       "</style>\n",
       "<table border=\"1\" class=\"dataframe\">\n",
       "  <thead>\n",
       "    <tr style=\"text-align: right;\">\n",
       "      <th></th>\n",
       "      <th>country</th>\n",
       "      <th>category</th>\n",
       "      <th>2024</th>\n",
       "      <th>2025</th>\n",
       "      <th>2026</th>\n",
       "      <th>2027</th>\n",
       "      <th>2028</th>\n",
       "      <th>2029</th>\n",
       "      <th>2030</th>\n",
       "      <th>2031</th>\n",
       "      <th>...</th>\n",
       "      <th>2041</th>\n",
       "      <th>2042</th>\n",
       "      <th>2043</th>\n",
       "      <th>2044</th>\n",
       "      <th>2045</th>\n",
       "      <th>2046</th>\n",
       "      <th>2047</th>\n",
       "      <th>2048</th>\n",
       "      <th>2049</th>\n",
       "      <th>2050</th>\n",
       "    </tr>\n",
       "  </thead>\n",
       "  <tbody>\n",
       "    <tr>\n",
       "      <th>0</th>\n",
       "      <td>C_15</td>\n",
       "      <td>capex</td>\n",
       "      <td>0.0</td>\n",
       "      <td>0.0</td>\n",
       "      <td>0.0</td>\n",
       "      <td>0.0</td>\n",
       "      <td>0.0</td>\n",
       "      <td>0.0</td>\n",
       "      <td>0.0</td>\n",
       "      <td>0.0</td>\n",
       "      <td>...</td>\n",
       "      <td>0.0</td>\n",
       "      <td>0.0</td>\n",
       "      <td>0.0</td>\n",
       "      <td>0.0</td>\n",
       "      <td>0.0</td>\n",
       "      <td>0.0</td>\n",
       "      <td>0.0</td>\n",
       "      <td>0.0</td>\n",
       "      <td>0.0</td>\n",
       "      <td>0.0</td>\n",
       "    </tr>\n",
       "    <tr>\n",
       "      <th>1</th>\n",
       "      <td>C_43</td>\n",
       "      <td>capex</td>\n",
       "      <td>0.0</td>\n",
       "      <td>0.0</td>\n",
       "      <td>0.0</td>\n",
       "      <td>0.0</td>\n",
       "      <td>0.0</td>\n",
       "      <td>0.0</td>\n",
       "      <td>0.0</td>\n",
       "      <td>0.0</td>\n",
       "      <td>...</td>\n",
       "      <td>0.0</td>\n",
       "      <td>0.0</td>\n",
       "      <td>0.0</td>\n",
       "      <td>0.0</td>\n",
       "      <td>0.0</td>\n",
       "      <td>0.0</td>\n",
       "      <td>0.0</td>\n",
       "      <td>0.0</td>\n",
       "      <td>0.0</td>\n",
       "      <td>0.0</td>\n",
       "    </tr>\n",
       "    <tr>\n",
       "      <th>2</th>\n",
       "      <td>C_24</td>\n",
       "      <td>capex</td>\n",
       "      <td>0.0</td>\n",
       "      <td>0.0</td>\n",
       "      <td>0.0</td>\n",
       "      <td>0.0</td>\n",
       "      <td>0.0</td>\n",
       "      <td>0.0</td>\n",
       "      <td>0.0</td>\n",
       "      <td>0.0</td>\n",
       "      <td>...</td>\n",
       "      <td>0.0</td>\n",
       "      <td>0.0</td>\n",
       "      <td>0.0</td>\n",
       "      <td>0.0</td>\n",
       "      <td>0.0</td>\n",
       "      <td>0.0</td>\n",
       "      <td>0.0</td>\n",
       "      <td>0.0</td>\n",
       "      <td>0.0</td>\n",
       "      <td>0.0</td>\n",
       "    </tr>\n",
       "    <tr>\n",
       "      <th>3</th>\n",
       "      <td>C_51</td>\n",
       "      <td>capex</td>\n",
       "      <td>0.0</td>\n",
       "      <td>0.0</td>\n",
       "      <td>0.0</td>\n",
       "      <td>0.0</td>\n",
       "      <td>0.0</td>\n",
       "      <td>0.0</td>\n",
       "      <td>0.0</td>\n",
       "      <td>0.0</td>\n",
       "      <td>...</td>\n",
       "      <td>0.0</td>\n",
       "      <td>0.0</td>\n",
       "      <td>0.0</td>\n",
       "      <td>0.0</td>\n",
       "      <td>0.0</td>\n",
       "      <td>0.0</td>\n",
       "      <td>0.0</td>\n",
       "      <td>0.0</td>\n",
       "      <td>0.0</td>\n",
       "      <td>0.0</td>\n",
       "    </tr>\n",
       "    <tr>\n",
       "      <th>4</th>\n",
       "      <td>C_40</td>\n",
       "      <td>capex</td>\n",
       "      <td>0.0</td>\n",
       "      <td>0.0</td>\n",
       "      <td>0.0</td>\n",
       "      <td>0.0</td>\n",
       "      <td>0.0</td>\n",
       "      <td>0.0</td>\n",
       "      <td>0.0</td>\n",
       "      <td>0.0</td>\n",
       "      <td>...</td>\n",
       "      <td>0.0</td>\n",
       "      <td>0.0</td>\n",
       "      <td>0.0</td>\n",
       "      <td>0.0</td>\n",
       "      <td>0.0</td>\n",
       "      <td>0.0</td>\n",
       "      <td>0.0</td>\n",
       "      <td>0.0</td>\n",
       "      <td>0.0</td>\n",
       "      <td>0.0</td>\n",
       "    </tr>\n",
       "  </tbody>\n",
       "</table>\n",
       "<p>5 rows × 29 columns</p>\n",
       "</div>"
      ],
      "text/plain": [
       "  country category  2024  2025  2026  2027  2028  2029  2030  2031  ...  2041  \\\n",
       "0    C_15    capex   0.0   0.0   0.0   0.0   0.0   0.0   0.0   0.0  ...   0.0   \n",
       "1    C_43    capex   0.0   0.0   0.0   0.0   0.0   0.0   0.0   0.0  ...   0.0   \n",
       "2    C_24    capex   0.0   0.0   0.0   0.0   0.0   0.0   0.0   0.0  ...   0.0   \n",
       "3    C_51    capex   0.0   0.0   0.0   0.0   0.0   0.0   0.0   0.0  ...   0.0   \n",
       "4    C_40    capex   0.0   0.0   0.0   0.0   0.0   0.0   0.0   0.0  ...   0.0   \n",
       "\n",
       "   2042  2043  2044  2045  2046  2047  2048  2049  2050  \n",
       "0   0.0   0.0   0.0   0.0   0.0   0.0   0.0   0.0   0.0  \n",
       "1   0.0   0.0   0.0   0.0   0.0   0.0   0.0   0.0   0.0  \n",
       "2   0.0   0.0   0.0   0.0   0.0   0.0   0.0   0.0   0.0  \n",
       "3   0.0   0.0   0.0   0.0   0.0   0.0   0.0   0.0   0.0  \n",
       "4   0.0   0.0   0.0   0.0   0.0   0.0   0.0   0.0   0.0  \n",
       "\n",
       "[5 rows x 29 columns]"
      ]
     },
     "execution_count": 44,
     "metadata": {},
     "output_type": "execute_result"
    }
   ],
   "source": [
    "final_cost_df.head()"
   ]
  },
  {
   "cell_type": "code",
   "execution_count": 45,
   "metadata": {},
   "outputs": [
    {
     "data": {
      "application/vnd.plotly.v1+json": {
       "config": {
        "plotlyServerURL": "https://plot.ly"
       },
       "data": [
        {
         "line": {
          "color": "#888888"
         },
         "mode": "lines",
         "name": "Max Cost",
         "type": "scatter",
         "x": [
          2024,
          2025,
          2026,
          2027,
          2028,
          2029,
          2030,
          2031,
          2032,
          2033,
          2034,
          2035,
          2036,
          2037,
          2038,
          2039,
          2040,
          2041,
          2042,
          2043,
          2044,
          2045,
          2046,
          2047,
          2048,
          2049,
          2050
         ],
         "y": [
          19.818,
          19.777,
          19.736,
          19.69500000000001,
          19.654,
          19.613,
          19.572,
          19.53100000000001,
          19.49000000000001,
          19.449,
          19.408,
          19.367,
          19.32600000000001,
          19.285,
          19.244,
          19.203,
          19.16200000000001,
          19.12100000000001,
          19.08,
          19.039,
          18.998,
          18.95700000000001,
          18.916,
          18.875,
          18.834,
          18.79300000000001,
          18.75200000000001
         ]
        },
        {
         "fill": "tonexty",
         "line": {
          "color": "#888888"
         },
         "mode": "lines",
         "name": "Min Cost",
         "type": "scatter",
         "x": [
          2024,
          2025,
          2026,
          2027,
          2028,
          2029,
          2030,
          2031,
          2032,
          2033,
          2034,
          2035,
          2036,
          2037,
          2038,
          2039,
          2040,
          2041,
          2042,
          2043,
          2044,
          2045,
          2046,
          2047,
          2048,
          2049,
          2050
         ],
         "y": [
          4.787999999999997,
          4.747,
          4.706000000000003,
          4.665000000000006,
          4.623999999999995,
          4.582999999999998,
          4.542000000000002,
          4.501000000000005,
          4.460000000000008,
          4.418999999999997,
          4.378,
          4.337000000000003,
          4.296000000000006,
          4.254999999999995,
          4.213999999999999,
          4.173000000000002,
          4.132000000000005,
          4.091000000000008,
          4.049999999999997,
          4.009,
          3.968000000000004,
          3.927000000000007,
          3.885999999999996,
          3.844999999999999,
          3.804000000000002,
          3.763000000000005,
          3.722000000000008
         ]
        }
       ],
       "layout": {
        "showlegend": false,
        "template": {
         "data": {
          "bar": [
           {
            "error_x": {
             "color": "#2a3f5f"
            },
            "error_y": {
             "color": "#2a3f5f"
            },
            "marker": {
             "line": {
              "color": "#E5ECF6",
              "width": 0.5
             },
             "pattern": {
              "fillmode": "overlay",
              "size": 10,
              "solidity": 0.2
             }
            },
            "type": "bar"
           }
          ],
          "barpolar": [
           {
            "marker": {
             "line": {
              "color": "#E5ECF6",
              "width": 0.5
             },
             "pattern": {
              "fillmode": "overlay",
              "size": 10,
              "solidity": 0.2
             }
            },
            "type": "barpolar"
           }
          ],
          "carpet": [
           {
            "aaxis": {
             "endlinecolor": "#2a3f5f",
             "gridcolor": "white",
             "linecolor": "white",
             "minorgridcolor": "white",
             "startlinecolor": "#2a3f5f"
            },
            "baxis": {
             "endlinecolor": "#2a3f5f",
             "gridcolor": "white",
             "linecolor": "white",
             "minorgridcolor": "white",
             "startlinecolor": "#2a3f5f"
            },
            "type": "carpet"
           }
          ],
          "choropleth": [
           {
            "colorbar": {
             "outlinewidth": 0,
             "ticks": ""
            },
            "type": "choropleth"
           }
          ],
          "contour": [
           {
            "colorbar": {
             "outlinewidth": 0,
             "ticks": ""
            },
            "colorscale": [
             [
              0,
              "#0d0887"
             ],
             [
              0.1111111111111111,
              "#46039f"
             ],
             [
              0.2222222222222222,
              "#7201a8"
             ],
             [
              0.3333333333333333,
              "#9c179e"
             ],
             [
              0.4444444444444444,
              "#bd3786"
             ],
             [
              0.5555555555555556,
              "#d8576b"
             ],
             [
              0.6666666666666666,
              "#ed7953"
             ],
             [
              0.7777777777777778,
              "#fb9f3a"
             ],
             [
              0.8888888888888888,
              "#fdca26"
             ],
             [
              1,
              "#f0f921"
             ]
            ],
            "type": "contour"
           }
          ],
          "contourcarpet": [
           {
            "colorbar": {
             "outlinewidth": 0,
             "ticks": ""
            },
            "type": "contourcarpet"
           }
          ],
          "heatmap": [
           {
            "colorbar": {
             "outlinewidth": 0,
             "ticks": ""
            },
            "colorscale": [
             [
              0,
              "#0d0887"
             ],
             [
              0.1111111111111111,
              "#46039f"
             ],
             [
              0.2222222222222222,
              "#7201a8"
             ],
             [
              0.3333333333333333,
              "#9c179e"
             ],
             [
              0.4444444444444444,
              "#bd3786"
             ],
             [
              0.5555555555555556,
              "#d8576b"
             ],
             [
              0.6666666666666666,
              "#ed7953"
             ],
             [
              0.7777777777777778,
              "#fb9f3a"
             ],
             [
              0.8888888888888888,
              "#fdca26"
             ],
             [
              1,
              "#f0f921"
             ]
            ],
            "type": "heatmap"
           }
          ],
          "heatmapgl": [
           {
            "colorbar": {
             "outlinewidth": 0,
             "ticks": ""
            },
            "colorscale": [
             [
              0,
              "#0d0887"
             ],
             [
              0.1111111111111111,
              "#46039f"
             ],
             [
              0.2222222222222222,
              "#7201a8"
             ],
             [
              0.3333333333333333,
              "#9c179e"
             ],
             [
              0.4444444444444444,
              "#bd3786"
             ],
             [
              0.5555555555555556,
              "#d8576b"
             ],
             [
              0.6666666666666666,
              "#ed7953"
             ],
             [
              0.7777777777777778,
              "#fb9f3a"
             ],
             [
              0.8888888888888888,
              "#fdca26"
             ],
             [
              1,
              "#f0f921"
             ]
            ],
            "type": "heatmapgl"
           }
          ],
          "histogram": [
           {
            "marker": {
             "pattern": {
              "fillmode": "overlay",
              "size": 10,
              "solidity": 0.2
             }
            },
            "type": "histogram"
           }
          ],
          "histogram2d": [
           {
            "colorbar": {
             "outlinewidth": 0,
             "ticks": ""
            },
            "colorscale": [
             [
              0,
              "#0d0887"
             ],
             [
              0.1111111111111111,
              "#46039f"
             ],
             [
              0.2222222222222222,
              "#7201a8"
             ],
             [
              0.3333333333333333,
              "#9c179e"
             ],
             [
              0.4444444444444444,
              "#bd3786"
             ],
             [
              0.5555555555555556,
              "#d8576b"
             ],
             [
              0.6666666666666666,
              "#ed7953"
             ],
             [
              0.7777777777777778,
              "#fb9f3a"
             ],
             [
              0.8888888888888888,
              "#fdca26"
             ],
             [
              1,
              "#f0f921"
             ]
            ],
            "type": "histogram2d"
           }
          ],
          "histogram2dcontour": [
           {
            "colorbar": {
             "outlinewidth": 0,
             "ticks": ""
            },
            "colorscale": [
             [
              0,
              "#0d0887"
             ],
             [
              0.1111111111111111,
              "#46039f"
             ],
             [
              0.2222222222222222,
              "#7201a8"
             ],
             [
              0.3333333333333333,
              "#9c179e"
             ],
             [
              0.4444444444444444,
              "#bd3786"
             ],
             [
              0.5555555555555556,
              "#d8576b"
             ],
             [
              0.6666666666666666,
              "#ed7953"
             ],
             [
              0.7777777777777778,
              "#fb9f3a"
             ],
             [
              0.8888888888888888,
              "#fdca26"
             ],
             [
              1,
              "#f0f921"
             ]
            ],
            "type": "histogram2dcontour"
           }
          ],
          "mesh3d": [
           {
            "colorbar": {
             "outlinewidth": 0,
             "ticks": ""
            },
            "type": "mesh3d"
           }
          ],
          "parcoords": [
           {
            "line": {
             "colorbar": {
              "outlinewidth": 0,
              "ticks": ""
             }
            },
            "type": "parcoords"
           }
          ],
          "pie": [
           {
            "automargin": true,
            "type": "pie"
           }
          ],
          "scatter": [
           {
            "fillpattern": {
             "fillmode": "overlay",
             "size": 10,
             "solidity": 0.2
            },
            "type": "scatter"
           }
          ],
          "scatter3d": [
           {
            "line": {
             "colorbar": {
              "outlinewidth": 0,
              "ticks": ""
             }
            },
            "marker": {
             "colorbar": {
              "outlinewidth": 0,
              "ticks": ""
             }
            },
            "type": "scatter3d"
           }
          ],
          "scattercarpet": [
           {
            "marker": {
             "colorbar": {
              "outlinewidth": 0,
              "ticks": ""
             }
            },
            "type": "scattercarpet"
           }
          ],
          "scattergeo": [
           {
            "marker": {
             "colorbar": {
              "outlinewidth": 0,
              "ticks": ""
             }
            },
            "type": "scattergeo"
           }
          ],
          "scattergl": [
           {
            "marker": {
             "colorbar": {
              "outlinewidth": 0,
              "ticks": ""
             }
            },
            "type": "scattergl"
           }
          ],
          "scattermapbox": [
           {
            "marker": {
             "colorbar": {
              "outlinewidth": 0,
              "ticks": ""
             }
            },
            "type": "scattermapbox"
           }
          ],
          "scatterpolar": [
           {
            "marker": {
             "colorbar": {
              "outlinewidth": 0,
              "ticks": ""
             }
            },
            "type": "scatterpolar"
           }
          ],
          "scatterpolargl": [
           {
            "marker": {
             "colorbar": {
              "outlinewidth": 0,
              "ticks": ""
             }
            },
            "type": "scatterpolargl"
           }
          ],
          "scatterternary": [
           {
            "marker": {
             "colorbar": {
              "outlinewidth": 0,
              "ticks": ""
             }
            },
            "type": "scatterternary"
           }
          ],
          "surface": [
           {
            "colorbar": {
             "outlinewidth": 0,
             "ticks": ""
            },
            "colorscale": [
             [
              0,
              "#0d0887"
             ],
             [
              0.1111111111111111,
              "#46039f"
             ],
             [
              0.2222222222222222,
              "#7201a8"
             ],
             [
              0.3333333333333333,
              "#9c179e"
             ],
             [
              0.4444444444444444,
              "#bd3786"
             ],
             [
              0.5555555555555556,
              "#d8576b"
             ],
             [
              0.6666666666666666,
              "#ed7953"
             ],
             [
              0.7777777777777778,
              "#fb9f3a"
             ],
             [
              0.8888888888888888,
              "#fdca26"
             ],
             [
              1,
              "#f0f921"
             ]
            ],
            "type": "surface"
           }
          ],
          "table": [
           {
            "cells": {
             "fill": {
              "color": "#EBF0F8"
             },
             "line": {
              "color": "white"
             }
            },
            "header": {
             "fill": {
              "color": "#C8D4E3"
             },
             "line": {
              "color": "white"
             }
            },
            "type": "table"
           }
          ]
         },
         "layout": {
          "annotationdefaults": {
           "arrowcolor": "#2a3f5f",
           "arrowhead": 0,
           "arrowwidth": 1
          },
          "autotypenumbers": "strict",
          "coloraxis": {
           "colorbar": {
            "outlinewidth": 0,
            "ticks": ""
           }
          },
          "colorscale": {
           "diverging": [
            [
             0,
             "#8e0152"
            ],
            [
             0.1,
             "#c51b7d"
            ],
            [
             0.2,
             "#de77ae"
            ],
            [
             0.3,
             "#f1b6da"
            ],
            [
             0.4,
             "#fde0ef"
            ],
            [
             0.5,
             "#f7f7f7"
            ],
            [
             0.6,
             "#e6f5d0"
            ],
            [
             0.7,
             "#b8e186"
            ],
            [
             0.8,
             "#7fbc41"
            ],
            [
             0.9,
             "#4d9221"
            ],
            [
             1,
             "#276419"
            ]
           ],
           "sequential": [
            [
             0,
             "#0d0887"
            ],
            [
             0.1111111111111111,
             "#46039f"
            ],
            [
             0.2222222222222222,
             "#7201a8"
            ],
            [
             0.3333333333333333,
             "#9c179e"
            ],
            [
             0.4444444444444444,
             "#bd3786"
            ],
            [
             0.5555555555555556,
             "#d8576b"
            ],
            [
             0.6666666666666666,
             "#ed7953"
            ],
            [
             0.7777777777777778,
             "#fb9f3a"
            ],
            [
             0.8888888888888888,
             "#fdca26"
            ],
            [
             1,
             "#f0f921"
            ]
           ],
           "sequentialminus": [
            [
             0,
             "#0d0887"
            ],
            [
             0.1111111111111111,
             "#46039f"
            ],
            [
             0.2222222222222222,
             "#7201a8"
            ],
            [
             0.3333333333333333,
             "#9c179e"
            ],
            [
             0.4444444444444444,
             "#bd3786"
            ],
            [
             0.5555555555555556,
             "#d8576b"
            ],
            [
             0.6666666666666666,
             "#ed7953"
            ],
            [
             0.7777777777777778,
             "#fb9f3a"
            ],
            [
             0.8888888888888888,
             "#fdca26"
            ],
            [
             1,
             "#f0f921"
            ]
           ]
          },
          "colorway": [
           "#636efa",
           "#EF553B",
           "#00cc96",
           "#ab63fa",
           "#FFA15A",
           "#19d3f3",
           "#FF6692",
           "#B6E880",
           "#FF97FF",
           "#FECB52"
          ],
          "font": {
           "color": "#2a3f5f"
          },
          "geo": {
           "bgcolor": "white",
           "lakecolor": "white",
           "landcolor": "#E5ECF6",
           "showlakes": true,
           "showland": true,
           "subunitcolor": "white"
          },
          "hoverlabel": {
           "align": "left"
          },
          "hovermode": "closest",
          "mapbox": {
           "style": "light"
          },
          "paper_bgcolor": "white",
          "plot_bgcolor": "#E5ECF6",
          "polar": {
           "angularaxis": {
            "gridcolor": "white",
            "linecolor": "white",
            "ticks": ""
           },
           "bgcolor": "#E5ECF6",
           "radialaxis": {
            "gridcolor": "white",
            "linecolor": "white",
            "ticks": ""
           }
          },
          "scene": {
           "xaxis": {
            "backgroundcolor": "#E5ECF6",
            "gridcolor": "white",
            "gridwidth": 2,
            "linecolor": "white",
            "showbackground": true,
            "ticks": "",
            "zerolinecolor": "white"
           },
           "yaxis": {
            "backgroundcolor": "#E5ECF6",
            "gridcolor": "white",
            "gridwidth": 2,
            "linecolor": "white",
            "showbackground": true,
            "ticks": "",
            "zerolinecolor": "white"
           },
           "zaxis": {
            "backgroundcolor": "#E5ECF6",
            "gridcolor": "white",
            "gridwidth": 2,
            "linecolor": "white",
            "showbackground": true,
            "ticks": "",
            "zerolinecolor": "white"
           }
          },
          "shapedefaults": {
           "line": {
            "color": "#2a3f5f"
           }
          },
          "ternary": {
           "aaxis": {
            "gridcolor": "white",
            "linecolor": "white",
            "ticks": ""
           },
           "baxis": {
            "gridcolor": "white",
            "linecolor": "white",
            "ticks": ""
           },
           "bgcolor": "#E5ECF6",
           "caxis": {
            "gridcolor": "white",
            "linecolor": "white",
            "ticks": ""
           }
          },
          "title": {
           "x": 0.05
          },
          "xaxis": {
           "automargin": true,
           "gridcolor": "white",
           "linecolor": "white",
           "ticks": "",
           "title": {
            "standoff": 15
           },
           "zerolinecolor": "white",
           "zerolinewidth": 2
          },
          "yaxis": {
           "automargin": true,
           "gridcolor": "white",
           "linecolor": "white",
           "ticks": "",
           "title": {
            "standoff": 15
           },
           "zerolinecolor": "white",
           "zerolinewidth": 2
          }
         }
        },
        "title": {
         "text": "Development Cost Envelope 2024-2050"
        },
        "xaxis": {
         "title": {
          "text": "Year"
         }
        },
        "yaxis": {
         "title": {
          "text": "Development Cost"
         }
        }
       }
      }
     },
     "metadata": {},
     "output_type": "display_data"
    },
    {
     "name": "stderr",
     "output_type": "stream",
     "text": [
      "/var/folders/wp/nqt7cdnn0cg8jt96stsjyf100000gn/T/ipykernel_98094/2450473225.py:62: SettingWithCopyWarning:\n",
      "\n",
      "\n",
      "A value is trying to be set on a copy of a slice from a DataFrame.\n",
      "Try using .loc[row_indexer,col_indexer] = value instead\n",
      "\n",
      "See the caveats in the documentation: https://pandas.pydata.org/pandas-docs/stable/user_guide/indexing.html#returning-a-view-versus-a-copy\n",
      "\n",
      "/var/folders/wp/nqt7cdnn0cg8jt96stsjyf100000gn/T/ipykernel_98094/2450473225.py:63: SettingWithCopyWarning:\n",
      "\n",
      "\n",
      "A value is trying to be set on a copy of a slice from a DataFrame.\n",
      "Try using .loc[row_indexer,col_indexer] = value instead\n",
      "\n",
      "See the caveats in the documentation: https://pandas.pydata.org/pandas-docs/stable/user_guide/indexing.html#returning-a-view-versus-a-copy\n",
      "\n"
     ]
    }
   ],
   "source": [
    "import pandas as pd\n",
    "import plotly.graph_objects as go\n",
    "\n",
    "# Assuming your dataframe is named 'final_cost_df'\n",
    "# We need to work with the 'dev_cost' category.\n",
    "dev_cost_df = final_cost_df[final_cost_df['category'] == 'dev_cost']\n",
    "\n",
    "# Extract columns, assuming they're integers representing years and not strings.\n",
    "year_columns = [col for col in dev_cost_df.columns if isinstance(col, int)]\n",
    "\n",
    "# If for some reason we couldn't find the year columns above, it might be because they're not integers.\n",
    "# We will then try excluding known non-year columns.\n",
    "if not year_columns:\n",
    "    known_non_year_columns = ['country', 'category']\n",
    "    year_columns = [col for col in dev_cost_df.columns if col not in known_non_year_columns]\n",
    "\n",
    "# Calculate the minimum and maximum costs per year.\n",
    "min_costs = dev_cost_df[year_columns].min()\n",
    "max_costs = dev_cost_df[year_columns].max()\n",
    "\n",
    "# Create the envelope chart.\n",
    "fig = go.Figure()\n",
    "\n",
    "# Upper boundary of the envelope.\n",
    "fig.add_trace(\n",
    "    go.Scatter(\n",
    "        x=year_columns,\n",
    "        y=max_costs,\n",
    "        line=dict(color='#888888'),\n",
    "        mode='lines',\n",
    "        name='Max Cost',\n",
    "        fill=None\n",
    "    )\n",
    ")\n",
    "\n",
    "# Lower boundary and fill the area in-between.\n",
    "fig.add_trace(\n",
    "    go.Scatter(\n",
    "        x=year_columns,\n",
    "        y=min_costs,\n",
    "        line=dict(color='#888888'),\n",
    "        mode='lines',\n",
    "        name='Min Cost',\n",
    "        fill='tonexty',  # Fills the area between the 'Max Cost' and 'Min Cost'.\n",
    "    )\n",
    ")\n",
    "\n",
    "# Enhance layout and design.\n",
    "fig.update_layout(\n",
    "    title='Development Cost Envelope 2024-2050',\n",
    "    xaxis_title='Year',\n",
    "    yaxis_title='Development Cost',\n",
    "    showlegend=False\n",
    ")\n",
    "\n",
    "# Show the figure.\n",
    "fig.show()\n"
   ]
  }
 ],
 "metadata": {
  "colab": {
   "provenance": []
  },
  "kernelspec": {
   "display_name": "Python 3 (ipykernel)",
   "language": "python",
   "name": "python3"
  },
  "language_info": {
   "codemirror_mode": {
    "name": "ipython",
    "version": 3
   },
   "file_extension": ".py",
   "mimetype": "text/x-python",
   "name": "python",
   "nbconvert_exporter": "python",
   "pygments_lexer": "ipython3",
   "version": "3.11.5"
  }
 },
 "nbformat": 4,
 "nbformat_minor": 1
}
